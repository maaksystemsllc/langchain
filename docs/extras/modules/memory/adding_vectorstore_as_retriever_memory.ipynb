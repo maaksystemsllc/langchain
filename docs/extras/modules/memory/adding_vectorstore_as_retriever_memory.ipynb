{
 "cells": [
  {
   "attachments": {},
   "cell_type": "markdown",
   "metadata": {},
   "source": [
    "# Vector Store as retriever to Memory in ConversationChain to store multiple chat histories.\n",
    "\n",
    "This notebook goes over how to use a Vector Store as retriever to Memory class with a `ConversationChain` to store multiple chat histories based on metadata. \n",
    "\n",
    "We will add the [VectorStoreRetrieverMemory](https://api.python.langchain.com/en/latest/memory/langchain.memory.vectorstore.VectorStoreRetrieverMemory.html#langchain.memory.vectorstore.VectorStoreRetrieverMemory) class, using the [PGVector](https://api.python.langchain.com/en/latest/vectorstores/langchain.vectorstores.pgvector.PGVector.html#langchain.vectorstores.pgvector.PGVector) vector store."
   ]
  },
  {
   "cell_type": "code",
   "execution_count": 1,
   "metadata": {},
   "outputs": [],
   "source": [
    "from langchain.llms import OpenAI\n",
    "from langchain.chains import ConversationChain\n",
    "from langchain.memory import VectorStoreRetrieverMemory\n",
    "from langchain.vectorstores.pgvector import PGVector\n",
    "from langchain.embeddings.openai import OpenAIEmbeddings"
   ]
  },
  {
   "attachments": {},
   "cell_type": "markdown",
   "metadata": {},
   "source": [
    "We initialize our `VectorStore` and some metadata to work with."
   ]
  },
  {
   "cell_type": "code",
   "execution_count": 2,
   "metadata": {},
   "outputs": [],
   "source": [
    "vectorstore = PGVector(\n",
    "    collection_name=\"<COLLECTION_NAME>\",\n",
    "    connection_string=\"<CONNECTION_STRING>\",\n",
    "    embedding_function=OpenAIEmbeddings()\n",
    ")\n",
    "\n",
    "metadata = {\n",
    "    \"user_name\": \"John\",\n",
    "}"
   ]
  },
  {
   "attachments": {},
   "cell_type": "markdown",
   "metadata": {},
   "source": [
    "Then, we create our `ConversationChain` using the `VectorStoreRetrieverMemory`. Notice that in order to store and retrieve the chat history corresponding to the metadata, we need to pass it to the `VectorStoreRetrieverMemory` and `VectorStore` search_kwargs filter."
   ]
  },
  {
   "cell_type": "code",
   "execution_count": 3,
   "metadata": {},
   "outputs": [],
   "source": [
    "memory = VectorStoreRetrieverMemory(\n",
    "    retriever=vectorstore.as_retriever(\n",
    "        search_kwargs=dict(\n",
    "            filter=metadata,\n",
    "        )\n",
    "    ),\n",
    "    metadata=metadata\n",
    ")\n",
    "\n",
    "chain = ConversationChain(\n",
    "    llm=OpenAI(temperature=0),\n",
    "    memory=memory,\n",
    ")"
   ]
  },
  {
   "cell_type": "code",
   "execution_count": 4,
   "metadata": {},
   "outputs": [
    {
     "data": {
      "text/plain": [
       "' Your name is John.'"
      ]
     },
     "execution_count": 4,
     "metadata": {},
     "output_type": "execute_result"
    }
   ],
   "source": [
    "chain.run(input=\"Hi, my name is John.\")\n",
    "chain.run(input=\"What is my name?\")"
   ]
  },
  {
   "attachments": {},
   "cell_type": "markdown",
   "metadata": {},
   "source": [
    "Using new metadata, we can use the chain without the chat histories getting mixed up."
   ]
  },
  {
   "cell_type": "code",
   "execution_count": 5,
   "metadata": {},
   "outputs": [],
   "source": [
    "new_metadata = {\n",
    "    \"user_name\": \"Doe\",\n",
    "}\n",
    "\n",
    "memory = VectorStoreRetrieverMemory(\n",
    "    retriever=vectorstore.as_retriever(\n",
    "        search_kwargs=dict(\n",
    "            filter=new_metadata,\n",
    "        )\n",
    "    ),\n",
    "    metadata=new_metadata\n",
    ")\n",
    "\n",
    "chain = ConversationChain(\n",
    "    llm=OpenAI(temperature=0),\n",
    "    memory=memory,\n",
    ")"
   ]
  },
  {
   "attachments": {},
   "cell_type": "markdown",
   "metadata": {},
   "source": [
    "\n",
    "First, we check that the chain does not know our name."
   ]
  },
  {
   "cell_type": "code",
   "execution_count": 6,
   "metadata": {},
   "outputs": [
    {
     "data": {
      "text/plain": [
       "' I don't know what your name is. Can you tell me your name? '"
      ]
     },
     "execution_count": 6,
     "metadata": {},
     "output_type": "execute_result"
    }
   ],
   "source": [
    "chain.run(input=\"What is my name?\")"
   ]
  },
  {
   "cell_type": "code",
   "execution_count": 7,
   "metadata": {},
   "outputs": [
    {
     "data": {
      "text/plain": [
       "' Your name is Doe.'"
      ]
     },
     "execution_count": 7,
     "metadata": {},
     "output_type": "execute_result"
    }
   ],
   "source": [
    "chain.run(input=\"Hi, my name is Doe.\")\n",
    "chain.run(input=\"What is my name?\")"
   ]
  }
 ],
 "metadata": {
  "kernelspec": {
   "display_name": ".venv",
   "language": "python",
   "name": "python3"
  },
  "language_info": {
   "codemirror_mode": {
    "name": "ipython",
    "version": 3
   },
   "file_extension": ".py",
   "mimetype": "text/x-python",
   "name": "python",
   "nbconvert_exporter": "python",
   "pygments_lexer": "ipython3",
   "version": "3.11.4"
  },
  "orig_nbformat": 4
 },
 "nbformat": 4,
 "nbformat_minor": 2
}
