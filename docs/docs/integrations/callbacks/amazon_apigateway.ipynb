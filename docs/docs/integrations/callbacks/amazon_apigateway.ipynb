{
 "cells": [
  {
   "cell_type": "markdown",
   "metadata": {},
   "source": [
    "# Amazon API Gateway WebSocket API\n",
    "\n",
    "> A WebSocket API in API Gateway is a collection of WebSocket routes that are integrated with backend HTTP endpoints, Lambda functions, or other AWS services. You can use API Gateway features to help you with all aspects of the API lifecycle, from creation through monitoring your production APIs. For more information, see [Working with WebSocket APIs](https://docs.aws.amazon.com/apigateway/latest/developerguide/apigateway-websocket-api.html).\n",
    "\n",
    "This notebook shows how LangChain Callback can be used to stream the LLM's response to a client via API Gateway WebSocket API.\n"
   ]
  },
  {
   "cell_type": "markdown",
   "metadata": {},
   "source": [
    "## Streaming Callback Handler\n",
    "\n",
    "Assuming we are using API Gateway and AWS Lambda to build an LLM chat application. Users will establish a WebSocket connection with API Gateway and send input to the LLM via Lambda. The Lambda will use LangChain to orchestrate the LLM and return the response to the client via API Gateway.\n",
    "\n",
    "Here is an example of a Lambda handler that uses LangChain Callback to stream the LLM's response to the client via API Gateway WebSocket API.\n"
   ]
  },
  {
   "cell_type": "code",
   "execution_count": null,
   "metadata": {},
   "outputs": [],
   "source": [
    "import json\n",
    "import os\n",
    "\n",
    "import boto3\n",
    "from langchain.callbacks import StreamingAmazonAPIGatewayWebSocketCallbackHandler\n",
    "from langchain.chains import ConversationChain\n",
    "from langchain.llms.openai import OpenAI\n",
    "from langchain.memory import ConversationBufferMemory, DynamoDBChatMessageHistory\n",
    "\n",
    "# environment variables\n",
    "session_table_name = os.environ[\"SessionTableName\"]\n",
    "\n",
    "# init dependencies outside of handler, with streaming enabled\n",
    "llm = OpenAI(streaming=True)\n",
    "boto3_session = boto3.session.Session()\n",
    "\n",
    "\n",
    "def handler(event, context):\n",
    "    # parse event\n",
    "    domain = event[\"requestContext\"][\"domainName\"]\n",
    "    stage = event[\"requestContext\"][\"stage\"]\n",
    "    connection_id = event[\"requestContext\"][\"connectionId\"]\n",
    "    body = json.loads(event[\"body\"])\n",
    "\n",
    "    # set callback handler\n",
    "    # so that every time the model generates a chunk of response,\n",
    "    # it is sent to the client\n",
    "    callback = StreamingAmazonAPIGatewayWebSocketCallbackHandler(\n",
    "        boto3_session,\n",
    "        # see https://docs.aws.amazon.com/apigateway/latest/developerguide/apigateway-how-to-call-websocket-api-connections.html\n",
    "        f\"https://{domain}/{stage}\",\n",
    "        connection_id,\n",
    "        # format the websocket message\n",
    "        on_token=lambda t: json.dumps({\"kind\": \"token\", \"chunk\": t}),\n",
    "        on_end=lambda: json.dumps({\"kind\": \"end\"}),\n",
    "        on_err=lambda e: json.dumps({\"kind\": \"error\"}),\n",
    "    )\n",
    "    llm.callbacks = [callback]\n",
    "\n",
    "    history = DynamoDBChatMessageHistory(\n",
    "        table_name=session_table_name,\n",
    "        # use connection_id as session_id for simplicity.\n",
    "        # in production, you should design the session_id yourself\n",
    "        session_id=connection_id,\n",
    "        boto3_session=boto3_session,\n",
    "    )\n",
    "    memory = ConversationBufferMemory(chat_memory=history)\n",
    "    conversation = ConversationChain(llm=llm, memory=memory)\n",
    "\n",
    "    conversation.predict(input=body[\"input\"])\n",
    "\n",
    "    return {\"statusCode\": 200}"
   ]
  }
 ],
 "metadata": {
  "language_info": {
   "name": "python"
  }
 },
 "nbformat": 4,
 "nbformat_minor": 2
}
