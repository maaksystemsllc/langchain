{
 "cells": [
  {
   "cell_type": "markdown",
   "metadata": {},
   "source": [
    "# Video Transcript Loaders\n",
    "\n",
    "## Introduction\n",
    "\n",
    "This documentation explains how to use various video transcript loaders to extract transcripts from video files using different configurations of the Whisper model. Whisper is a versatile speech recognition model developed by OpenAI that supports various functionalities including speech-to-text transcription, speech translation, and language identification.\n",
    "\n",
    "The supported file formats are: `MP4`, `MKV`, `AVI`, `M4A`, `MP3`, `WEBM`, `MPGA`, `WAV`, `MPEG`, `OGG`\n",
    "\n",
    "## Installation\n",
    "\n",
    "Before using the loaders, ensure you have the necessary packages installed.\n",
    "\n",
    "```bash\n",
    "pip install --upgrade --quiet  langchain langchain-community openai-whisper\n",
    "```\n",
    "\n",
    "## Additional requirements\n",
    "\n",
    "FFmpeg: Required for video format conversions\n",
    "\n",
    "```bash\n",
    "# on Ubuntu or Debian\n",
    "sudo apt update && sudo apt install ffmpeg\n",
    "\n",
    "# on Arch Linux\n",
    "sudo pacman -S ffmpeg\n",
    "\n",
    "# on MacOS using Homebrew (https://brew.sh/)\n",
    "brew install ffmpeg\n",
    "\n",
    "# on Windows using direct download:\n",
    "Download from https://ffmpeg.org/download.html and add the executable to your PATH.\n",
    "\n",
    "# on Windows using Chocolatey (https://chocolatey.org/)\n",
    "choco install ffmpeg\n",
    "\n",
    "# on Windows using Scoop (https://scoop.sh/)\n",
    "scoop install ffmpeg\n",
    "```"
   ]
  },
  {
   "cell_type": "markdown",
   "metadata": {},
   "source": [
    "## Examples"
   ]
  },
  {
   "cell_type": "markdown",
   "metadata": {},
   "source": [
    "### AzureWhisperVideoSegmentLoader\n",
    "\n",
    "A document loader that processes video files, converts them to .ogg,\n",
    "and transcribes them using Azure OpenAI's API."
   ]
  },
  {
   "cell_type": "code",
   "execution_count": null,
   "metadata": {},
   "outputs": [],
   "source": [
    "from langchain_community.document_loaders import AzureWhisperVideoSegmentLoader\n",
    "\n",
    "video_path = \"<video_path>\"\n",
    "api_key = \"<api_key>\"\n",
    "api_version = \"<api_version>\"\n",
    "azure_endpoint = \"<azure_endpoint>\"\n",
    "deployment_id = \"<deployment_id>\"\n",
    "\n",
    "loader = AzureWhisperVideoSegmentLoader(\n",
    "    video_path=video_path, \n",
    "    deployment_id=deployment_id, \n",
    "    api_key=api_key, \n",
    "    api_version=api_version,\n",
    "    azure_endpoint=azure_endpoint)\n",
    "\n",
    "documents = loader.lazy_load()"
   ]
  },
  {
   "cell_type": "code",
   "execution_count": null,
   "metadata": {},
   "outputs": [],
   "source": [
    "for doc in documents:\n",
    "    print(doc)\n",
    "    print()"
   ]
  },
  {
   "cell_type": "raw",
   "metadata": {},
   "source": [
    "page_content=' CUDA, a parallel computing platform that allows you to use your GPU for more than just playing video games.' \n",
    "metadata={'id': 0, 'seek': 0, 'start': '0:00', 'end': '0:06', \n",
    "          'tokens': [50364, 29777, 7509, 11, 257, 8952, 15866, 3663, 300, 4045, 291, 281, 764, 428, 18407, 337, 544, 813, 445, 2433, 960, 2813, 13, 50682], \n",
    "          'temperature': 0.009999999776482582, \n",
    "          'avg_logprob': -0.2555030286312103, \n",
    "          'compression_ratio': 1.5751445293426514, \n",
    "          'no_speech_prob': 0.04143614321947098, \n",
    "          'source': 'video_path'}\n",
    "\n",
    "page_content=' Compute Unified Device Architecture was developed by NVIDIA in 2007, based on the prior work of Ian Buck and John Nichols.' \n",
    "metadata={'id': 1, 'seek': 0, 'start': '0:06', 'end': '0:14', \n",
    "          'tokens': [50682, 6620, 1169, 1156, 2587, 50140, 43049, 390, 4743, 538, 426, 3958, 6914, 294, 12656, 11, 2361, 322, 264, 4059, 589, 295, 19595, 22006, 293, 2619, 17102, 19385, 13, 51042], \n",
    "          'temperature': 0.009999999776482582, \n",
    "          'avg_logprob': -0.2555030286312103, \n",
    "          'compression_ratio': 1.5751445293426514, \n",
    "          'no_speech_prob': 0.04143614321947098, \n",
    "          'source': 'video_path'}\n"
   ]
  },
  {
   "cell_type": "markdown",
   "metadata": {},
   "source": [
    "### AzureWhisperVideoParagraphLoader\n",
    "\n",
    "A document loader that processes video files, converts them to .ogg, and transcribes them \n",
    "into paragraphs with predefined sentence size using Azure OpenAI's API."
   ]
  },
  {
   "cell_type": "code",
   "execution_count": null,
   "metadata": {},
   "outputs": [],
   "source": [
    "from langchain_community.document_loaders import AzureWhisperVideoParagraphLoader\n",
    "\n",
    "video_path = \"<video_path>\"\n",
    "api_key = \"<api_key>\"\n",
    "api_version = \"<api_version>\"\n",
    "azure_endpoint = \"<azure_endpoint>\"\n",
    "deployment_id = \"<deployment_id>\"\n",
    "paragraph_sentence_size = 3\n",
    "\n",
    "loader = AzureWhisperVideoParagraphLoader(\n",
    "    video_path=video_path, \n",
    "    deployment_id=deployment_id, \n",
    "    api_key=api_key, \n",
    "    api_version=api_version,\n",
    "    azure_endpoint=azure_endpoint,\n",
    "    paragraph_sentence_size = paragraph_sentence_size)\n",
    "\n",
    "documents = loader.lazy_load()"
   ]
  },
  {
   "cell_type": "code",
   "execution_count": null,
   "metadata": {},
   "outputs": [],
   "source": [
    "for doc in documents:\n",
    "    print(doc)\n",
    "    print()"
   ]
  },
  {
   "cell_type": "raw",
   "metadata": {
    "vscode": {
     "languageId": "raw"
    }
   },
   "source": [
    "page_content='CUDA, a parallel computing platform that allows you to use your GPU for more than just playing video games. Compute Unified Device Architecture was developed by NVIDIA in 2007, based on the prior work of Ian Buck and John Nichols. Since then, CUDA has revolutionized the world by allowing humans to compute large blocks of data in parallel, which has unlocked the true potential of the deep neural networks behind artificial intelligence.' \n",
    "metadata={'start_time': '0:00', 'end_time': '0:23', \n",
    "          'source': 'video_path', \n",
    "          'temperature': 0.009999999776482582, \n",
    "          'avg_logprob': -0.25411951541900635}"
   ]
  },
  {
   "cell_type": "markdown",
   "metadata": {},
   "source": [
    "### OpenAIWhisperVideoSegmentLoader\n",
    "\n",
    "A document loader that processes video files, converts them to .ogg,\n",
    "and transcribes them using OpenAI's API."
   ]
  },
  {
   "cell_type": "code",
   "execution_count": null,
   "metadata": {},
   "outputs": [],
   "source": [
    "from langchain_community.document_loaders import OpenAIWhisperVideoSegmentLoader\n",
    "\n",
    "video_path = \"<video_path>\"\n",
    "api_key = \"<api_key>\"\n",
    "\n",
    "loader = OpenAIWhisperVideoSegmentLoader(\n",
    "    video_path=video_path, api_key=api_key\n",
    "    )\n",
    "\n",
    "documents = loader.lazy_load()"
   ]
  },
  {
   "cell_type": "code",
   "execution_count": null,
   "metadata": {},
   "outputs": [],
   "source": [
    "for doc in documents:\n",
    "    print(doc)\n",
    "    print()"
   ]
  },
  {
   "cell_type": "raw",
   "metadata": {
    "vscode": {
     "languageId": "raw"
    }
   },
   "source": [
    "page_content=' CUDA, a parallel computing platform that allows you to use your GPU for more than just playing video games.' \n",
    "metadata={'id': 0, 'seek': 0, 'start': '0:00', 'end': '0:06', \n",
    "          'tokens': [50364, 29777, 7509, 11, 257, 8952, 15866, 3663, 300, 4045, 291, 281, 764, 428, 18407, 337, 544,813, 445, 2433, 960, 2813, 13, 50682], \n",
    "          'temperature': 0.009999999776482582, \n",
    "          'avg_logprob': -0.2555030286312103, \n",
    "          'compression_ratio': 1.5751445293426514, \n",
    "          'no_speech_prob': 0.04143614321947098, \n",
    "          'source': video_path}\n",
    "\n",
    "page_content=' Compute Unified Device Architecture was developed by NVIDIA in 2007, based on the prior work of Ian Buck and John Nichols.' \n",
    "metadata={'id': 1, 'seek': 0, 'start': '0:06', 'end': '0:14', \n",
    "          'tokens': [50682, 6620, 1169, 1156, 2587, 50140, 43049, 390, 4743, 538, 426, 3958, 6914, 294, 12656, 11, 2361, 322, 264, 4059, 589, 295, 19595, 22006, 293, 2619, 17102, 19385, 13, 51042], \n",
    "          'temperature': 0.009999999776482582, \n",
    "          'avg_logprob': -0.2555030286312103, \n",
    "          'compression_ratio': 1.5751445293426514, \n",
    "          'no_speech_prob': 0.04143614321947098, \n",
    "          'source': video_path}\n"
   ]
  },
  {
   "cell_type": "markdown",
   "metadata": {},
   "source": [
    "### OpenAIWhisperVideoParagraphLoader\n",
    "\n",
    "A document loader that processes video files, converts them to .ogg, and transcribes them \n",
    "into paragraphs with predefined sentence size using OpenAI's API."
   ]
  },
  {
   "cell_type": "code",
   "execution_count": null,
   "metadata": {},
   "outputs": [],
   "source": [
    "from langchain_community.document_loaders import OpenAIWhisperVideoParagraphLoader\n",
    "\n",
    "video_path = \"<video_path>\"\n",
    "api_key = \"<api_key>\"\n",
    "paragraph_sentence_size = 3\n",
    "\n",
    "loader = OpenAIWhisperVideoParagraphLoader(\n",
    "    video_path=video_path, api_key=api_key, paragraph_sentence_size = paragraph_sentence_size\n",
    "    )\n",
    "\n",
    "documents = loader.lazy_load()"
   ]
  },
  {
   "cell_type": "code",
   "execution_count": null,
   "metadata": {},
   "outputs": [],
   "source": [
    "for doc in documents:\n",
    "    print(doc)\n",
    "    print()"
   ]
  },
  {
   "cell_type": "raw",
   "metadata": {
    "vscode": {
     "languageId": "raw"
    }
   },
   "source": [
    "page_content='CUDA, a parallel computing platform that allows you to use your GPU for more than just playing video games. Compute Unified Device Architecture was developed by NVIDIA in 2007, based on the prior work of Ian Buck and John Nichols. Since then, CUDA has revolutionized the world by allowing humans to compute large blocks of data in parallel, which has unlocked the true potential of the deep neural networks behind artificial intelligence.' \n",
    "metadata={'start_time': '0:00', 'end_time': '0:23', \n",
    "          'source': video_path, \n",
    "          'temperature': 0.009999999776482582, \n",
    "          'avg_logprob': -0.25459781289100647}"
   ]
  },
  {
   "cell_type": "markdown",
   "metadata": {},
   "source": [
    "### LocalWhisperVideoSegmentLoader\n",
    "\n",
    "A document loader that processes video files and transcribes them using Whisper locally."
   ]
  },
  {
   "cell_type": "code",
   "execution_count": null,
   "metadata": {},
   "outputs": [],
   "source": [
    "from langchain_community.document_loaders import LocalWhisperVideoSegmentLoader\n",
    "\n",
    "video_path = \"<video_path>\"\n",
    "\n",
    "loader = LocalWhisperVideoSegmentLoader(video_path=video_path)\n",
    "documents = loader.lazy_load()"
   ]
  },
  {
   "cell_type": "code",
   "execution_count": null,
   "metadata": {},
   "outputs": [],
   "source": [
    "for doc in documents:\n",
    "    print(doc)\n",
    "    print()"
   ]
  },
  {
   "cell_type": "raw",
   "metadata": {
    "vscode": {
     "languageId": "raw"
    }
   },
   "source": [
    "page_content=' CUDA, a parallel computing platform that allows you to use your GPU for more than just playing video games.' \n",
    "metadata={'id': '0', 'seek': '0', 'start': '0:00', 'end': '0:06', \n",
    "          'tokens': [50364, 29777, 7509, 11, 257, 8952, 15866, 3663, 300, 4045, 291, 281, 764, 428, 18407, 337, 544, 813, 445, 2433, 960, 2813, 13, 50683], \n",
    "          'temperature': '0.01', \n",
    "          'avg_logprob': '-0.15081674624712038', \n",
    "          'compression_ratio': '1.6', \n",
    "          'no_speech_prob': '0.04463796317577362', \n",
    "          'source': video_path}\n",
    "\n",
    "page_content=' Compute Unified Device Architecture was developed by Nvidia in 2007 based on the prior work of Ian Buck and John Nichols.' \n",
    "metadata={'id': '1', 'seek': '0', 'start': '0:06', 'end': '0:14', \n",
    "          'tokens': [50683, 6620, 1169, 1156, 2587, 50140, 43049, 390, 4743, 538, 46284, 294, 12656, 2361, 322, 264, 4059, 589, 295, 19595, 22006, 293, 2619, 17102, 19385, 13, 51043], \n",
    "          'temperature': '0.01', \n",
    "          'avg_logprob': '-0.15081674624712038', \n",
    "          'compression_ratio': '1.6', \n",
    "          'no_speech_prob': '0.04463796317577362', \n",
    "          'source': video_path}"
   ]
  },
  {
   "cell_type": "markdown",
   "metadata": {},
   "source": [
    "### LocalWhisperVideoSegmentLoader\n",
    "\n",
    "A document loader that processes video files and transcribes them into paragraphs with predefined sentence size using Whisper locally."
   ]
  },
  {
   "cell_type": "code",
   "execution_count": null,
   "metadata": {},
   "outputs": [],
   "source": [
    "from langchain_community.document_loaders import LocalWhisperVideoParagraphLoader\n",
    "\n",
    "video_path = \"<video_path>\"\n",
    "paragraph_sentence_size = 3\n",
    "\n",
    "loader = LocalWhisperVideoParagraphLoader(video_path=video_path, paragraph_sentence_size = paragraph_sentence_size)\n",
    "documents = loader.lazy_load()"
   ]
  },
  {
   "cell_type": "code",
   "execution_count": null,
   "metadata": {},
   "outputs": [],
   "source": [
    "for doc in documents:\n",
    "    print(doc)\n",
    "    print()"
   ]
  },
  {
   "cell_type": "raw",
   "metadata": {
    "vscode": {
     "languageId": "raw"
    }
   },
   "source": [
    "page_content='CUDA, a parallel computing platform that allows you to use your GPU for more than just playing video games. Compute Unified Device Architecture was developed by Nvidia in 2007 based on the prior work of Ian Buck and John Nichols. Since then, CUDA has revolutionized the world by allowing humans to compute large blocks of data in parallel, which has unlocked the true potential of the deep neural networks behind artificial intelligence.' \n",
    "metadata={'start_time': '0:00', 'end_time': '0:23', \n",
    "          'source': video_path, \n",
    "          'temperature': 0.01, \n",
    "          'avg_logprob': -0.15081674624712038}"
   ]
  }
 ],
 "metadata": {
  "kernelspec": {
   "display_name": "langchain",
   "language": "python",
   "name": "python3"
  },
  "language_info": {
   "name": "python",
   "version": "3.11.8"
  }
 },
 "nbformat": 4,
 "nbformat_minor": 2
}
