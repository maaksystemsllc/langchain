{
 "cells": [
  {
   "cell_type": "markdown",
   "id": "4394a872",
   "metadata": {},
   "source": [
    "# Alibaba Cloud OSS File\n",
    "The following code demonstrates how to load an object from the Alibaba Cloud OSS as document."
   ]
  },
  {
   "cell_type": "code",
   "execution_count": 1,
   "id": "c43d811b",
   "metadata": {},
   "outputs": [],
   "source": [
    "# Install the required package\n",
    "# pip install oss2"
   ]
  },
  {
   "cell_type": "code",
   "execution_count": 2,
   "id": "5e16bae6",
   "metadata": {},
   "outputs": [],
   "source": [
    "from langchain_community.document_loaders.alibaba_oss_file_loader import (\n",
    "    AlibabaOSSFileLoader,\n",
    ")"
   ]
  },
  {
   "cell_type": "code",
   "execution_count": 4,
   "id": "f9816984",
   "metadata": {},
   "outputs": [],
   "source": [
    "loader = AlibabaOSSFileLoader(\n",
    "    \"your-bucket-name\",\n",
    "    \"your-object-key\",\n",
    "    \"your-endpoint\",\n",
    "    \"your-access-key-id\",\n",
    "    \"your-access-key-secret\",\n",
    ")"
   ]
  },
  {
   "cell_type": "code",
   "execution_count": null,
   "id": "6143b39b",
   "metadata": {},
   "outputs": [],
   "source": [
    "loader.load()"
   ]
  },
  {
   "cell_type": "markdown",
   "id": "b77aa18c",
   "metadata": {},
   "source": [
    "## Access a Publicly Accessible Object\n",
    "If the object you want to access allows anonymous user access, you can directly load the object without any authentication."
   ]
  },
  {
   "cell_type": "code",
   "execution_count": 7,
   "id": "df83d121",
   "metadata": {},
   "outputs": [],
   "source": [
    "loader = AlibabaOSSFileLoader(\"your-bucket-name\", \"your-object-key\", \"your-endpoint\")"
   ]
  },
  {
   "cell_type": "code",
   "execution_count": null,
   "id": "82a844ba",
   "metadata": {},
   "outputs": [],
   "source": [
    "loader.load()"
   ]
  }
 ],
 "metadata": {
  "kernelspec": {
   "display_name": "Python 3 (ipykernel)",
   "language": "python",
   "name": "python3"
  },
  "language_info": {
   "codemirror_mode": {
    "name": "ipython",
    "version": 3
   },
   "file_extension": ".py",
   "mimetype": "text/x-python",
   "name": "python",
   "nbconvert_exporter": "python",
   "pygments_lexer": "ipython3",
   "version": "3.10.11"
  }
 },
 "nbformat": 4,
 "nbformat_minor": 5
}
