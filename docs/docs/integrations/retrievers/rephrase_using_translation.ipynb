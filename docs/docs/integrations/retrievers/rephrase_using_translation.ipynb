{
 "cells": [
  {
   "cell_type": "markdown",
   "id": "ab66dd43",
   "metadata": {},
   "source": [
    "# LTOR_retriver\n",
    "\n",
    "[LTOR_retriver](https://arxiv.org/abs/2402.13500) is a technique used in this paper to Tailoring LLM personalization ith user profiles. However, this can also be used in normal retrivel task. \n",
    "This work expands the queries with the help of multilevel translation. Except translation, it uses basic BM25 algorithm\n",
    "\n",
    "This notebook goes over how to use a LTOR_retriver.\n",
    "\n"
   ]
  },
  {
   "cell_type": "code",
   "execution_count": null,
   "id": "a801b57c",
   "metadata": {},
   "outputs": [],
   "source": [
    "%pip install --upgrade --quiet  rank_bm25 transoformers torch sentencepiece"
   ]
  },
  {
   "cell_type": "code",
   "execution_count": null,
   "id": "393ac030",
   "metadata": {
    "tags": []
   },
   "outputs": [],
   "source": [
    "from langchain_community.retrievers import BM25Retriever\n",
    "from langchain_experimental.rephrase_using_translation import LTORQueryExpansion"
   ]
  },
  {
   "cell_type": "markdown",
   "id": "aaf80e7f",
   "metadata": {},
   "source": [
    "## Create New Retriever with Texts"
   ]
  },
  {
   "cell_type": "code",
   "execution_count": 9,
   "id": "98b1c017",
   "metadata": {
    "tags": []
   },
   "outputs": [],
   "source": [
    "retriever = BM25Retriever.from_texts(\n",
    "    [\"Hey, are you ok?\", \"I walked my dog\", \"lets meet for dinner\", \"hello\", \"foo bar\"]\n",
    ")"
   ]
  },
  {
   "cell_type": "markdown",
   "id": "c016b266",
   "metadata": {},
   "source": [
    "## Create a New Retriever with Documents\n",
    "\n",
    "You can now create a new retriever with the documents you created."
   ]
  },
  {
   "cell_type": "code",
   "execution_count": 10,
   "id": "53af4f00",
   "metadata": {},
   "outputs": [],
   "source": [
    "from langchain_core.documents import Document\n",
    "\n",
    "retriever = BM25Retriever.from_documents(\n",
    "    [\n",
    "        Document(page_content=\"Hey, are you ok?\"),\n",
    "        Document(page_content=\"I walked my dog\"),\n",
    "        Document(page_content=\"lets meet for dinner\"),\n",
    "        Document(page_content=\"hello\"),\n",
    "        Document(page_content=\"foo bar\"),\n",
    "    ]\n",
    ")"
   ]
  },
  {
   "cell_type": "markdown",
   "id": "8c69decd-aa1f-4573-bb2f-61e4c85d18bd",
   "metadata": {},
   "source": [
    "## Expand Queries using LTOR\n",
    "You can use TranslateQueryExpansionRetriever class and get_expanded_queries_ltor method to expand queries.\n",
    "Iteration: Setting iteration to 1 will do one cycle of iteration. For Example, a query will be translated to spanish from english and translated back to spanish. en-es-en. Setting iteration to 2 will do two cycles of translation i.e en-es-en-es-en. \n",
    "\n"
   ]
  },
  {
   "cell_type": "code",
   "execution_count": null,
   "id": "c0455218",
   "metadata": {
    "tags": []
   },
   "outputs": [],
   "source": [
    "# result = retriever.get_relevant_documents(\"foo\")\n",
    "\n",
    "translate_query_expansion = LTORQueryExpansion()\n",
    "queries_to_expand = [\n",
    "    \"Hello, how are you?\",\n",
    "    \"@PhotOle, we also walked down to the blockade \\\n",
    "                     tonight for dinner and saw it, but were unaware of the situation.\",\n",
    "]\n",
    "expanded_queries = translate_query_expansion.get_expanded_queries_ltor(\n",
    "    queries_to_expand, iteration=2\n",
    ")"
   ]
  },
  {
   "cell_type": "markdown",
   "id": "ca4c9fbe-df99-49af-9cbe-ba68dd9b4cb6",
   "metadata": {},
   "source": [
    "## BM25 Retriver \n",
    "\n",
    "Provide the expanded queries to get_relevant_document -- This works with multiple queries as well.\n"
   ]
  },
  {
   "cell_type": "code",
   "execution_count": 12,
   "id": "7dfa5c29",
   "metadata": {
    "tags": []
   },
   "outputs": [],
   "source": [
    "result = translate_query_expansion.get_relevant_documents(retriever, expanded_queries)"
   ]
  },
  {
   "cell_type": "code",
   "execution_count": 13,
   "id": "997aaa8d",
   "metadata": {},
   "outputs": [
    {
     "data": {
      "text/plain": [
       "[[Document(page_content='Hey, are you ok?'),\n",
       "  Document(page_content='foo bar'),\n",
       "  Document(page_content='hello'),\n",
       "  Document(page_content='lets meet for dinner')],\n",
       " [Document(page_content='lets meet for dinner'),\n",
       "  Document(page_content='I walked my dog'),\n",
       "  Document(page_content='foo bar'),\n",
       "  Document(page_content='hello')]]"
      ]
     },
     "execution_count": 13,
     "metadata": {},
     "output_type": "execute_result"
    }
   ],
   "source": [
    "result"
   ]
  }
 ],
 "metadata": {
  "kernelspec": {
   "display_name": "Python 3 (ipykernel)",
   "language": "python",
   "name": "python3"
  },
  "language_info": {
   "codemirror_mode": {
    "name": "ipython",
    "version": 3
   },
   "file_extension": ".py",
   "mimetype": "text/x-python",
   "name": "python",
   "nbconvert_exporter": "python",
   "pygments_lexer": "ipython3",
   "version": "3.8.18"
  }
 },
 "nbformat": 4,
 "nbformat_minor": 5
}
