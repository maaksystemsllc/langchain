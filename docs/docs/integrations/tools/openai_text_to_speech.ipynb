{
 "cells": [
  {
   "cell_type": "markdown",
   "id": "a991a6f8-1897-4f49-a191-ae3bdaeda856",
   "metadata": {},
   "source": [
    "# OpenAI Text-to-Speech\n",
    "\n",
    ">[OpenAI Text-to-speech](https://platform.openai.com/docs/guides/text-to-speech/text-to-speech)\n",
    "\n",
    "This notebook shows how to interact with the `OpenAI Text-to-Speech API` to turn arbitrary text to speech.\n",
    "\n",
    "  - [List of supported languages](https://platform.openai.com/docs/guides/text-to-speech/supported-languages)"
   ]
  },
  {
   "cell_type": "markdown",
   "id": "9eeb311e-e1bd-4959-8536-4d267f302eb3",
   "metadata": {},
   "source": [
    "OpenAI's library is required, install it with:"
   ]
  },
  {
   "cell_type": "code",
   "execution_count": null,
   "id": "0a309c0e-5310-4eaa-8af9-bcbc252e45da",
   "metadata": {},
   "outputs": [],
   "source": [
    "%pip install --upgrade --quiet openai"
   ]
  },
  {
   "cell_type": "markdown",
   "id": "434b2454-2bff-484d-822c-4026a9dc1383",
   "metadata": {},
   "source": [
    "## Usage\n",
    "\n",
    "Setup:"
   ]
  },
  {
   "cell_type": "code",
   "execution_count": null,
   "id": "2f57a647-9214-4562-a8cf-f263a15d1f40",
   "metadata": {},
   "outputs": [],
   "source": [
    "import os\n",
    "from getpass import getpass\n",
    "\n",
    "os.environ[\"OPENAI_API_KEY\"] = getpass()"
   ]
  },
  {
   "cell_type": "markdown",
   "id": "e8409f1b",
   "metadata": {},
   "source": [
    "Initialize the text-to-speech tool:"
   ]
  },
  {
   "cell_type": "code",
   "execution_count": null,
   "id": "9eab05df",
   "metadata": {},
   "outputs": [],
   "source": [
    "from langchain_openai.tools import OpenAITextToSpeechTool\n",
    "\n",
    "text_to_speak = \"Hello world!\"\n",
    "\n",
    "tts = OpenAITextToSpeechTool(\n",
    "    model=\"tts-1\",\n",
    "    voice=\"alloy\",\n",
    "    file_extension=\"mp3\",\n",
    ")\n",
    "tts.name"
   ]
  },
  {
   "cell_type": "markdown",
   "id": "d4613fed-66f0-47c6-be50-7e7670654427",
   "metadata": {},
   "source": [
    "Generate text:"
   ]
  },
  {
   "cell_type": "code",
   "execution_count": null,
   "id": "f1984844-aa75-4f83-9d42-1c8052d87cc0",
   "metadata": {},
   "outputs": [],
   "source": [
    "output_path = tts.run(text_to_speak)"
   ]
  },
  {
   "cell_type": "markdown",
   "id": "4cd26c89",
   "metadata": {},
   "source": [
    "The audio is streamed to the file, so it can be read while it is being generated.\n",
    "\n",
    "The output file is is stored in `./tts/` by default.\n",
    "\n",
    "### Play Outbook in Notebook"
   ]
  },
  {
   "cell_type": "code",
   "execution_count": null,
   "id": "ac6f6504",
   "metadata": {},
   "outputs": [],
   "source": [
    "import IPython\n",
    "\n",
    "IPython.display.Audio(output_path)"
   ]
  }
 ],
 "metadata": {
  "kernelspec": {
   "display_name": "Python 3 (ipykernel)",
   "language": "python",
   "name": "python3"
  },
  "language_info": {
   "codemirror_mode": {
    "name": "ipython",
    "version": 3
   },
   "file_extension": ".py",
   "mimetype": "text/x-python",
   "name": "python",
   "nbconvert_exporter": "python",
   "pygments_lexer": "ipython3",
   "version": "3.11.7"
  }
 },
 "nbformat": 4,
 "nbformat_minor": 5
}
