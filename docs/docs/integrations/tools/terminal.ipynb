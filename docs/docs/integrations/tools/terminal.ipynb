{
 "cells": [
  {
   "cell_type": "markdown",
   "metadata": {},
   "source": [
    "# Terminal"
   ]
  },
  {
   "cell_type": "markdown",
   "metadata": {},
   "source": [
    "This set of tools gives AI agents the ability to fully interact with a terminal window, including sending special\n",
    "keystrokes like Escape or Ctrl+C, and seeing the terminal window's contents.\n",
    "\n",
    "Highly recommended to use only inside a container or other isolated environment.\n",
    "\n",
    "> Note: As of May 2024, the current generation of language models aren't able to effectively utilize the terminal tool,\n",
    "> and get confused by the keystrokes they have to send, and the output they see.\n",
    "> However, at the rate progress is being made, we can expect this limitation to be gone by the end of the year.\n",
    "> Then the advantage of the power of the terminal and the myriad tools available for it will become apparent.\n",
    "\n",
    "Terminal interaction depends on tmux.\n",
    "Follow [these instructions](https://github.com/tmux/tmux/wiki/Installing) to install tmux on your Unix-like system.\n",
    "If you're running Windows, you'll need to install Windows Subsystem for Linux (WSL) first.\n",
    "\n",
    "After you have the tmux system package installed, install the `libtmux` Python package."
   ]
  },
  {
   "cell_type": "code",
   "execution_count": null,
   "metadata": {
    "vscode": {
     "languageId": "shellscript"
    }
   },
   "outputs": [],
   "source": [
    "%pip install --upgrade --quiet libtmux > /dev/null"
   ]
  },
  {
   "cell_type": "markdown",
   "metadata": {},
   "source": [
    "Now you can test the tool out yourself:"
   ]
  },
  {
   "cell_type": "code",
   "execution_count": 8,
   "metadata": {
    "vscode": {
     "languageId": "shellscript"
    }
   },
   "outputs": [
    {
     "name": "stdout",
     "output_type": "stream",
     "text": [
      "vscode ➜ .../docs/docs/integrations/tools (terminal-window-tool) $ echo hello world\n",
      "hello world\n",
      "vscode ➜ .../docs/docs/integrations/tools (terminal-window-tool) $\n"
     ]
    }
   ],
   "source": [
    "import time\n",
    "\n",
    "from langchain_community.tools import (\n",
    "    TerminalBottomCaptureTool,\n",
    "    TerminalLiteralInputTool,\n",
    "    TerminalSpecialInputTool,\n",
    ")\n",
    "\n",
    "TerminalLiteralInputTool().run(\"echo hello world\")\n",
    "TerminalSpecialInputTool().run(\"Enter\")\n",
    "time.sleep(0.1)\n",
    "print(TerminalBottomCaptureTool().run(\"3\"))"
   ]
  },
  {
   "cell_type": "markdown",
   "metadata": {},
   "source": [
    "Note that you can run `tmux attach` to attach to your agent's session and see what your agent is doing in real time.\n",
    "\n",
    "You can also do more sophisticated things like use Vim.\n",
    "Install Vim first if you want to run the example yourself."
   ]
  },
  {
   "cell_type": "code",
   "execution_count": 10,
   "metadata": {
    "vscode": {
     "languageId": "shellscript"
    }
   },
   "outputs": [
    {
     "name": "stdout",
     "output_type": "stream",
     "text": [
      "-- INSERT --                                                                                                              0,1           All\n",
      "vscode ➜ .../docs/docs/integrations/tools (terminal-window-tool) $ vim /tmp/test.txt\n",
      "\n",
      "[13]+  Stopped                 vim /tmp/test.txt\n",
      "vscode ➜ .../docs/docs/integrations/tools (terminal-window-tool) $ cat /tmp/test.txt\n",
      "This is a line of text\n",
      "vscode ➜ .../docs/docs/integrations/tools (terminal-window-tool) $\n"
     ]
    }
   ],
   "source": [
    "import time\n",
    "\n",
    "from langchain_community.tools import (\n",
    "    TerminalBottomCaptureTool,\n",
    "    TerminalLiteralInputTool,\n",
    "    TerminalSpecialInputTool,\n",
    ")\n",
    "\n",
    "TerminalLiteralInputTool().run(\"vim /tmp/test.txt\")\n",
    "TerminalSpecialInputTool().run(\"Enter\")\n",
    "time.sleep(0.5)\n",
    "TerminalLiteralInputTool().run(\"i\")\n",
    "time.sleep(0.5)\n",
    "print(TerminalBottomCaptureTool().run(\"1\"))\n",
    "TerminalLiteralInputTool().run(\"This is a line of text\")\n",
    "TerminalSpecialInputTool().run(\"Escape\")\n",
    "TerminalLiteralInputTool().run(\":w\")\n",
    "TerminalSpecialInputTool().run(\"Enter\")\n",
    "TerminalSpecialInputTool().run(\n",
    "    \"^Z\"\n",
    ")  # Ctrl+Z to exit abruptly, will cause the swap file to be retained.\n",
    "TerminalLiteralInputTool().run(\"cat /tmp/test.txt\")\n",
    "TerminalSpecialInputTool().run(\"Enter\")\n",
    "print(TerminalBottomCaptureTool().run(\"6\"))"
   ]
  },
  {
   "cell_type": "markdown",
   "metadata": {},
   "source": [
    "You can let your LM use the tools too. Example using OpenAI below.\n",
    "You'll need to run `pip install langchain-openai` first if you haven't already."
   ]
  },
  {
   "cell_type": "code",
   "execution_count": 2,
   "metadata": {
    "vscode": {
     "languageId": "shellscript"
    }
   },
   "outputs": [],
   "source": [
    "import getpass\n",
    "import os\n",
    "\n",
    "os.environ[\"OPENAI_API_KEY\"] = getpass.getpass()"
   ]
  },
  {
   "cell_type": "code",
   "execution_count": 4,
   "metadata": {
    "vscode": {
     "languageId": "shellscript"
    }
   },
   "outputs": [
    {
     "data": {
      "text/plain": [
       "[{'name': 'terminal_literal_input',\n",
       "  'args': {'__arg1': 'ps aux --sort=-%mem | head -n 4'},\n",
       "  'id': 'call_xS2CDWlgZFkslqe7lM2QBoBz'},\n",
       " {'name': 'terminal_special_input',\n",
       "  'args': {'__arg1': 'Enter'},\n",
       "  'id': 'call_p6b4MVlPZ5FdC2aWsk2F4dEo'}]"
      ]
     },
     "execution_count": 4,
     "metadata": {},
     "output_type": "execute_result"
    }
   ],
   "source": [
    "import time\n",
    "\n",
    "from langchain_community.tools import (\n",
    "    TerminalBottomCaptureTool,\n",
    "    TerminalLiteralInputTool,\n",
    "    TerminalSpecialInputTool,\n",
    ")\n",
    "from langchain_openai import ChatOpenAI\n",
    "\n",
    "lm = ChatOpenAI(model=\"gpt-4o-2024-05-13\").bind_tools(\n",
    "    [\n",
    "        TerminalLiteralInputTool(),\n",
    "        TerminalSpecialInputTool(),\n",
    "        TerminalBottomCaptureTool(),\n",
    "    ]\n",
    ")\n",
    "\n",
    "msg = lm.invoke(\"What top 3 processes consuming the most memory?\")\n",
    "msg.tool_calls"
   ]
  }
 ],
 "metadata": {
  "kernelspec": {
   "display_name": "Python 3 (ipykernel)",
   "language": "python",
   "name": "python3"
  },
  "language_info": {
   "codemirror_mode": {
    "name": "ipython",
    "version": 3
   },
   "file_extension": ".py",
   "mimetype": "text/x-python",
   "name": "python",
   "nbconvert_exporter": "python",
   "pygments_lexer": "ipython3",
   "version": "3.11.4"
  }
 },
 "nbformat": 4,
 "nbformat_minor": 4
}
