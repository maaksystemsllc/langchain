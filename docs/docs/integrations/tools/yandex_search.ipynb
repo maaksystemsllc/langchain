{
 "cells": [
  {
   "cell_type": "markdown",
   "metadata": {},
   "source": [
    "# Yandex Search API Wrapper\n",
    "**Yandex Search API** provides access to the search engine capabilities of Yandex, allowing developers to integrate web page searches into their applications.\n",
    "\n",
    "This document describes how to use the `YandexSearchAPIWrapper` component to send search queries through Yandex's API.\n",
    "\n",
    "## Setup\n",
    "First, you need to gain access to the Yandex API. This involves registering on the Yandex.Cloud platform and creating API credentials.\n",
    "\n",
    "1. **Register an account on Yandex.Cloud**: Visit the [official Yandex.Cloud website](https://cloud.yandex.com/) and create an account.\n",
    "2. **Create a project and obtain an API key**: Follow the [instructions for creating an API key](https://cloud.yandex.com/en/docs/iam/operations/api-key/create) necessary for accessing the Search API.\n",
    "\n",
    "## Setting Environment Variables\n",
    "Before you start using the component, you need to set several environment variables:\n",
    "- `YANDEX_API_KEY`: The API key you obtained during setup.\n",
    "- `YANDEX_FOLDER_ID`: The folder ID in your Yandex.Cloud project used to work with the Search API.\n",
    "\n",
    "```bash\n",
    "export YANDEX_API_KEY='your_yandex_api_key_here'\n",
    "export YANDEX_FOLDER_ID='your_yandex_folder_id_here'\n",
    "```\n",
    "\n",
    "## Using the Component\n",
    "Once the environment variables are set up, you can start using `YandexSearchAPIWrapper` to send queries to Yandex Search."
   ]
  },
  {
   "cell_type": "code",
   "execution_count": null,
   "metadata": {},
   "outputs": [],
   "source": [
    "from langchain_community.utilities import YandexSearchAPIWrapper\n",
    "\n",
    "search_wrapper = YandexSearchAPIWrapper()\n",
    "results = search_wrapper.run(\"Example search query\")\n",
    "print(results)"
   ]
  },
  {
   "cell_type": "markdown",
   "metadata": {},
   "source": [
    "### Query Parameters\n",
    "You can customize the following query parameters:\n",
    "- `search_term`: The text of the search query.\n",
    "- `num_results`: The number of results per page.\n",
    "- `page`: The page number of the results.\n",
    "- `filter`: The level of content filtering.\n",
    "- `lr`: The region identifier.\n",
    "- `l10n`: The language of localization for responses.\n",
    "\n",
    "## Additional Information\n",
    "For more details about the capabilities and limitations of the Yandex Search API, visit the [official Yandex API documentation](https://yandex.cloud/en/docs/search-api/)."
   ]
  }
 ],
 "metadata": {
  "language_info": {
   "name": "python"
  }
 },
 "nbformat": 4,
 "nbformat_minor": 2
}
