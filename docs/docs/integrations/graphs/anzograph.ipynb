{
 "cells": [
  {
   "cell_type": "markdown",
   "id": "1271ba5c-1700-4872-b193-f7c162944521",
   "metadata": {
    "execution": {
     "iopub.execute_input": "2024-03-27T18:44:53.493675Z",
     "iopub.status.busy": "2024-03-27T18:44:53.493473Z",
     "iopub.status.idle": "2024-03-27T18:44:53.499541Z",
     "shell.execute_reply": "2024-03-27T18:44:53.498940Z",
     "shell.execute_reply.started": "2024-03-27T18:44:53.493660Z"
    }
   },
   "source": [
    "# AnzoGraph DB\n",
    "\n",
    ">[AnzoGraph DB](https://docs.cambridgesemantics.com/anzograph/v3.1/userdoc/Home.htm) is a graph database and knowledge discovery tool compliant with [RDF](https://www.w3.org/RDF/) and [SPARQL](https://www.w3.org/TR/sparql11-query/) that can be integrated with Apache Zeppelin third-party visualization application. \\\n",
    "> [AnzoGraph DB](https://docs.cambridgesemantics.com/anzograph/v3.1/userdoc/Home.htm) is a high performance graph OLAP database that lets users perform BI-style analytics with unparalled speed and scalability. \\\n",
    "> [AnzoGraph DB](https://docs.cambridgesemantics.com/anzograph/v3.1/userdoc/Home.htm) uses standards from the W3C regarding RDF data formats and the SPARQL query language. \\\n",
    "> [AnzoGraph DB](https://docs.cambridgesemantics.com/anzograph/v3.1/userdoc/Home.htm) can be deployed in cloud environments such as Amazon AWS, Google Cloud, Microsoft Azure, and IBM Cloud Pak, or on-premises on Linux bare metal and virtual machines. \\\n",
    "> [AnzoGraph DB](https://docs.cambridgesemantics.com/anzograph/v3.1/userdoc/Home.htm) also supports Docker and Kubernetes deployments with data staged locally or in shared NFS, HDFS, or object storage. \n",
    "\n",
    "> This notebook shows how to use LLMs to provide a natural language interface to an [AnzoGraph DB](https://docs.cambridgesemantics.com/anzograph/v3.1/userdoc/Home.htm) graph database or an ontology local file."
   ]
  },
  {
   "cell_type": "markdown",
   "id": "04b7bb97",
   "metadata": {},
   "source": [
    "## Setting up\n",
    "\n",
    "You can get a local `AnzoGraph DB` instance running via the [AnzoGraph DB Docker image](https://hub.docker.com/r/cambridgesemantics/anzograph):  \n",
    "\n",
    "```\n",
    "docker pull cambridgesemantics/anzograph\n",
    "```\n",
    "```\n",
    "docker run -d -p 80:8080 -p 7070:7070 -p 8443:8443 -p 8256:8256 -v C:\\shared-files:/opt/shared-files --name anzograph cambridgesemantics/anzograph:latest (Windows)\n",
    "docker run -d -p 80:8080 -p 7070:7070 -p 8443:8443 -p 8256:8256 -v /home/username/shared-files:/opt/shared-files --name anzograph cambridgesemantics/anzograph:latest (Linux)\n",
    "```\n",
    "\n",
    "In this case, we are creating a shared volume between the local disk and the docker container. \\\n",
    "You just need to copy your ontology file to this local directory, and it will automatically be available for use in AnzoGraph DB.\n",
    "\n",
    "\n",
    "## LangChain packages\n",
    "\n",
    "Install\n",
    "\n",
    "```bash\n",
    "pip install langchain langchain-community langchain-openai\n",
    "```"
   ]
  },
  {
   "cell_type": "markdown",
   "id": "34ed8fab",
   "metadata": {},
   "source": [
    "## Dependencies\n",
    "\n",
    "Install the [rdflib](https://github.com/RDFLib/rdflib) and [SPARQLWrapper](https://github.com/RDFLib/sparqlwrapper) packages with\n",
    "\n",
    "```bash\n",
    "pip install rdflib==7.0.0\n",
    "pip install SPARQLWrapper==2.0.0\n",
    "```"
   ]
  },
  {
   "cell_type": "markdown",
   "id": "cdc3f58e",
   "metadata": {},
   "source": [
    "## Endpoint Types and HTTP Methods\n",
    "The table below describes the SPARQL and RDF Graph Store HTTP endpoints. Both of the endpoints can be used to send requests through the AnzoGraph DB front end or directly to the database (back end).\n",
    "\n",
    "| Endpoint        | Description                                                                                                                                                                                                                                                                                                                                                                                                                                                                                                                |\n",
    "|-----------------|----------------------------------------------------------------------------------------------------------------------------------------------------------------------------------------------------------------------------------------------------------------------------------------------------------------------------------------------------------------------------------------------------------------------------------------------------------------------------------------------------------------------------|\n",
    "| SPARQL          | The SPARQL endpoint accepts HTTP GET and POST methods. Use GET to read data from the endpoint (SELECT, ASK, CONSTRUCT, DESCRIBE queries), and use POST to update data via the endpoint (INSERT, INSERT DATA, CREATE, DELETE, DELETE DATA, DROP queries). Update queries must use the POST method, but read-only queries can be submitted using GET or POST.                                                                                                                        |\n",
    "| RDF Graph Store | The RDF graph store endpoint supports create, read, update, and delete (CRUD) operations and enables programmers to work with RDF graphs in a way that is similar to REST-style interfaces. The graph store endpoint supports GET, POST, UPDATE, and DELETE HTTP methods.                                                                                                                                                                                                          |\n"
   ]
  },
  {
   "cell_type": "markdown",
   "id": "deb0cd7b",
   "metadata": {},
   "source": [
    "## Endpoint Base URLs\n",
    "This base URL that you use to connect to an AnzoGraph DB endpoint depends on whether you want to connect to the SPARQL endpoint or the RDF Graph Store endpoint. This section provides details about the base URLs for each endpoint:\n",
    "\n",
    "- SPARQL Endpoint Base URL\n",
    "- RDF Graph Store Endpoint Base URL\n",
    "\n",
    "### SPARQL Endpoint Base URL\n",
    "In this development, it will be employed queries on the SPARQL endpoint.\n",
    "To connect to the AnzoGraph DB SPARQL endpoint, use the following base URL:\n",
    "\n",
    "protocol://hostname:port/sparql\n",
    "The table below describes each of the base URL components:\n",
    "\n",
    "\n",
    "| Component | Description |\n",
    "|-----------|-------------|\n",
    "| protocol | The protocol to use for the connection: http for HTTP protocol or https for SSL protocol. SPARQL HTTP or HTTPS protocol can be enabled and disabled via the enable_sparql_protocol and enable_ssl_protocol settings. |\n",
    "| hostname | The DNS name or IP address of the AnzoGraph DB host server. For clusters, this is the name or IP address of the leader server. |\n",
    "| port | The port number for the endpoint. The port that you specify depends on the protocol and whether the request is sent to the AnzoGraph DB front end or back end. The front end requires that you use Basic Authentication to connect. The back end does not support authentication. Consider whether the client application supports authentication when specifying the port.  <br/><br/> **Front end**: If the front end ports were mapped to the default HTTP (80) and HTTPS (443) ports on the local host when the front end was deployed, do not specify a port. If the front end ports were mapped to non-default HTTP and HTTPS ports, specify the appropriate port based on the protocol. <br/> **Back end**: The port is either the HTTP sparql_protocol_port or the HTTPS ssl_protocol_port. By default, the HTTP SPARQL protocol port is 7070, and the HTTPS SSL protocol port is 8256. |\n",
    "| sparql | The path for the SPARQL endpoint. |\n",
    "\n",
    "\n",
    "\n",
    "For example, the following base URLs connect to the front end HTTP and HTTPS SPARQL endpoints. Because the ports for this deployment are mapped to the default HTTP and HTTPS ports on the local host, the port does not need to be specified in the URL (should be port :80): \\\n",
    "http://10.100.10.20/sparql (\"10.100.10.20\" is an example, usually you can use \"localhost\") \\\n",
    "https://10.100.10.20/sparql\n",
    "\n",
    "The example URLs below connect to the back end HTTP and HTTPS SPARQL endpoints. In the examples, AnzoGraph DB is using the default SPARQL protocol and SSL protocol ports: \\\n",
    "http://10.100.10.20:7070/sparql \\\n",
    "https://10.100.10.20:8256/sparql\n"
   ]
  },
  {
   "cell_type": "markdown",
   "id": "09e3544e",
   "metadata": {},
   "source": []
  },
  {
   "cell_type": "markdown",
   "id": "f6847bfd",
   "metadata": {},
   "source": [
    "## Specifying the ontology\n",
    "\n",
    "\n",
    "Previously, you crated a shared volume between the local disk and the docker container. \\\n",
    "Copy your ontology file to the shared-files local directory, and it will automatically be available for use in AnzoGraph DB. \n",
    "\n",
    "In order for the LLM to be able to generate SPARQL, it needs to know the knowledge graph schema (the ontology). \\\n",
    "It can be provided using one of two parameters on the `AnzoGraphDBGraph` class:\n",
    "\n",
    "* `query_ontology`: a `CONSTRUCT` query that is executed on the SPARQL backend endpoint (port :7070 for http, or :8256 for https) and returns the KG schema statements, building a RDF 'subgraph' from the database's graph. We recommend that you store the ontology in its own named graph, which will make it easier to get only the relevant statements (as the example below). `DESCRIBE` queries are not supported, because `DESCRIBE` returns the Symmetric Concise Bounded Description (SCBD), i.e. also the incoming class links.\n",
    "* `source_file`: a local source RDF ontology file. Supported RDF formats are `Turtle`, `N-Triple`, `N-Quad`, `TriG ` or `JSON-LD` files. Turtle (.ttl) files are the most usual.\n",
    "\n"
   ]
  },
  {
   "cell_type": "markdown",
   "id": "6fa40035",
   "metadata": {},
   "source": [
    "## Download the FOAF ontology and load it into AnzoGraph DB\n",
    "For this example code, download from the file for the FOAF ontology. \n",
    "\n",
    "Please download it from the SPAR Ontologies repository (learn more at http://www.sparontologies.net): \\\n",
    "https://github.com/SPAROntologies/foaf/blob/master/docs/current/foaf.ttl\n",
    "\n",
    "Then:\n",
    "\n",
    "* Copy the Turtle (.ttl) ontology file into the shared-files folder in your disk (the bind folder created through docker run)\n",
    "* Start AnzoGraph DB frontend with the following URI: \"http://localhost:80\"\n",
    "* Username: admin\n",
    "* Password: Passw0rd1\n",
    "\n",
    "#### Load the ontology file using the query window of the graphic user interface. Run the following SPARQL query:\n",
    "```\n",
    "LOAD WITH 'global' <dir:/opt/shared-files/foaf.ttl> INTO GRAPH <http://anzograph.com/foaf>\n",
    "```"
   ]
  },
  {
   "cell_type": "markdown",
   "id": "16d8bf0d",
   "metadata": {},
   "source": [
    "## Dependencies install"
   ]
  },
  {
   "cell_type": "code",
   "execution_count": null,
   "id": "2b1d1c83",
   "metadata": {},
   "outputs": [],
   "source": [
    "%pip install --quiet rdflib==7.0.0\n",
    "%pip install --quiet SPARQLWrapper==2.0.0"
   ]
  },
  {
   "cell_type": "markdown",
   "id": "92f5f180",
   "metadata": {},
   "source": [
    "## Creating the Graph object\n",
    "There are two methods to create the graph using the `AnzoGraphDBGraph` integration in LangChain"
   ]
  },
  {
   "cell_type": "markdown",
   "id": "545e6128",
   "metadata": {},
   "source": [
    "### 1. Querying the loaded ontology against AnzoGraph DB"
   ]
  },
  {
   "cell_type": "code",
   "execution_count": 3,
   "id": "dc8792e0-acfb-4310-b5fa-8f649e448870",
   "metadata": {
    "id": "dc8792e0-acfb-4310-b5fa-8f649e448870"
   },
   "outputs": [],
   "source": [
    "from langchain_community.graphs.anzograph_graph import AnzoGraphDBGraph\n",
    "\n",
    "# Feeding the graph schema using a CONSTRUCT query against the AnzoGraph DB backend endpoint\n",
    "\n",
    "graph = AnzoGraphDBGraph(\n",
    "    query_endpoint=\"http://localhost:7070/sparql\",  # Or \"https://localhost:8256/sparql\"\n",
    "    query_ontology=\"CONSTRUCT {?s ?p ?o} FROM <http://anzograph.com/foaf> WHERE {?s ?p ?o}\",\n",
    ")"
   ]
  },
  {
   "cell_type": "markdown",
   "id": "d7dda02e",
   "metadata": {},
   "source": [
    "### 2. Loading the ontology directly from a local source file"
   ]
  },
  {
   "cell_type": "code",
   "execution_count": 1,
   "id": "a08b8d8c-af01-4401-8069-5f2cd022a6df",
   "metadata": {
    "id": "a08b8d8c-af01-4401-8069-5f2cd022a6df"
   },
   "outputs": [],
   "source": [
    "from langchain_community.graphs.anzograph_graph import AnzoGraphDBGraph\n",
    "\n",
    "# Feeding the graph schema using a local RDF file source\n",
    "\n",
    "graph = AnzoGraphDBGraph(\n",
    "    query_endpoint=\"http://example.com/sparql\",  # Placeholder URL string; not used when operating with a local source_file\n",
    "    source_file=\"/path/to/langchain_graphdb_tutorial/foaf.ttl\",  # change the path here\n",
    "    standard=\"rdf\",\n",
    "    local_copy=\"test.ttl\",\n",
    ")"
   ]
  },
  {
   "cell_type": "markdown",
   "id": "6e10f9df",
   "metadata": {},
   "source": [
    "### Checking the ontology via the graph's content"
   ]
  },
  {
   "cell_type": "code",
   "execution_count": 2,
   "id": "9e7d35dc",
   "metadata": {},
   "outputs": [
    {
     "name": "stdout",
     "output_type": "stream",
     "text": [
      "282\n",
      "In the following, each IRI is followed by the local name and optionally its description in parentheses. \n",
      "The RDF graph supports the following node types:\n",
      "<http://www.w3.org/2000/01/rdf-schema#Class> (Class, None), <http://www.w3.org/2002/07/owl#Class> (Class, None), <http://www.w3.org/2002/07/owl#AnnotationProperty> (AnnotationProperty, None), <http://www.w3.org/2002/07/owl#Ontology> (Ontology, None), <http://www.w3.org/2002/07/owl#DatatypeProperty> (DatatypeProperty, None), <http://www.w3.org/2002/07/owl#FunctionalProperty> (FunctionalProperty, None), <http://www.w3.org/2002/07/owl#ObjectProperty> (ObjectProperty, None), <http://www.w3.org/2002/07/owl#InverseFunctionalProperty> (InverseFunctionalProperty, None)\n",
      "The RDF graph supports the following relationships:\n",
      "<http://www.w3.org/2000/01/rdf-schema#range> (range, None), <http://purl.org/dc/terms/date> (date, None), <http://www.w3.org/2003/06/sw-vocab-status/nsterm_status> (nsterm_status, None), <http://www.w3.org/2000/01/rdf-schema#comment> (comment, None), <http://www.w3.org/2000/01/rdf-schema#domain> (domain, None), <http://www.w3.org/1999/02/22-rdf-syntax-ns#first> (first, None), <http://www.w3.org/2002/07/owl#complementOf> (complementOf, None), <http://www.w3.org/1999/02/22-rdf-syntax-ns#type> (type, None), <http://www.w3.org/2000/01/rdf-schema#subPropertyOf> (subPropertyOf, None), <http://www.w3.org/2000/01/rdf-schema#isDefinedBy> (isDefinedBy, None), <http://www.w3.org/2002/07/owl#unionOf> (unionOf, None), <http://www.w3.org/2002/07/owl#disjointWith> (disjointWith, None), <http://www.w3.org/1999/02/22-rdf-syntax-ns#rest> (rest, None), <http://www.w3.org/2000/01/rdf-schema#subClassOf> (subClassOf, None), <http://www.w3.org/2000/01/rdf-schema#label> (label, None), <http://purl.org/dc/terms/contributor> (contributor, None), <http://purl.org/dc/terms/language> (language, None), <http://www.w3.org/2002/07/owl#versionInfo> (versionInfo, None), <http://www.w3.org/2002/07/owl#inverseOf> (inverseOf, None), <http://purl.org/dc/terms/creator> (creator, None), <http://www.w3.org/2002/07/owl#priorVersion> (priorVersion, None), <http://purl.org/dc/terms/format> (format, None), <http://purl.org/dc/terms/title> (title, None), <http://purl.org/dc/terms/publisher> (publisher, None)\n",
      "\n"
     ]
    }
   ],
   "source": [
    "# This code snippet is for assessment purposes only\n",
    "\n",
    "print(len(graph.graph))\n",
    "\n",
    "graph.load_schema()\n",
    "print(graph.get_schema)"
   ]
  },
  {
   "cell_type": "markdown",
   "id": "583b26ce-fb0d-4e9c-b5cd-9ec0e3be8922",
   "metadata": {
    "id": "583b26ce-fb0d-4e9c-b5cd-9ec0e3be8922"
   },
   "source": [
    "Either way, the ontology (schema) is fed to the LLM as `Turtle` since `Turtle` with appropriate prefixes is most compact and easiest for the LLM to remember.\n",
    "\n",
    "The Turtle serialized graph looks the following:\n",
    "\n",
    "```\n",
    "@prefix dcterms: <http://purl.org/dc/terms/> .\n",
    "@prefix foaf: <http://xmlns.com/foaf/0.1/> .\n",
    "@prefix ns1: <http://www.w3.org/2003/06/sw-vocab-status/> .\n",
    "@prefix owl: <http://www.w3.org/2002/07/owl#> .\n",
    "@prefix rdf: <http://www.w3.org/1999/02/22-rdf-syntax-ns#> .\n",
    "@prefix rdfs: <http://www.w3.org/2000/01/rdf-schema#> .\n",
    "\n",
    "foaf:Agent a rdfs:Class,\n",
    "        owl:Class ;\n",
    "    rdfs:label \"(foaf) Agent\" ;\n",
    "    rdfs:comment \"An agent (eg. person, group, software or physical artifact).\" ;\n",
    "    rdfs:isDefinedBy foaf: ;\n",
    "    owl:disjointWith foaf:Document,\n",
    "        foaf:OnlineAccount,\n",
    "        foaf:Project ;\n",
    "    ns1:nsterm_status \"unstable\" .\n",
    "\n",
    "foaf:Document a rdfs:Class,\n",
    "        owl:Class ;\n",
    "    rdfs:label \"(foaf) Document\" ;\n",
    "    rdfs:comment \"A document.\" ;\n",
    "    rdfs:isDefinedBy foaf: ;\n",
    "    owl:disjointWith foaf:Agent,\n",
    "        foaf:OnlineAccount,\n",
    "        foaf:Project ;\n",
    "    ns1:nsterm_status \"testing\" .\n",
    "\n",
    "foaf:Project a rdfs:Class,\n",
    "        owl:Class ;\n",
    "    rdfs:label \"(foaf) Project\" ;\n",
    "    rdfs:comment \"A project (a collective endeavour of some kind).\" ;\n",
    "    rdfs:isDefinedBy foaf: ;\n",
    "    owl:disjointWith foaf:Agent,\n",
    "        foaf:Document,\n",
    "        foaf:OnlineAccount ;\n",
    "    ns1:nsterm_status \"unstable\" .\n",
    "\n",
    "    ...\n",
    "\n",
    " ```\n"
   ]
  },
  {
   "cell_type": "markdown",
   "id": "446d8a00-c98f-43b8-9e84-77b244f7bb24",
   "metadata": {
    "id": "446d8a00-c98f-43b8-9e84-77b244f7bb24"
   },
   "source": [
    "## Question Answering against the FOAF dataset\n",
    "\n",
    "#### We can now use the `AnzoGraphDBQAChain` query the graph database or local file."
   ]
  },
  {
   "cell_type": "markdown",
   "id": "35cf25ac",
   "metadata": {},
   "source": [
    "Any available OpenAI model can be used here.\\\n",
    "We used 'gpt-4o', 'gpt-4-turbo', and 'gpt-4-turbo-preview', considering their novelty and position in the LMSys Leaderboard.\\\n",
    "The 'gpt-4-turbo-preview' model was initially considered the most performant.\\\n",
    "Consult with the OpenAI API https://platform.openai.com/docs/models for the most up-to-date models at the time of reading."
   ]
  },
  {
   "cell_type": "code",
   "execution_count": 3,
   "id": "fab63d88-511d-4049-9bf0-ca8748f1fbff",
   "metadata": {
    "id": "fab63d88-511d-4049-9bf0-ca8748f1fbff"
   },
   "outputs": [],
   "source": [
    "import os\n",
    "\n",
    "from langchain_community.chains.graph_qa.anzograph import AnzoGraphDBQAChain\n",
    "from langchain_openai import ChatOpenAI\n",
    "\n",
    "# We'll be using an OpenAI model which requires an OpenAI API Key.\n",
    "# However, other models are available as well:\n",
    "# https://python.langchain.com/docs/integrations/chat/\n",
    "\n",
    "# Set the environment variable `OPENAI_API_KEY` to your OpenAI API key\n",
    "os.environ[\"ORGANIZATION_ID\"] = \"org-***\"  # (in case of an organization's account)\n",
    "os.environ[\"OPENAI_API_KEY\"] = \"sk-***\"\n",
    "\n",
    "\n",
    "# Any available OpenAI model can be used here.\n",
    "\n",
    "llm = ChatOpenAI(\n",
    "    model=\"gpt-4-turbo\",\n",
    "    api_key=os.environ[\"OPENAI_API_KEY\"],\n",
    "    openai_organization=os.environ[\"ORGANIZATION_ID\"],  # if that is the case\n",
    "    temperature=0,\n",
    ")\n",
    "\n",
    "# Intantiate the chain with the LLM and the graph\n",
    "chain = AnzoGraphDBQAChain.from_llm(\n",
    "    llm=llm,\n",
    "    graph=graph,\n",
    "    verbose=True,\n",
    ")"
   ]
  },
  {
   "cell_type": "markdown",
   "id": "64de8463-35b1-4c65-91e4-387daf4dd7d4",
   "metadata": {},
   "source": [
    "Let's perform a query against the FOAF ontology."
   ]
  },
  {
   "cell_type": "code",
   "execution_count": 6,
   "id": "9af432d1",
   "metadata": {},
   "outputs": [],
   "source": [
    "from langchain_community.chains.graph_qa.anzograph import AnzoGraphDBQAChain\n",
    "\n",
    "# Instantiate the chain connecting the LLM and the graph, enabling verbose output for detailed debugging\n",
    "\n",
    "chain = AnzoGraphDBQAChain.from_llm(\n",
    "    llm=llm,\n",
    "    graph=graph,\n",
    "    verbose=True,\n",
    ")"
   ]
  },
  {
   "cell_type": "code",
   "execution_count": 4,
   "id": "115a183c",
   "metadata": {},
   "outputs": [
    {
     "name": "stdout",
     "output_type": "stream",
     "text": [
      "\n",
      "\n",
      "\u001b[1m> Entering new AnzoGraphDBQAChain chain...\u001b[0m\n",
      "Identified intent:\n",
      "\u001b[32;1m\u001b[1;3mSELECT\u001b[0m\n",
      "Generated SPARQL:\n",
      "\u001b[32;1m\u001b[1;3mPREFIX rdf: <http://www.w3.org/1999/02/22-rdf-syntax-ns#>\n",
      "PREFIX rdfs: <http://www.w3.org/2000/01/rdf-schema#>\n",
      "PREFIX owl: <http://www.w3.org/2002/07/owl#>\n",
      "\n",
      "SELECT ?entity\n",
      "WHERE {\n",
      "    ?entity rdf:type ?type .\n",
      "    FILTER (?type IN (owl:Class, rdfs:Class, owl:AnnotationProperty, owl:Ontology, owl:DatatypeProperty, owl:FunctionalProperty, owl:ObjectProperty, owl:InverseFunctionalProperty))\n",
      "}\u001b[0m\n",
      "Full Context:\n",
      "\u001b[32;1m\u001b[1;3m[(rdflib.term.URIRef('http://xmlns.com/foaf/0.1/Agent'),), (rdflib.term.URIRef('http://xmlns.com/foaf/0.1/Document'),), (rdflib.term.URIRef('http://xmlns.com/foaf/0.1/Project'),), (rdflib.term.URIRef('http://xmlns.com/foaf/0.1/Agent'),), (rdflib.term.URIRef('http://xmlns.com/foaf/0.1/Document'),), (rdflib.term.URIRef('http://xmlns.com/foaf/0.1/Project'),), (rdflib.term.BNode('nf5f7add225254cb4bfb798306626d28db1'),), (rdflib.term.BNode('nf5f7add225254cb4bfb798306626d28db2'),), (rdflib.term.BNode('nf5f7add225254cb4bfb798306626d28db5'),), (rdflib.term.BNode('nf5f7add225254cb4bfb798306626d28db6'),), (rdflib.term.BNode('nf5f7add225254cb4bfb798306626d28db9'),), (rdflib.term.BNode('nf5f7add225254cb4bfb798306626d28db12'),), (rdflib.term.BNode('nf5f7add225254cb4bfb798306626d28db13'),), (rdflib.term.BNode('nf5f7add225254cb4bfb798306626d28db17'),), (rdflib.term.BNode('nf5f7add225254cb4bfb798306626d28db21'),), (rdflib.term.BNode('nf5f7add225254cb4bfb798306626d28db22'),), (rdflib.term.URIRef('http://xmlns.com/foaf/0.1/PersonalProfileDocument'),), (rdflib.term.BNode('nf5f7add225254cb4bfb798306626d28db27'),), (rdflib.term.URIRef('http://xmlns.com/foaf/0.1/Organization'),), (rdflib.term.URIRef('http://xmlns.com/foaf/0.1/Group'),), (rdflib.term.URIRef('http://xmlns.com/foaf/0.1/OnlineAccount'),), (rdflib.term.URIRef('http://xmlns.com/foaf/0.1/Image'),), (rdflib.term.URIRef('http://xmlns.com/foaf/0.1/Person'),), (rdflib.term.URIRef('http://purl.org/dc/terms/contributor'),), (rdflib.term.URIRef('http://purl.org/dc/terms/creator'),), (rdflib.term.URIRef('http://purl.org/dc/terms/date'),), (rdflib.term.URIRef('http://purl.org/dc/terms/format'),), (rdflib.term.URIRef('http://purl.org/dc/terms/language'),), (rdflib.term.URIRef('http://purl.org/dc/terms/publisher'),), (rdflib.term.URIRef('http://purl.org/dc/terms/title'),), (rdflib.term.URIRef('http://www.w3.org/2003/06/sw-vocab-status/nsterm_status'),), (rdflib.term.URIRef('http://purl.org/spar/foaf'),), (rdflib.term.URIRef('http://swan.mindinformatics.org/ontologies/1.2/foaf-essential.owl'),), (rdflib.term.URIRef('http://xmlns.com/foaf/0.1/aimChatID'),), (rdflib.term.URIRef('http://xmlns.com/foaf/0.1/birthday'),), (rdflib.term.URIRef('http://xmlns.com/foaf/0.1/family_name'),), (rdflib.term.URIRef('http://xmlns.com/foaf/0.1/firstName'),), (rdflib.term.URIRef('http://xmlns.com/foaf/0.1/geekcode'),), (rdflib.term.URIRef('http://xmlns.com/foaf/0.1/gender'),), (rdflib.term.URIRef('http://xmlns.com/foaf/0.1/givenname'),), (rdflib.term.URIRef('http://xmlns.com/foaf/0.1/jabberID'),), (rdflib.term.URIRef('http://xmlns.com/foaf/0.1/myersBriggs'),), (rdflib.term.URIRef('http://xmlns.com/foaf/0.1/name'),), (rdflib.term.URIRef('http://xmlns.com/foaf/0.1/plan'),), (rdflib.term.URIRef('http://xmlns.com/foaf/0.1/sha1'),), (rdflib.term.URIRef('http://xmlns.com/foaf/0.1/surname'),), (rdflib.term.URIRef('http://xmlns.com/foaf/0.1/title'),), (rdflib.term.URIRef('http://xmlns.com/foaf/0.1/yahooChatID'),), (rdflib.term.URIRef('http://xmlns.com/foaf/0.1/nick'),), (rdflib.term.URIRef('http://xmlns.com/foaf/0.1/birthday'),), (rdflib.term.URIRef('http://xmlns.com/foaf/0.1/gender'),), (rdflib.term.URIRef('http://xmlns.com/foaf/0.1/primaryTopic'),), (rdflib.term.URIRef('http://xmlns.com/foaf/0.1/currentProject'),), (rdflib.term.URIRef('http://xmlns.com/foaf/0.1/fundedBy'),), (rdflib.term.URIRef('http://xmlns.com/foaf/0.1/homepage'),), (rdflib.term.URIRef('http://xmlns.com/foaf/0.1/img'),), (rdflib.term.URIRef('http://xmlns.com/foaf/0.1/interest'),), (rdflib.term.URIRef('http://xmlns.com/foaf/0.1/knows'),), (rdflib.term.URIRef('http://xmlns.com/foaf/0.1/logo'),), (rdflib.term.URIRef('http://xmlns.com/foaf/0.1/mbox'),), (rdflib.term.URIRef('http://xmlns.com/foaf/0.1/member'),), (rdflib.term.URIRef('http://xmlns.com/foaf/0.1/pastProject'),), (rdflib.term.URIRef('http://xmlns.com/foaf/0.1/phone'),), (rdflib.term.URIRef('http://xmlns.com/foaf/0.1/publications'),), (rdflib.term.URIRef('http://xmlns.com/foaf/0.1/schoolHomepage'),), (rdflib.term.URIRef('http://xmlns.com/foaf/0.1/thumbnail'),), (rdflib.term.URIRef('http://xmlns.com/foaf/0.1/tipjar'),), (rdflib.term.URIRef('http://xmlns.com/foaf/0.1/topic_interest'),), (rdflib.term.URIRef('http://xmlns.com/foaf/0.1/weblog'),), (rdflib.term.URIRef('http://xmlns.com/foaf/0.1/workInfoHomepage'),), (rdflib.term.URIRef('http://xmlns.com/foaf/0.1/workplaceHomepage'),), (rdflib.term.URIRef('http://xmlns.com/foaf/0.1/depicts'),), (rdflib.term.URIRef('http://xmlns.com/foaf/0.1/isPrimaryTopicOf'),), (rdflib.term.URIRef('http://xmlns.com/foaf/0.1/made'),), (rdflib.term.URIRef('http://xmlns.com/foaf/0.1/maker'),), (rdflib.term.URIRef('http://xmlns.com/foaf/0.1/primaryTopic'),), (rdflib.term.URIRef('http://xmlns.com/foaf/0.1/topic'),), (rdflib.term.URIRef('http://xmlns.com/foaf/0.1/depiction'),), (rdflib.term.URIRef('http://xmlns.com/foaf/0.1/page'),), (rdflib.term.URIRef('http://xmlns.com/foaf/0.1/homepage'),), (rdflib.term.URIRef('http://xmlns.com/foaf/0.1/mbox'),), (rdflib.term.URIRef('http://xmlns.com/foaf/0.1/weblog'),), (rdflib.term.URIRef('http://xmlns.com/foaf/0.1/isPrimaryTopicOf'),)]\u001b[0m\n",
      "\n",
      "\u001b[1m> Finished chain.\u001b[0m\n"
     ]
    },
    {
     "data": {
      "text/plain": [
       "'The entities listed in the SPARQL query results include various types and properties from the FOAF (Friend of a Friend) ontology and Dublin Core terms. Here are the entities identified:\\n\\n1. **Types of Entities:**\\n   - Agent\\n   - Document\\n   - Project\\n   - PersonalProfileDocument\\n   - Organization\\n   - Group\\n   - OnlineAccount\\n   - Image\\n   - Person\\n\\n2. **Properties and Terms:**\\n   - contributor\\n   - creator\\n   - date\\n   - format\\n   - language\\n   - publisher\\n   - title\\n   - nsterm_status\\n   - aimChatID\\n   - birthday\\n   - family_name\\n   - firstName\\n   - geekcode\\n   - gender\\n   - givenname\\n   - jabberID\\n   - myersBriggs\\n   - name\\n   - plan\\n   - sha1\\n   - surname\\n   - nick\\n   - primaryTopic\\n   - currentProject\\n   - fundedBy\\n   - homepage\\n   - img\\n   - interest\\n   - knows\\n   - logo\\n   - mbox\\n   - member\\n   - pastProject\\n   - phone\\n   - publications\\n   - schoolHomepage\\n   - thumbnail\\n   - tipjar\\n   - topic_interest\\n   - weblog\\n   - workInfoHomepage\\n   - workplaceHomepage\\n   - depicts\\n   - isPrimaryTopicOf\\n   - made\\n   - maker\\n   - topic\\n   - depiction\\n   - page\\n\\nThese entities and properties are part of the semantic web vocabularies used to describe people, documents, and relationships within data on the web.'"
      ]
     },
     "execution_count": 4,
     "metadata": {},
     "output_type": "execute_result"
    }
   ],
   "source": [
    "chain.invoke({chain.input_key: \"Find entities and list them.\"})[chain.output_key]"
   ]
  },
  {
   "cell_type": "markdown",
   "id": "8dc5d322",
   "metadata": {},
   "source": [
    "Or:"
   ]
  },
  {
   "cell_type": "code",
   "execution_count": null,
   "id": "aa8092c5",
   "metadata": {},
   "outputs": [
    {
     "name": "stdout",
     "output_type": "stream",
     "text": [
      "\n",
      "\n",
      "\u001b[1m> Entering new AnzoGraphDBQAChain chain...\u001b[0m\n",
      "Identified intent:\n",
      "\u001b[32;1m\u001b[1;3mSELECT\u001b[0m\n",
      "Generated SPARQL:\n",
      "\u001b[32;1m\u001b[1;3mPREFIX rdfs: <http://www.w3.org/2000/01/rdf-schema#>\n",
      "PREFIX owl: <http://www.w3.org/2002/07/owl#>\n",
      "PREFIX foaf: <http://xmlns.com/foaf/0.1/>\n",
      "\n",
      "SELECT DISTINCT ?class\n",
      "WHERE {\n",
      "    { ?class a rdfs:Class . FILTER (STRSTARTS(STR(?class), STR(foaf:))) }\n",
      "    UNION\n",
      "    { ?class a owl:Class . FILTER (STRSTARTS(STR(?class), STR(foaf:))) }\n",
      "}\u001b[0m\n",
      "Full Context:\n",
      "\u001b[32;1m\u001b[1;3m[(rdflib.term.URIRef('http://xmlns.com/foaf/0.1/Agent'),), (rdflib.term.URIRef('http://xmlns.com/foaf/0.1/Document'),), (rdflib.term.URIRef('http://xmlns.com/foaf/0.1/Project'),), (rdflib.term.URIRef('http://xmlns.com/foaf/0.1/PersonalProfileDocument'),), (rdflib.term.URIRef('http://xmlns.com/foaf/0.1/Organization'),), (rdflib.term.URIRef('http://xmlns.com/foaf/0.1/Group'),), (rdflib.term.URIRef('http://xmlns.com/foaf/0.1/OnlineAccount'),), (rdflib.term.URIRef('http://xmlns.com/foaf/0.1/Image'),), (rdflib.term.URIRef('http://xmlns.com/foaf/0.1/Person'),)]\u001b[0m\n",
      "\n",
      "\u001b[1m> Finished chain.\u001b[0m\n"
     ]
    },
    {
     "data": {
      "text/plain": [
       "'The classes in the FOAF (Friend of a Friend) ontology include Agent, Document, Project, PersonalProfileDocument, Organization, Group, OnlineAccount, Image, and Person. These classes are used to describe various types of entities and relationships in social networks and personal data.'"
      ]
     },
     "metadata": {},
     "output_type": "display_data"
    }
   ],
   "source": [
    "chain.invoke(\n",
    "    {chain.input_key: \"Enumerate all Classes (rdfs and owl) in FOAF ontology.\"}\n",
    ")[chain.output_key]"
   ]
  },
  {
   "cell_type": "markdown",
   "id": "6d3a37f4-5c56-4b3e-b6ae-3eb030ffcc8f",
   "metadata": {},
   "source": [
    "And a little more complex one."
   ]
  },
  {
   "cell_type": "code",
   "execution_count": 9,
   "id": "4dde8b18-4329-4a86-abfb-26d3e77034b7",
   "metadata": {},
   "outputs": [
    {
     "name": "stdout",
     "output_type": "stream",
     "text": [
      "\n",
      "\n",
      "\u001b[1m> Entering new AnzoGraphDBQAChain chain...\u001b[0m\n",
      "Identified intent:\n",
      "\u001b[32;1m\u001b[1;3mSELECT\u001b[0m\n",
      "Generated SPARQL:\n",
      "\u001b[32;1m\u001b[1;3mPREFIX rdf: <http://www.w3.org/1999/02/22-rdf-syntax-ns#>\n",
      "PREFIX rdfs: <http://www.w3.org/2000/01/rdf-schema#>\n",
      "PREFIX owl: <http://www.w3.org/2002/07/owl#>\n",
      "\n",
      "SELECT ?entity ?relation ?relatedEntity\n",
      "WHERE {\n",
      "    ?entity ?relation ?relatedEntity .\n",
      "    FILTER (?relation IN (rdf:type, rdfs:domain, owl:disjointWith, rdf:rest, owl:unionOf, owl:complementOf, rdf:first, rdfs:subPropertyOf, rdfs:isDefinedBy, rdfs:comment, rdfs:range, rdfs:label, owl:inverseOf, rdfs:subClassOf, owl:priorVersion))\n",
      "}\u001b[0m\n",
      "Full Context:\n",
      "\u001b[32;1m\u001b[1;3m[(rdflib.term.URIRef('http://xmlns.com/foaf/0.1/depiction'), rdflib.term.URIRef('http://www.w3.org/1999/02/22-rdf-syntax-ns#type'), rdflib.term.URIRef('http://www.w3.org/2002/07/owl#ObjectProperty')), (rdflib.term.URIRef('http://xmlns.com/foaf/0.1/publications'), rdflib.term.URIRef('http://www.w3.org/2000/01/rdf-schema#domain'), rdflib.term.URIRef('http://xmlns.com/foaf/0.1/Person')), (rdflib.term.URIRef('http://xmlns.com/foaf/0.1/Project'), rdflib.term.URIRef('http://www.w3.org/1999/02/22-rdf-syntax-ns#type'), rdflib.term.URIRef('http://www.w3.org/2000/01/rdf-schema#Class')), (rdflib.term.URIRef('http://xmlns.com/foaf/0.1/Person'), rdflib.term.URIRef('http://www.w3.org/2002/07/owl#disjointWith'), rdflib.term.URIRef('http://xmlns.com/foaf/0.1/Organization')), (rdflib.term.URIRef('http://xmlns.com/foaf/0.1/isPrimaryTopicOf'), rdflib.term.URIRef('http://www.w3.org/1999/02/22-rdf-syntax-ns#type'), rdflib.term.URIRef('http://www.w3.org/2002/07/owl#InverseFunctionalProperty')), (rdflib.term.BNode('n7cba293c15d94b0a8987349e74668727b6'), rdflib.term.URIRef('http://www.w3.org/1999/02/22-rdf-syntax-ns#type'), rdflib.term.URIRef('http://www.w3.org/2002/07/owl#Class')), (rdflib.term.URIRef('http://xmlns.com/foaf/0.1/myersBriggs'), rdflib.term.URIRef('http://www.w3.org/1999/02/22-rdf-syntax-ns#type'), rdflib.term.URIRef('http://www.w3.org/2002/07/owl#DatatypeProperty')), (rdflib.term.URIRef('http://xmlns.com/foaf/0.1/myersBriggs'), rdflib.term.URIRef('http://www.w3.org/2000/01/rdf-schema#domain'), rdflib.term.URIRef('http://xmlns.com/foaf/0.1/Person')), (rdflib.term.URIRef('http://xmlns.com/foaf/0.1/jabberID'), rdflib.term.URIRef('http://www.w3.org/2000/01/rdf-schema#domain'), rdflib.term.URIRef('http://xmlns.com/foaf/0.1/Agent')), (rdflib.term.BNode('n7cba293c15d94b0a8987349e74668727b10'), rdflib.term.URIRef('http://www.w3.org/1999/02/22-rdf-syntax-ns#rest'), rdflib.term.BNode('n7cba293c15d94b0a8987349e74668727b11')), (rdflib.term.URIRef('http://xmlns.com/foaf/0.1/fundedBy'), rdflib.term.URIRef('http://www.w3.org/2000/01/rdf-schema#domain'), rdflib.term.URIRef('http://www.w3.org/2002/07/owl#Thing')), (rdflib.term.URIRef('http://xmlns.com/foaf/0.1/OnlineAccount'), rdflib.term.URIRef('http://www.w3.org/2002/07/owl#disjointWith'), rdflib.term.URIRef('http://xmlns.com/foaf/0.1/Document')), (rdflib.term.URIRef('http://xmlns.com/foaf/0.1/member'), rdflib.term.URIRef('http://www.w3.org/2000/01/rdf-schema#domain'), rdflib.term.URIRef('http://xmlns.com/foaf/0.1/Group')), (rdflib.term.BNode('n7cba293c15d94b0a8987349e74668727b17'), rdflib.term.URIRef('http://www.w3.org/2002/07/owl#unionOf'), rdflib.term.BNode('n7cba293c15d94b0a8987349e74668727b18')), (rdflib.term.URIRef('http://purl.org/spar/foaf'), rdflib.term.URIRef('http://www.w3.org/1999/02/22-rdf-syntax-ns#type'), rdflib.term.URIRef('http://www.w3.org/2002/07/owl#Ontology')), (rdflib.term.BNode('n7cba293c15d94b0a8987349e74668727b26'), rdflib.term.URIRef('http://www.w3.org/1999/02/22-rdf-syntax-ns#rest'), rdflib.term.URIRef('http://www.w3.org/1999/02/22-rdf-syntax-ns#nil')), (rdflib.term.BNode('n7cba293c15d94b0a8987349e74668727b22'), rdflib.term.URIRef('http://www.w3.org/1999/02/22-rdf-syntax-ns#type'), rdflib.term.URIRef('http://www.w3.org/2002/07/owl#Class')), (rdflib.term.URIRef('http://xmlns.com/foaf/0.1/Document'), rdflib.term.URIRef('http://www.w3.org/2002/07/owl#disjointWith'), rdflib.term.URIRef('http://xmlns.com/foaf/0.1/Project')), (rdflib.term.URIRef('http://xmlns.com/foaf/0.1/firstName'), rdflib.term.URIRef('http://www.w3.org/1999/02/22-rdf-syntax-ns#type'), rdflib.term.URIRef('http://www.w3.org/2002/07/owl#DatatypeProperty')), (rdflib.term.BNode('n7cba293c15d94b0a8987349e74668727b5'), rdflib.term.URIRef('http://www.w3.org/2002/07/owl#complementOf'), rdflib.term.BNode('n7cba293c15d94b0a8987349e74668727b6')), (rdflib.term.URIRef('http://xmlns.com/foaf/0.1/phone'), rdflib.term.URIRef('http://www.w3.org/2000/01/rdf-schema#domain'), rdflib.term.URIRef('http://xmlns.com/foaf/0.1/Agent')), (rdflib.term.BNode('n7cba293c15d94b0a8987349e74668727b19'), rdflib.term.URIRef('http://www.w3.org/1999/02/22-rdf-syntax-ns#rest'), rdflib.term.BNode('n7cba293c15d94b0a8987349e74668727b20')), (rdflib.term.BNode('n7cba293c15d94b0a8987349e74668727b24'), rdflib.term.URIRef('http://www.w3.org/1999/02/22-rdf-syntax-ns#first'), rdflib.term.URIRef('http://xmlns.com/foaf/0.1/Project')), (rdflib.term.URIRef('http://xmlns.com/foaf/0.1/tipjar'), rdflib.term.URIRef('http://www.w3.org/2000/01/rdf-schema#subPropertyOf'), rdflib.term.URIRef('http://xmlns.com/foaf/0.1/page')), (rdflib.term.URIRef('http://xmlns.com/foaf/0.1/Person'), rdflib.term.URIRef('http://www.w3.org/2000/01/rdf-schema#isDefinedBy'), rdflib.term.URIRef('http://xmlns.com/foaf/0.1/')), (rdflib.term.URIRef('http://xmlns.com/foaf/0.1/logo'), rdflib.term.URIRef('http://www.w3.org/1999/02/22-rdf-syntax-ns#type'), rdflib.term.URIRef('http://www.w3.org/2002/07/owl#ObjectProperty')), (rdflib.term.BNode('n7cba293c15d94b0a8987349e74668727b20'), rdflib.term.URIRef('http://www.w3.org/1999/02/22-rdf-syntax-ns#rest'), rdflib.term.URIRef('http://www.w3.org/1999/02/22-rdf-syntax-ns#nil')), (rdflib.term.URIRef('http://xmlns.com/foaf/0.1/Document'), rdflib.term.URIRef('http://www.w3.org/1999/02/22-rdf-syntax-ns#type'), rdflib.term.URIRef('http://www.w3.org/2000/01/rdf-schema#Class')), (rdflib.term.URIRef('http://xmlns.com/foaf/0.1/yahooChatID'), rdflib.term.URIRef('http://www.w3.org/2000/01/rdf-schema#subPropertyOf'), rdflib.term.URIRef('http://xmlns.com/foaf/0.1/nick')), (rdflib.term.URIRef('http://xmlns.com/foaf/0.1/member'), rdflib.term.URIRef('http://www.w3.org/1999/02/22-rdf-syntax-ns#type'), rdflib.term.URIRef('http://www.w3.org/2002/07/owl#ObjectProperty')), (rdflib.term.URIRef('http://xmlns.com/foaf/0.1/Document'), rdflib.term.URIRef('http://www.w3.org/2000/01/rdf-schema#comment'), rdflib.term.Literal('A document.')), (rdflib.term.URIRef('http://xmlns.com/foaf/0.1/givenname'), rdflib.term.URIRef('http://www.w3.org/2000/01/rdf-schema#domain'), rdflib.term.URIRef('http://xmlns.com/foaf/0.1/Person')), (rdflib.term.URIRef('http://xmlns.com/foaf/0.1/PersonalProfileDocument'), rdflib.term.URIRef('http://www.w3.org/1999/02/22-rdf-syntax-ns#type'), rdflib.term.URIRef('http://www.w3.org/2002/07/owl#Class')), (rdflib.term.URIRef('http://xmlns.com/foaf/0.1/topic'), rdflib.term.URIRef('http://www.w3.org/2000/01/rdf-schema#range'), rdflib.term.URIRef('http://www.w3.org/2002/07/owl#Thing')), (rdflib.term.URIRef('http://purl.org/spar/foaf'), rdflib.term.URIRef('http://www.w3.org/2000/01/rdf-schema#label'), rdflib.term.Literal('FOAF Essential v. 2.0')), (rdflib.term.URIRef('http://xmlns.com/foaf/0.1/phone'), rdflib.term.URIRef('http://www.w3.org/1999/02/22-rdf-syntax-ns#type'), rdflib.term.URIRef('http://www.w3.org/2002/07/owl#ObjectProperty')), (rdflib.term.URIRef('http://xmlns.com/foaf/0.1/publications'), rdflib.term.URIRef('http://www.w3.org/2000/01/rdf-schema#range'), rdflib.term.URIRef('http://xmlns.com/foaf/0.1/Document')), (rdflib.term.URIRef('http://purl.org/dc/terms/date'), rdflib.term.URIRef('http://www.w3.org/1999/02/22-rdf-syntax-ns#type'), rdflib.term.URIRef('http://www.w3.org/2002/07/owl#AnnotationProperty')), (rdflib.term.BNode('n7cba293c15d94b0a8987349e74668727b18'), rdflib.term.URIRef('http://www.w3.org/1999/02/22-rdf-syntax-ns#first'), rdflib.term.URIRef('http://xmlns.com/foaf/0.1/Agent')), (rdflib.term.URIRef('http://xmlns.com/foaf/0.1/OnlineAccount'), rdflib.term.URIRef('http://www.w3.org/1999/02/22-rdf-syntax-ns#type'), rdflib.term.URIRef('http://www.w3.org/2002/07/owl#Class')), (rdflib.term.BNode('n7cba293c15d94b0a8987349e74668727b8'), rdflib.term.URIRef('http://www.w3.org/1999/02/22-rdf-syntax-ns#first'), rdflib.term.URIRef('http://xmlns.com/foaf/0.1/OnlineAccount')), (rdflib.term.URIRef('http://xmlns.com/foaf/0.1/Agent'), rdflib.term.URIRef('http://www.w3.org/2000/01/rdf-schema#isDefinedBy'), rdflib.term.URIRef('http://xmlns.com/foaf/0.1/')), (rdflib.term.BNode('n7cba293c15d94b0a8987349e74668727b13'), rdflib.term.URIRef('http://www.w3.org/2002/07/owl#unionOf'), rdflib.term.BNode('n7cba293c15d94b0a8987349e74668727b14')), (rdflib.term.URIRef('http://xmlns.com/foaf/0.1/Organization'), rdflib.term.URIRef('http://www.w3.org/2002/07/owl#disjointWith'), rdflib.term.URIRef('http://xmlns.com/foaf/0.1/Person')), (rdflib.term.BNode('n7cba293c15d94b0a8987349e74668727b16'), rdflib.term.URIRef('http://www.w3.org/1999/02/22-rdf-syntax-ns#rest'), rdflib.term.URIRef('http://www.w3.org/1999/02/22-rdf-syntax-ns#nil')), (rdflib.term.URIRef('http://xmlns.com/foaf/0.1/thumbnail'), rdflib.term.URIRef('http://www.w3.org/2000/01/rdf-schema#domain'), rdflib.term.URIRef('http://xmlns.com/foaf/0.1/Image')), (rdflib.term.URIRef('http://xmlns.com/foaf/0.1/isPrimaryTopicOf'), rdflib.term.URIRef('http://www.w3.org/2000/01/rdf-schema#domain'), rdflib.term.URIRef('http://www.w3.org/2002/07/owl#Thing')), (rdflib.term.URIRef('http://xmlns.com/foaf/0.1/tipjar'), rdflib.term.URIRef('http://www.w3.org/1999/02/22-rdf-syntax-ns#type'), rdflib.term.URIRef('http://www.w3.org/2002/07/owl#ObjectProperty')), (rdflib.term.URIRef('http://xmlns.com/foaf/0.1/topic'), rdflib.term.URIRef('http://www.w3.org/2002/07/owl#inverseOf'), rdflib.term.URIRef('http://xmlns.com/foaf/0.1/page')), (rdflib.term.URIRef('http://xmlns.com/foaf/0.1/aimChatID'), rdflib.term.URIRef('http://www.w3.org/1999/02/22-rdf-syntax-ns#type'), rdflib.term.URIRef('http://www.w3.org/2002/07/owl#DatatypeProperty')), (rdflib.term.BNode('n7cba293c15d94b0a8987349e74668727b18'), rdflib.term.URIRef('http://www.w3.org/1999/02/22-rdf-syntax-ns#rest'), rdflib.term.BNode('n7cba293c15d94b0a8987349e74668727b19')), (rdflib.term.URIRef('http://xmlns.com/foaf/0.1/primaryTopic'), rdflib.term.URIRef('http://www.w3.org/2000/01/rdf-schema#domain'), rdflib.term.URIRef('http://xmlns.com/foaf/0.1/Document')), (rdflib.term.URIRef('http://xmlns.com/foaf/0.1/PersonalProfileDocument'), rdflib.term.URIRef('http://www.w3.org/2000/01/rdf-schema#subClassOf'), rdflib.term.URIRef('http://xmlns.com/foaf/0.1/Document')), (rdflib.term.URIRef('http://xmlns.com/foaf/0.1/homepage'), rdflib.term.URIRef('http://www.w3.org/2000/01/rdf-schema#range'), rdflib.term.URIRef('http://xmlns.com/foaf/0.1/Document')), (rdflib.term.URIRef('http://xmlns.com/foaf/0.1/thumbnail'), rdflib.term.URIRef('http://www.w3.org/2000/01/rdf-schema#range'), rdflib.term.URIRef('http://xmlns.com/foaf/0.1/Image')), (rdflib.term.BNode('n7cba293c15d94b0a8987349e74668727b15'), rdflib.term.URIRef('http://www.w3.org/1999/02/22-rdf-syntax-ns#rest'), rdflib.term.BNode('n7cba293c15d94b0a8987349e74668727b16')), (rdflib.term.URIRef('http://purl.org/spar/foaf'), rdflib.term.URIRef('http://www.w3.org/2002/07/owl#priorVersion'), rdflib.term.URIRef('http://swan.mindinformatics.org/ontologies/1.2/foaf-essential.owl')), (rdflib.term.URIRef('http://xmlns.com/foaf/0.1/depiction'), rdflib.term.URIRef('http://www.w3.org/2000/01/rdf-schema#domain'), rdflib.term.URIRef('http://www.w3.org/2002/07/owl#Thing')), (rdflib.term.URIRef('http://swan.mindinformatics.org/ontologies/1.2/foaf-essential.owl'), rdflib.term.URIRef('http://www.w3.org/1999/02/22-rdf-syntax-ns#type'), rdflib.term.URIRef('http://www.w3.org/2002/07/owl#Ontology')), (rdflib.term.URIRef('http://xmlns.com/foaf/0.1/workInfoHomepage'), rdflib.term.URIRef('http://www.w3.org/1999/02/22-rdf-syntax-ns#type'), rdflib.term.URIRef('http://www.w3.org/2002/07/owl#ObjectProperty')), (rdflib.term.URIRef('http://xmlns.com/foaf/0.1/givenname'), rdflib.term.URIRef('http://www.w3.org/1999/02/22-rdf-syntax-ns#type'), rdflib.term.URIRef('http://www.w3.org/2002/07/owl#DatatypeProperty')), (rdflib.term.URIRef('http://xmlns.com/foaf/0.1/fundedBy'), rdflib.term.URIRef('http://www.w3.org/2000/01/rdf-schema#range'), rdflib.term.BNode('n7cba293c15d94b0a8987349e74668727b5')), (rdflib.term.URIRef('http://xmlns.com/foaf/0.1/weblog'), rdflib.term.URIRef('http://www.w3.org/2000/01/rdf-schema#domain'), rdflib.term.URIRef('http://xmlns.com/foaf/0.1/Agent')), (rdflib.term.URIRef('http://xmlns.com/foaf/0.1/Image'), rdflib.term.URIRef('http://www.w3.org/2000/01/rdf-schema#subClassOf'), rdflib.term.URIRef('http://xmlns.com/foaf/0.1/Document')), (rdflib.term.URIRef('http://xmlns.com/foaf/0.1/Project'), rdflib.term.URIRef('http://www.w3.org/2000/01/rdf-schema#isDefinedBy'), rdflib.term.URIRef('http://xmlns.com/foaf/0.1/')), (rdflib.term.URIRef('http://xmlns.com/foaf/0.1/Organization'), rdflib.term.URIRef('http://www.w3.org/2000/01/rdf-schema#comment'), rdflib.term.Literal('An organization.')), (rdflib.term.BNode('n7cba293c15d94b0a8987349e74668727b1'), rdflib.term.URIRef('http://www.w3.org/1999/02/22-rdf-syntax-ns#type'), rdflib.term.URIRef('http://www.w3.org/2002/07/owl#Class')), (rdflib.term.URIRef('http://xmlns.com/foaf/0.1/isPrimaryTopicOf'), rdflib.term.URIRef('http://www.w3.org/2000/01/rdf-schema#range'), rdflib.term.URIRef('http://xmlns.com/foaf/0.1/Document')), (rdflib.term.URIRef('http://xmlns.com/foaf/0.1/depicts'), rdflib.term.URIRef('http://www.w3.org/2000/01/rdf-schema#domain'), rdflib.term.URIRef('http://xmlns.com/foaf/0.1/Image')), (rdflib.term.URIRef('http://xmlns.com/foaf/0.1/Document'), rdflib.term.URIRef('http://www.w3.org/2002/07/owl#disjointWith'), rdflib.term.URIRef('http://xmlns.com/foaf/0.1/Agent')), (rdflib.term.URIRef('http://xmlns.com/foaf/0.1/schoolHomepage'), rdflib.term.URIRef('http://www.w3.org/2000/01/rdf-schema#range'), rdflib.term.URIRef('http://xmlns.com/foaf/0.1/Document')), (rdflib.term.URIRef('http://xmlns.com/foaf/0.1/weblog'), rdflib.term.URIRef('http://www.w3.org/1999/02/22-rdf-syntax-ns#type'), rdflib.term.URIRef('http://www.w3.org/2002/07/owl#ObjectProperty')), (rdflib.term.BNode('n7cba293c15d94b0a8987349e74668727b11'), rdflib.term.URIRef('http://www.w3.org/1999/02/22-rdf-syntax-ns#rest'), rdflib.term.URIRef('http://www.w3.org/1999/02/22-rdf-syntax-ns#nil')), (rdflib.term.BNode('n7cba293c15d94b0a8987349e74668727b25'), rdflib.term.URIRef('http://www.w3.org/1999/02/22-rdf-syntax-ns#first'), rdflib.term.URIRef('http://xmlns.com/foaf/0.1/Document')), (rdflib.term.BNode('n7cba293c15d94b0a8987349e74668727b2'), rdflib.term.URIRef('http://www.w3.org/2002/07/owl#unionOf'), rdflib.term.BNode('n7cba293c15d94b0a8987349e74668727b3')), (rdflib.term.URIRef('http://xmlns.com/foaf/0.1/made'), rdflib.term.URIRef('http://www.w3.org/2002/07/owl#inverseOf'), rdflib.term.URIRef('http://xmlns.com/foaf/0.1/maker')), (rdflib.term.BNode('n7cba293c15d94b0a8987349e74668727b12'), rdflib.term.URIRef('http://www.w3.org/1999/02/22-rdf-syntax-ns#type'), rdflib.term.URIRef('http://www.w3.org/2002/07/owl#Class')), (rdflib.term.URIRef('http://xmlns.com/foaf/0.1/Image'), rdflib.term.URIRef('http://www.w3.org/2002/07/owl#disjointWith'), rdflib.term.URIRef('http://xmlns.com/foaf/0.1/PersonalProfileDocument')), (rdflib.term.URIRef('http://xmlns.com/foaf/0.1/jabberID'), rdflib.term.URIRef('http://www.w3.org/2000/01/rdf-schema#subPropertyOf'), rdflib.term.URIRef('http://xmlns.com/foaf/0.1/nick')), (rdflib.term.URIRef('http://xmlns.com/foaf/0.1/yahooChatID'), rdflib.term.URIRef('http://www.w3.org/1999/02/22-rdf-syntax-ns#type'), rdflib.term.URIRef('http://www.w3.org/2002/07/owl#DatatypeProperty')), (rdflib.term.URIRef('http://xmlns.com/foaf/0.1/Organization'), rdflib.term.URIRef('http://www.w3.org/2000/01/rdf-schema#subClassOf'), rdflib.term.URIRef('http://xmlns.com/foaf/0.1/Agent')), (rdflib.term.URIRef('http://purl.org/dc/terms/publisher'), rdflib.term.URIRef('http://www.w3.org/1999/02/22-rdf-syntax-ns#type'), rdflib.term.URIRef('http://www.w3.org/2002/07/owl#AnnotationProperty')), (rdflib.term.BNode('n7cba293c15d94b0a8987349e74668727b4'), rdflib.term.URIRef('http://www.w3.org/1999/02/22-rdf-syntax-ns#rest'), rdflib.term.URIRef('http://www.w3.org/1999/02/22-rdf-syntax-ns#nil')), (rdflib.term.URIRef('http://xmlns.com/foaf/0.1/img'), rdflib.term.URIRef('http://www.w3.org/2000/01/rdf-schema#subPropertyOf'), rdflib.term.URIRef('http://xmlns.com/foaf/0.1/depiction')), (rdflib.term.URIRef('http://xmlns.com/foaf/0.1/OnlineAccount'), rdflib.term.URIRef('http://www.w3.org/2000/01/rdf-schema#isDefinedBy'), rdflib.term.URIRef('http://xmlns.com/foaf/0.1/')), (rdflib.term.URIRef('http://xmlns.com/foaf/0.1/topic_interest'), rdflib.term.URIRef('http://www.w3.org/2000/01/rdf-schema#domain'), rdflib.term.URIRef('http://xmlns.com/foaf/0.1/Person')), (rdflib.term.BNode('n7cba293c15d94b0a8987349e74668727b23'), rdflib.term.URIRef('http://www.w3.org/1999/02/22-rdf-syntax-ns#rest'), rdflib.term.BNode('n7cba293c15d94b0a8987349e74668727b24')), (rdflib.term.URIRef('http://xmlns.com/foaf/0.1/Agent'), rdflib.term.URIRef('http://www.w3.org/2002/07/owl#disjointWith'), rdflib.term.URIRef('http://xmlns.com/foaf/0.1/Project')), (rdflib.term.URIRef('http://xmlns.com/foaf/0.1/PersonalProfileDocument'), rdflib.term.URIRef('http://www.w3.org/2002/07/owl#disjointWith'), rdflib.term.URIRef('http://xmlns.com/foaf/0.1/Image')), (rdflib.term.URIRef('http://xmlns.com/foaf/0.1/weblog'), rdflib.term.URIRef('http://www.w3.org/1999/02/22-rdf-syntax-ns#type'), rdflib.term.URIRef('http://www.w3.org/2002/07/owl#InverseFunctionalProperty')), (rdflib.term.URIRef('http://xmlns.com/foaf/0.1/Image'), rdflib.term.URIRef('http://www.w3.org/2000/01/rdf-schema#comment'), rdflib.term.Literal('An image.')), (rdflib.term.URIRef('http://xmlns.com/foaf/0.1/weblog'), rdflib.term.URIRef('http://www.w3.org/2000/01/rdf-schema#subPropertyOf'), rdflib.term.URIRef('http://xmlns.com/foaf/0.1/page')), (rdflib.term.URIRef('http://xmlns.com/foaf/0.1/interest'), rdflib.term.URIRef('http://www.w3.org/1999/02/22-rdf-syntax-ns#type'), rdflib.term.URIRef('http://www.w3.org/2002/07/owl#ObjectProperty')), (rdflib.term.URIRef('http://xmlns.com/foaf/0.1/primaryTopic'), rdflib.term.URIRef('http://www.w3.org/2000/01/rdf-schema#range'), rdflib.term.URIRef('http://www.w3.org/2002/07/owl#Thing')), (rdflib.term.URIRef('http://xmlns.com/foaf/0.1/depicts'), rdflib.term.URIRef('http://www.w3.org/2002/07/owl#inverseOf'), rdflib.term.URIRef('http://xmlns.com/foaf/0.1/depiction')), (rdflib.term.URIRef('http://xmlns.com/foaf/0.1/Project'), rdflib.term.URIRef('http://www.w3.org/2000/01/rdf-schema#label'), rdflib.term.Literal('(foaf) Project')), (rdflib.term.URIRef('http://xmlns.com/foaf/0.1/img'), rdflib.term.URIRef('http://www.w3.org/2000/01/rdf-schema#domain'), rdflib.term.URIRef('http://xmlns.com/foaf/0.1/Person')), (rdflib.term.URIRef('http://xmlns.com/foaf/0.1/topic'), rdflib.term.URIRef('http://www.w3.org/2000/01/rdf-schema#domain'), rdflib.term.URIRef('http://xmlns.com/foaf/0.1/Document')), (rdflib.term.URIRef('http://xmlns.com/foaf/0.1/maker'), rdflib.term.URIRef('http://www.w3.org/2002/07/owl#inverseOf'), rdflib.term.URIRef('http://xmlns.com/foaf/0.1/made')), (rdflib.term.URIRef('http://xmlns.com/foaf/0.1/primaryTopic'), rdflib.term.URIRef('http://www.w3.org/1999/02/22-rdf-syntax-ns#type'), rdflib.term.URIRef('http://www.w3.org/2002/07/owl#FunctionalProperty')), (rdflib.term.URIRef('http://xmlns.com/foaf/0.1/Group'), rdflib.term.URIRef('http://www.w3.org/1999/02/22-rdf-syntax-ns#type'), rdflib.term.URIRef('http://www.w3.org/2002/07/owl#Class')), (rdflib.term.URIRef('http://xmlns.com/foaf/0.1/knows'), rdflib.term.URIRef('http://www.w3.org/1999/02/22-rdf-syntax-ns#type'), rdflib.term.URIRef('http://www.w3.org/2002/07/owl#ObjectProperty')), (rdflib.term.BNode('n7cba293c15d94b0a8987349e74668727b12'), rdflib.term.URIRef('http://www.w3.org/2002/07/owl#complementOf'), rdflib.term.BNode('n7cba293c15d94b0a8987349e74668727b13')), (rdflib.term.URIRef('http://xmlns.com/foaf/0.1/PersonalProfileDocument'), rdflib.term.URIRef('http://www.w3.org/2000/01/rdf-schema#isDefinedBy'), rdflib.term.URIRef('http://xmlns.com/foaf/0.1/')), (rdflib.term.URIRef('http://xmlns.com/foaf/0.1/member'), rdflib.term.URIRef('http://www.w3.org/2000/01/rdf-schema#range'), rdflib.term.URIRef('http://xmlns.com/foaf/0.1/Agent')), (rdflib.term.URIRef('http://xmlns.com/foaf/0.1/Person'), rdflib.term.URIRef('http://www.w3.org/2000/01/rdf-schema#label'), rdflib.term.Literal('(foaf) Person')), (rdflib.term.BNode('n7cba293c15d94b0a8987349e74668727b21'), rdflib.term.URIRef('http://www.w3.org/1999/02/22-rdf-syntax-ns#type'), rdflib.term.URIRef('http://www.w3.org/2002/07/owl#Class')), (rdflib.term.URIRef('http://xmlns.com/foaf/0.1/topic_interest'), rdflib.term.URIRef('http://www.w3.org/2000/01/rdf-schema#range'), rdflib.term.URIRef('http://www.w3.org/2002/07/owl#Thing')), (rdflib.term.URIRef('http://xmlns.com/foaf/0.1/currentProject'), rdflib.term.URIRef('http://www.w3.org/2000/01/rdf-schema#domain'), rdflib.term.URIRef('http://xmlns.com/foaf/0.1/Person')), (rdflib.term.URIRef('http://xmlns.com/foaf/0.1/maker'), rdflib.term.URIRef('http://www.w3.org/2000/01/rdf-schema#range'), rdflib.term.URIRef('http://xmlns.com/foaf/0.1/Agent')), (rdflib.term.BNode('n7cba293c15d94b0a8987349e74668727b2'), rdflib.term.URIRef('http://www.w3.org/1999/02/22-rdf-syntax-ns#type'), rdflib.term.URIRef('http://www.w3.org/2002/07/owl#Class')), (rdflib.term.URIRef('http://xmlns.com/foaf/0.1/surname'), rdflib.term.URIRef('http://www.w3.org/1999/02/22-rdf-syntax-ns#type'), rdflib.term.URIRef('http://www.w3.org/2002/07/owl#DatatypeProperty')), (rdflib.term.URIRef('http://xmlns.com/foaf/0.1/thumbnail'), rdflib.term.URIRef('http://www.w3.org/1999/02/22-rdf-syntax-ns#type'), rdflib.term.URIRef('http://www.w3.org/2002/07/owl#ObjectProperty')), (rdflib.term.BNode('n7cba293c15d94b0a8987349e74668727b6'), rdflib.term.URIRef('http://www.w3.org/2002/07/owl#unionOf'), rdflib.term.BNode('n7cba293c15d94b0a8987349e74668727b7')), (rdflib.term.BNode('n7cba293c15d94b0a8987349e74668727b16'), rdflib.term.URIRef('http://www.w3.org/1999/02/22-rdf-syntax-ns#first'), rdflib.term.URIRef('http://xmlns.com/foaf/0.1/Document')), (rdflib.term.URIRef('http://xmlns.com/foaf/0.1/workplaceHomepage'), rdflib.term.URIRef('http://www.w3.org/1999/02/22-rdf-syntax-ns#type'), rdflib.term.URIRef('http://www.w3.org/2002/07/owl#ObjectProperty')), (rdflib.term.URIRef('http://xmlns.com/foaf/0.1/family_name'), rdflib.term.URIRef('http://www.w3.org/1999/02/22-rdf-syntax-ns#type'), rdflib.term.URIRef('http://www.w3.org/2002/07/owl#DatatypeProperty')), (rdflib.term.URIRef('http://xmlns.com/foaf/0.1/page'), rdflib.term.URIRef('http://www.w3.org/2000/01/rdf-schema#domain'), rdflib.term.URIRef('http://www.w3.org/2002/07/owl#Thing')), (rdflib.term.URIRef('http://xmlns.com/foaf/0.1/OnlineAccount'), rdflib.term.URIRef('http://www.w3.org/2002/07/owl#disjointWith'), rdflib.term.URIRef('http://xmlns.com/foaf/0.1/Project')), (rdflib.term.URIRef('http://xmlns.com/foaf/0.1/gender'), rdflib.term.URIRef('http://www.w3.org/2000/01/rdf-schema#domain'), rdflib.term.URIRef('http://xmlns.com/foaf/0.1/Person')), (rdflib.term.URIRef('http://purl.org/dc/terms/title'), rdflib.term.URIRef('http://www.w3.org/1999/02/22-rdf-syntax-ns#type'), rdflib.term.URIRef('http://www.w3.org/2002/07/owl#AnnotationProperty')), (rdflib.term.BNode('n7cba293c15d94b0a8987349e74668727b24'), rdflib.term.URIRef('http://www.w3.org/1999/02/22-rdf-syntax-ns#rest'), rdflib.term.BNode('n7cba293c15d94b0a8987349e74668727b25')), (rdflib.term.URIRef('http://xmlns.com/foaf/0.1/surname'), rdflib.term.URIRef('http://www.w3.org/2000/01/rdf-schema#domain'), rdflib.term.URIRef('http://xmlns.com/foaf/0.1/Person')), (rdflib.term.URIRef('http://xmlns.com/foaf/0.1/isPrimaryTopicOf'), rdflib.term.URIRef('http://www.w3.org/2002/07/owl#inverseOf'), rdflib.term.URIRef('http://xmlns.com/foaf/0.1/primaryTopic')), (rdflib.term.URIRef('http://xmlns.com/foaf/0.1/jabberID'), rdflib.term.URIRef('http://www.w3.org/1999/02/22-rdf-syntax-ns#type'), rdflib.term.URIRef('http://www.w3.org/2002/07/owl#DatatypeProperty')), (rdflib.term.URIRef('http://xmlns.com/foaf/0.1/Document'), rdflib.term.URIRef('http://www.w3.org/2002/07/owl#disjointWith'), rdflib.term.URIRef('http://xmlns.com/foaf/0.1/OnlineAccount')), (rdflib.term.URIRef('http://xmlns.com/foaf/0.1/pastProject'), rdflib.term.URIRef('http://www.w3.org/2000/01/rdf-schema#domain'), rdflib.term.URIRef('http://xmlns.com/foaf/0.1/Person')), (rdflib.term.URIRef('http://xmlns.com/foaf/0.1/plan'), rdflib.term.URIRef('http://www.w3.org/2000/01/rdf-schema#domain'), rdflib.term.URIRef('http://xmlns.com/foaf/0.1/Person')), (rdflib.term.URIRef('http://xmlns.com/foaf/0.1/birthday'), rdflib.term.URIRef('http://www.w3.org/1999/02/22-rdf-syntax-ns#type'), rdflib.term.URIRef('http://www.w3.org/2002/07/owl#DatatypeProperty')), (rdflib.term.URIRef('http://xmlns.com/foaf/0.1/birthday'), rdflib.term.URIRef('http://www.w3.org/2000/01/rdf-schema#domain'), rdflib.term.URIRef('http://xmlns.com/foaf/0.1/Person')), (rdflib.term.BNode('n7cba293c15d94b0a8987349e74668727b20'), rdflib.term.URIRef('http://www.w3.org/1999/02/22-rdf-syntax-ns#first'), rdflib.term.URIRef('http://xmlns.com/foaf/0.1/Document')), (rdflib.term.URIRef('http://xmlns.com/foaf/0.1/workInfoHomepage'), rdflib.term.URIRef('http://www.w3.org/2000/01/rdf-schema#range'), rdflib.term.URIRef('http://xmlns.com/foaf/0.1/Document')), (rdflib.term.URIRef('http://xmlns.com/foaf/0.1/depicts'), rdflib.term.URIRef('http://www.w3.org/1999/02/22-rdf-syntax-ns#type'), rdflib.term.URIRef('http://www.w3.org/2002/07/owl#ObjectProperty')), (rdflib.term.BNode('n7cba293c15d94b0a8987349e74668727b23'), rdflib.term.URIRef('http://www.w3.org/1999/02/22-rdf-syntax-ns#first'), rdflib.term.URIRef('http://xmlns.com/foaf/0.1/Agent')), (rdflib.term.URIRef('http://xmlns.com/foaf/0.1/interest'), rdflib.term.URIRef('http://www.w3.org/2000/01/rdf-schema#domain'), rdflib.term.URIRef('http://xmlns.com/foaf/0.1/Person')), (rdflib.term.BNode('n7cba293c15d94b0a8987349e74668727b7'), rdflib.term.URIRef('http://www.w3.org/1999/02/22-rdf-syntax-ns#rest'), rdflib.term.BNode('n7cba293c15d94b0a8987349e74668727b8')), (rdflib.term.URIRef('http://xmlns.com/foaf/0.1/page'), rdflib.term.URIRef('http://www.w3.org/2000/01/rdf-schema#range'), rdflib.term.URIRef('http://xmlns.com/foaf/0.1/Document')), (rdflib.term.URIRef('http://xmlns.com/foaf/0.1/title'), rdflib.term.URIRef('http://www.w3.org/1999/02/22-rdf-syntax-ns#type'), rdflib.term.URIRef('http://www.w3.org/2002/07/owl#DatatypeProperty')), (rdflib.term.URIRef('http://xmlns.com/foaf/0.1/logo'), rdflib.term.URIRef('http://www.w3.org/2000/01/rdf-schema#range'), rdflib.term.URIRef('http://xmlns.com/foaf/0.1/Image')), (rdflib.term.URIRef('http://xmlns.com/foaf/0.1/Project'), rdflib.term.URIRef('http://www.w3.org/2002/07/owl#disjointWith'), rdflib.term.URIRef('http://xmlns.com/foaf/0.1/Agent')), (rdflib.term.URIRef('http://xmlns.com/foaf/0.1/Organization'), rdflib.term.URIRef('http://www.w3.org/1999/02/22-rdf-syntax-ns#type'), rdflib.term.URIRef('http://www.w3.org/2002/07/owl#Class')), (rdflib.term.URIRef('http://xmlns.com/foaf/0.1/Group'), rdflib.term.URIRef('http://www.w3.org/2002/07/owl#disjointWith'), rdflib.term.URIRef('http://xmlns.com/foaf/0.1/Organization')), (rdflib.term.URIRef('http://xmlns.com/foaf/0.1/gender'), rdflib.term.URIRef('http://www.w3.org/1999/02/22-rdf-syntax-ns#type'), rdflib.term.URIRef('http://www.w3.org/2002/07/owl#DatatypeProperty')), (rdflib.term.BNode('n7cba293c15d94b0a8987349e74668727b26'), rdflib.term.URIRef('http://www.w3.org/1999/02/22-rdf-syntax-ns#first'), rdflib.term.URIRef('http://xmlns.com/foaf/0.1/OnlineAccount')), (rdflib.term.URIRef('http://xmlns.com/foaf/0.1/Group'), rdflib.term.URIRef('http://www.w3.org/2000/01/rdf-schema#comment'), rdflib.term.Literal('A class of Agents.')), (rdflib.term.URIRef('http://xmlns.com/foaf/0.1/title'), rdflib.term.URIRef('http://www.w3.org/2000/01/rdf-schema#domain'), rdflib.term.URIRef('http://xmlns.com/foaf/0.1/Person')), (rdflib.term.URIRef('http://xmlns.com/foaf/0.1/Person'), rdflib.term.URIRef('http://www.w3.org/2000/01/rdf-schema#subClassOf'), rdflib.term.URIRef('http://xmlns.com/foaf/0.1/Agent')), (rdflib.term.URIRef('http://xmlns.com/foaf/0.1/homepage'), rdflib.term.URIRef('http://www.w3.org/1999/02/22-rdf-syntax-ns#type'), rdflib.term.URIRef('http://www.w3.org/2002/07/owl#ObjectProperty')), (rdflib.term.URIRef('http://xmlns.com/foaf/0.1/knows'), rdflib.term.URIRef('http://www.w3.org/2000/01/rdf-schema#range'), rdflib.term.URIRef('http://xmlns.com/foaf/0.1/Person')), (rdflib.term.URIRef('http://xmlns.com/foaf/0.1/plan'), rdflib.term.URIRef('http://www.w3.org/1999/02/22-rdf-syntax-ns#type'), rdflib.term.URIRef('http://www.w3.org/2002/07/owl#DatatypeProperty')), (rdflib.term.URIRef('http://xmlns.com/foaf/0.1/birthday'), rdflib.term.URIRef('http://www.w3.org/1999/02/22-rdf-syntax-ns#type'), rdflib.term.URIRef('http://www.w3.org/2002/07/owl#FunctionalProperty')), (rdflib.term.URIRef('http://xmlns.com/foaf/0.1/family_name'), rdflib.term.URIRef('http://www.w3.org/2000/01/rdf-schema#domain'), rdflib.term.URIRef('http://xmlns.com/foaf/0.1/Person')), (rdflib.term.URIRef('http://xmlns.com/foaf/0.1/gender'), rdflib.term.URIRef('http://www.w3.org/1999/02/22-rdf-syntax-ns#type'), rdflib.term.URIRef('http://www.w3.org/2002/07/owl#FunctionalProperty')), (rdflib.term.URIRef('http://xmlns.com/foaf/0.1/OnlineAccount'), rdflib.term.URIRef('http://www.w3.org/2000/01/rdf-schema#label'), rdflib.term.Literal('(foaf) OnlineAccount')), (rdflib.term.URIRef('http://xmlns.com/foaf/0.1/OnlineAccount'), rdflib.term.URIRef('http://www.w3.org/2002/07/owl#disjointWith'), rdflib.term.URIRef('http://xmlns.com/foaf/0.1/Agent')), (rdflib.term.BNode('n7cba293c15d94b0a8987349e74668727b1'), rdflib.term.URIRef('http://www.w3.org/2002/07/owl#complementOf'), rdflib.term.BNode('n7cba293c15d94b0a8987349e74668727b2')), (rdflib.term.URIRef('http://xmlns.com/foaf/0.1/Group'), rdflib.term.URIRef('http://www.w3.org/2000/01/rdf-schema#isDefinedBy'), rdflib.term.URIRef('http://xmlns.com/foaf/0.1/')), (rdflib.term.BNode('n7cba293c15d94b0a8987349e74668727b25'), rdflib.term.URIRef('http://www.w3.org/1999/02/22-rdf-syntax-ns#rest'), rdflib.term.BNode('n7cba293c15d94b0a8987349e74668727b26')), (rdflib.term.URIRef('http://xmlns.com/foaf/0.1/maker'), rdflib.term.URIRef('http://www.w3.org/1999/02/22-rdf-syntax-ns#type'), rdflib.term.URIRef('http://www.w3.org/2002/07/owl#ObjectProperty')), (rdflib.term.URIRef('http://xmlns.com/foaf/0.1/Organization'), rdflib.term.URIRef('http://www.w3.org/2002/07/owl#disjointWith'), rdflib.term.URIRef('http://xmlns.com/foaf/0.1/Group')), (rdflib.term.URIRef('http://xmlns.com/foaf/0.1/firstName'), rdflib.term.URIRef('http://www.w3.org/2000/01/rdf-schema#domain'), rdflib.term.URIRef('http://xmlns.com/foaf/0.1/Person')), (rdflib.term.URIRef('http://xmlns.com/foaf/0.1/OnlineAccount'), rdflib.term.URIRef('http://www.w3.org/2000/01/rdf-schema#comment'), rdflib.term.Literal('An online account.')), (rdflib.term.URIRef('http://xmlns.com/foaf/0.1/sha1'), rdflib.term.URIRef('http://www.w3.org/2000/01/rdf-schema#domain'), rdflib.term.URIRef('http://xmlns.com/foaf/0.1/Document')), (rdflib.term.URIRef('http://xmlns.com/foaf/0.1/logo'), rdflib.term.URIRef('http://www.w3.org/2000/01/rdf-schema#domain'), rdflib.term.BNode('n7cba293c15d94b0a8987349e74668727b9')), (rdflib.term.URIRef('http://purl.org/dc/terms/contributor'), rdflib.term.URIRef('http://www.w3.org/1999/02/22-rdf-syntax-ns#type'), rdflib.term.URIRef('http://www.w3.org/2002/07/owl#AnnotationProperty')), (rdflib.term.BNode('n7cba293c15d94b0a8987349e74668727b13'), rdflib.term.URIRef('http://www.w3.org/1999/02/22-rdf-syntax-ns#type'), rdflib.term.URIRef('http://www.w3.org/2002/07/owl#Class')), (rdflib.term.URIRef('http://xmlns.com/foaf/0.1/made'), rdflib.term.URIRef('http://www.w3.org/1999/02/22-rdf-syntax-ns#type'), rdflib.term.URIRef('http://www.w3.org/2002/07/owl#ObjectProperty')), (rdflib.term.URIRef('http://xmlns.com/foaf/0.1/Image'), rdflib.term.URIRef('http://www.w3.org/2000/01/rdf-schema#label'), rdflib.term.Literal('(foaf) Image')), (rdflib.term.URIRef('http://xmlns.com/foaf/0.1/homepage'), rdflib.term.URIRef('http://www.w3.org/1999/02/22-rdf-syntax-ns#type'), rdflib.term.URIRef('http://www.w3.org/2002/07/owl#InverseFunctionalProperty')), (rdflib.term.URIRef('http://xmlns.com/foaf/0.1/publications'), rdflib.term.URIRef('http://www.w3.org/1999/02/22-rdf-syntax-ns#type'), rdflib.term.URIRef('http://www.w3.org/2002/07/owl#ObjectProperty')), (rdflib.term.BNode('n7cba293c15d94b0a8987349e74668727b4'), rdflib.term.URIRef('http://www.w3.org/1999/02/22-rdf-syntax-ns#first'), rdflib.term.URIRef('http://xmlns.com/foaf/0.1/OnlineAccount')), (rdflib.term.URIRef('http://xmlns.com/foaf/0.1/homepage'), rdflib.term.URIRef('http://www.w3.org/2000/01/rdf-schema#subPropertyOf'), rdflib.term.URIRef('http://xmlns.com/foaf/0.1/page')), (rdflib.term.BNode('n7cba293c15d94b0a8987349e74668727b3'), rdflib.term.URIRef('http://www.w3.org/1999/02/22-rdf-syntax-ns#rest'), rdflib.term.BNode('n7cba293c15d94b0a8987349e74668727b4')), (rdflib.term.URIRef('http://xmlns.com/foaf/0.1/Agent'), rdflib.term.URIRef('http://www.w3.org/2000/01/rdf-schema#label'), rdflib.term.Literal('(foaf) Agent')), (rdflib.term.URIRef('http://xmlns.com/foaf/0.1/tipjar'), rdflib.term.URIRef('http://www.w3.org/2000/01/rdf-schema#range'), rdflib.term.URIRef('http://xmlns.com/foaf/0.1/Document')), (rdflib.term.URIRef('http://xmlns.com/foaf/0.1/phone'), rdflib.term.URIRef('http://www.w3.org/2000/01/rdf-schema#range'), rdflib.term.BNode('n7cba293c15d94b0a8987349e74668727b21')), (rdflib.term.URIRef('http://xmlns.com/foaf/0.1/Agent'), rdflib.term.URIRef('http://www.w3.org/2002/07/owl#disjointWith'), rdflib.term.URIRef('http://xmlns.com/foaf/0.1/OnlineAccount')), (rdflib.term.URIRef('http://xmlns.com/foaf/0.1/sha1'), rdflib.term.URIRef('http://www.w3.org/1999/02/22-rdf-syntax-ns#type'), rdflib.term.URIRef('http://www.w3.org/2002/07/owl#DatatypeProperty')), (rdflib.term.URIRef('http://xmlns.com/foaf/0.1/geekcode'), rdflib.term.URIRef('http://www.w3.org/2000/01/rdf-schema#domain'), rdflib.term.URIRef('http://xmlns.com/foaf/0.1/Person')), (rdflib.term.URIRef('http://xmlns.com/foaf/0.1/Organization'), rdflib.term.URIRef('http://www.w3.org/2000/01/rdf-schema#isDefinedBy'), rdflib.term.URIRef('http://xmlns.com/foaf/0.1/')), (rdflib.term.URIRef('http://xmlns.com/foaf/0.1/depiction'), rdflib.term.URIRef('http://www.w3.org/2000/01/rdf-schema#range'), rdflib.term.URIRef('http://xmlns.com/foaf/0.1/Image')), (rdflib.term.URIRef('http://xmlns.com/foaf/0.1/Document'), rdflib.term.URIRef('http://www.w3.org/1999/02/22-rdf-syntax-ns#type'), rdflib.term.URIRef('http://www.w3.org/2002/07/owl#Class')), (rdflib.term.URIRef('http://xmlns.com/foaf/0.1/page'), rdflib.term.URIRef('http://www.w3.org/2002/07/owl#inverseOf'), rdflib.term.URIRef('http://xmlns.com/foaf/0.1/topic')), (rdflib.term.URIRef('http://xmlns.com/foaf/0.1/made'), rdflib.term.URIRef('http://www.w3.org/2000/01/rdf-schema#domain'), rdflib.term.URIRef('http://xmlns.com/foaf/0.1/Agent')), (rdflib.term.URIRef('http://xmlns.com/foaf/0.1/workInfoHomepage'), rdflib.term.URIRef('http://www.w3.org/2000/01/rdf-schema#domain'), rdflib.term.URIRef('http://xmlns.com/foaf/0.1/Person')), (rdflib.term.URIRef('http://xmlns.com/foaf/0.1/primaryTopic'), rdflib.term.URIRef('http://www.w3.org/1999/02/22-rdf-syntax-ns#type'), rdflib.term.URIRef('http://www.w3.org/2002/07/owl#ObjectProperty')), (rdflib.term.URIRef('http://xmlns.com/foaf/0.1/img'), rdflib.term.URIRef('http://www.w3.org/2000/01/rdf-schema#range'), rdflib.term.URIRef('http://xmlns.com/foaf/0.1/Image')), (rdflib.term.BNode('n7cba293c15d94b0a8987349e74668727b10'), rdflib.term.URIRef('http://www.w3.org/1999/02/22-rdf-syntax-ns#first'), rdflib.term.URIRef('http://xmlns.com/foaf/0.1/Agent')), (rdflib.term.BNode('n7cba293c15d94b0a8987349e74668727b7'), rdflib.term.URIRef('http://www.w3.org/1999/02/22-rdf-syntax-ns#first'), rdflib.term.URIRef('http://xmlns.com/foaf/0.1/Document')), (rdflib.term.URIRef('http://xmlns.com/foaf/0.1/Organization'), rdflib.term.URIRef('http://www.w3.org/2000/01/rdf-schema#label'), rdflib.term.Literal('(foaf) Organization')), (rdflib.term.URIRef('http://xmlns.com/foaf/0.1/fundedBy'), rdflib.term.URIRef('http://www.w3.org/1999/02/22-rdf-syntax-ns#type'), rdflib.term.URIRef('http://www.w3.org/2002/07/owl#ObjectProperty')), (rdflib.term.URIRef('http://xmlns.com/foaf/0.1/topic'), rdflib.term.URIRef('http://www.w3.org/1999/02/22-rdf-syntax-ns#type'), rdflib.term.URIRef('http://www.w3.org/2002/07/owl#ObjectProperty')), (rdflib.term.URIRef('http://xmlns.com/foaf/0.1/Group'), rdflib.term.URIRef('http://www.w3.org/2000/01/rdf-schema#label'), rdflib.term.Literal('(foaf) Group')), (rdflib.term.URIRef('http://xmlns.com/foaf/0.1/Project'), rdflib.term.URIRef('http://www.w3.org/2002/07/owl#disjointWith'), rdflib.term.URIRef('http://xmlns.com/foaf/0.1/OnlineAccount')), (rdflib.term.URIRef('http://purl.org/dc/terms/language'), rdflib.term.URIRef('http://www.w3.org/1999/02/22-rdf-syntax-ns#type'), rdflib.term.URIRef('http://www.w3.org/2002/07/owl#AnnotationProperty')), (rdflib.term.URIRef('http://xmlns.com/foaf/0.1/PersonalProfileDocument'), rdflib.term.URIRef('http://www.w3.org/2000/01/rdf-schema#comment'), rdflib.term.Literal('A personal profile RDF document.')), (rdflib.term.URIRef('http://xmlns.com/foaf/0.1/aimChatID'), rdflib.term.URIRef('http://www.w3.org/2000/01/rdf-schema#domain'), rdflib.term.URIRef('http://xmlns.com/foaf/0.1/Agent')), (rdflib.term.URIRef('http://xmlns.com/foaf/0.1/page'), rdflib.term.URIRef('http://www.w3.org/1999/02/22-rdf-syntax-ns#type'), rdflib.term.URIRef('http://www.w3.org/2002/07/owl#ObjectProperty')), (rdflib.term.BNode('n7cba293c15d94b0a8987349e74668727b27'), rdflib.term.URIRef('http://www.w3.org/2002/07/owl#complementOf'), rdflib.term.URIRef('http://xmlns.com/foaf/0.1/Agent')), (rdflib.term.URIRef('http://xmlns.com/foaf/0.1/Document'), rdflib.term.URIRef('http://www.w3.org/2000/01/rdf-schema#label'), rdflib.term.Literal('(foaf) Document')), (rdflib.term.URIRef('http://xmlns.com/foaf/0.1/tipjar'), rdflib.term.URIRef('http://www.w3.org/2000/01/rdf-schema#domain'), rdflib.term.URIRef('http://xmlns.com/foaf/0.1/Agent')), (rdflib.term.URIRef('http://xmlns.com/foaf/0.1/Agent'), rdflib.term.URIRef('http://www.w3.org/2000/01/rdf-schema#comment'), rdflib.term.Literal('An agent (eg. person, group, software or physical artifact).')), (rdflib.term.URIRef('http://xmlns.com/foaf/0.1/Image'), rdflib.term.URIRef('http://www.w3.org/1999/02/22-rdf-syntax-ns#type'), rdflib.term.URIRef('http://www.w3.org/2002/07/owl#Class')), (rdflib.term.URIRef('http://xmlns.com/foaf/0.1/geekcode'), rdflib.term.URIRef('http://www.w3.org/1999/02/22-rdf-syntax-ns#type'), rdflib.term.URIRef('http://www.w3.org/2002/07/owl#DatatypeProperty')), (rdflib.term.BNode('n7cba293c15d94b0a8987349e74668727b8'), rdflib.term.URIRef('http://www.w3.org/1999/02/22-rdf-syntax-ns#rest'), rdflib.term.URIRef('http://www.w3.org/1999/02/22-rdf-syntax-ns#nil')), (rdflib.term.URIRef('http://xmlns.com/foaf/0.1/mbox'), rdflib.term.URIRef('http://www.w3.org/2000/01/rdf-schema#range'), rdflib.term.BNode('n7cba293c15d94b0a8987349e74668727b12')), (rdflib.term.BNode('n7cba293c15d94b0a8987349e74668727b9'), rdflib.term.URIRef('http://www.w3.org/1999/02/22-rdf-syntax-ns#type'), rdflib.term.URIRef('http://www.w3.org/2002/07/owl#Class')), (rdflib.term.URIRef('http://xmlns.com/foaf/0.1/maker'), rdflib.term.URIRef('http://www.w3.org/2000/01/rdf-schema#domain'), rdflib.term.URIRef('http://www.w3.org/2002/07/owl#Thing')), (rdflib.term.URIRef('http://xmlns.com/foaf/0.1/name'), rdflib.term.URIRef('http://www.w3.org/1999/02/22-rdf-syntax-ns#type'), rdflib.term.URIRef('http://www.w3.org/2002/07/owl#DatatypeProperty')), (rdflib.term.URIRef('http://xmlns.com/foaf/0.1/mbox'), rdflib.term.URIRef('http://www.w3.org/2000/01/rdf-schema#domain'), rdflib.term.URIRef('http://xmlns.com/foaf/0.1/Agent')), (rdflib.term.BNode('n7cba293c15d94b0a8987349e74668727b19'), rdflib.term.URIRef('http://www.w3.org/1999/02/22-rdf-syntax-ns#first'), rdflib.term.URIRef('http://xmlns.com/foaf/0.1/Project')), (rdflib.term.URIRef('http://www.w3.org/2003/06/sw-vocab-status/nsterm_status'), rdflib.term.URIRef('http://www.w3.org/1999/02/22-rdf-syntax-ns#type'), rdflib.term.URIRef('http://www.w3.org/2002/07/owl#AnnotationProperty')), (rdflib.term.BNode('n7cba293c15d94b0a8987349e74668727b15'), rdflib.term.URIRef('http://www.w3.org/1999/02/22-rdf-syntax-ns#first'), rdflib.term.URIRef('http://xmlns.com/foaf/0.1/Project')), (rdflib.term.URIRef('http://xmlns.com/foaf/0.1/workplaceHomepage'), rdflib.term.URIRef('http://www.w3.org/2000/01/rdf-schema#domain'), rdflib.term.URIRef('http://xmlns.com/foaf/0.1/Person')), (rdflib.term.URIRef('http://xmlns.com/foaf/0.1/Document'), rdflib.term.URIRef('http://www.w3.org/2000/01/rdf-schema#isDefinedBy'), rdflib.term.URIRef('http://xmlns.com/foaf/0.1/')), (rdflib.term.URIRef('http://xmlns.com/foaf/0.1/currentProject'), rdflib.term.URIRef('http://www.w3.org/2000/01/rdf-schema#range'), rdflib.term.BNode('n7cba293c15d94b0a8987349e74668727b1')), (rdflib.term.URIRef('http://xmlns.com/foaf/0.1/depiction'), rdflib.term.URIRef('http://www.w3.org/2002/07/owl#inverseOf'), rdflib.term.URIRef('http://xmlns.com/foaf/0.1/depicts')), (rdflib.term.URIRef('http://xmlns.com/foaf/0.1/mbox'), rdflib.term.URIRef('http://www.w3.org/1999/02/22-rdf-syntax-ns#type'), rdflib.term.URIRef('http://www.w3.org/2002/07/owl#ObjectProperty')), (rdflib.term.URIRef('http://xmlns.com/foaf/0.1/made'), rdflib.term.URIRef('http://www.w3.org/2000/01/rdf-schema#range'), rdflib.term.BNode('n7cba293c15d94b0a8987349e74668727b27')), (rdflib.term.URIRef('http://xmlns.com/foaf/0.1/nick'), rdflib.term.URIRef('http://www.w3.org/1999/02/22-rdf-syntax-ns#type'), rdflib.term.URIRef('http://www.w3.org/2002/07/owl#DatatypeProperty')), (rdflib.term.BNode('n7cba293c15d94b0a8987349e74668727b17'), rdflib.term.URIRef('http://www.w3.org/1999/02/22-rdf-syntax-ns#type'), rdflib.term.URIRef('http://www.w3.org/2002/07/owl#Class')), (rdflib.term.BNode('n7cba293c15d94b0a8987349e74668727b5'), rdflib.term.URIRef('http://www.w3.org/1999/02/22-rdf-syntax-ns#type'), rdflib.term.URIRef('http://www.w3.org/2002/07/owl#Class')), (rdflib.term.BNode('n7cba293c15d94b0a8987349e74668727b9'), rdflib.term.URIRef('http://www.w3.org/2002/07/owl#unionOf'), rdflib.term.BNode('n7cba293c15d94b0a8987349e74668727b10')), (rdflib.term.URIRef('http://xmlns.com/foaf/0.1/name'), rdflib.term.URIRef('http://www.w3.org/2000/01/rdf-schema#domain'), rdflib.term.BNode('n7cba293c15d94b0a8987349e74668727b17')), (rdflib.term.URIRef('http://xmlns.com/foaf/0.1/depicts'), rdflib.term.URIRef('http://www.w3.org/2000/01/rdf-schema#range'), rdflib.term.URIRef('http://www.w3.org/2002/07/owl#Thing')), (rdflib.term.URIRef('http://xmlns.com/foaf/0.1/knows'), rdflib.term.URIRef('http://www.w3.org/2000/01/rdf-schema#domain'), rdflib.term.URIRef('http://xmlns.com/foaf/0.1/Person')), (rdflib.term.URIRef('http://xmlns.com/foaf/0.1/yahooChatID'), rdflib.term.URIRef('http://www.w3.org/2000/01/rdf-schema#domain'), rdflib.term.URIRef('http://xmlns.com/foaf/0.1/Agent')), (rdflib.term.BNode('n7cba293c15d94b0a8987349e74668727b22'), rdflib.term.URIRef('http://www.w3.org/2002/07/owl#unionOf'), rdflib.term.BNode('n7cba293c15d94b0a8987349e74668727b23')), (rdflib.term.URIRef('http://xmlns.com/foaf/0.1/nick'), rdflib.term.URIRef('http://www.w3.org/2000/01/rdf-schema#domain'), rdflib.term.URIRef('http://xmlns.com/foaf/0.1/Person')), (rdflib.term.URIRef('http://xmlns.com/foaf/0.1/weblog'), rdflib.term.URIRef('http://www.w3.org/2000/01/rdf-schema#range'), rdflib.term.URIRef('http://xmlns.com/foaf/0.1/Document')), (rdflib.term.BNode('n7cba293c15d94b0a8987349e74668727b21'), rdflib.term.URIRef('http://www.w3.org/2002/07/owl#complementOf'), rdflib.term.BNode('n7cba293c15d94b0a8987349e74668727b22')), (rdflib.term.URIRef('http://xmlns.com/foaf/0.1/mbox'), rdflib.term.URIRef('http://www.w3.org/1999/02/22-rdf-syntax-ns#type'), rdflib.term.URIRef('http://www.w3.org/2002/07/owl#InverseFunctionalProperty')), (rdflib.term.URIRef('http://xmlns.com/foaf/0.1/Agent'), rdflib.term.URIRef('http://www.w3.org/1999/02/22-rdf-syntax-ns#type'), rdflib.term.URIRef('http://www.w3.org/2002/07/owl#Class')), (rdflib.term.BNode('n7cba293c15d94b0a8987349e74668727b27'), rdflib.term.URIRef('http://www.w3.org/1999/02/22-rdf-syntax-ns#type'), rdflib.term.URIRef('http://www.w3.org/2002/07/owl#Class')), (rdflib.term.URIRef('http://xmlns.com/foaf/0.1/workplaceHomepage'), rdflib.term.URIRef('http://www.w3.org/2000/01/rdf-schema#range'), rdflib.term.URIRef('http://xmlns.com/foaf/0.1/Document')), (rdflib.term.URIRef('http://xmlns.com/foaf/0.1/Image'), rdflib.term.URIRef('http://www.w3.org/2000/01/rdf-schema#isDefinedBy'), rdflib.term.URIRef('http://xmlns.com/foaf/0.1/')), (rdflib.term.URIRef('http://xmlns.com/foaf/0.1/Person'), rdflib.term.URIRef('http://www.w3.org/2002/07/owl#disjointWith'), rdflib.term.URIRef('http://xmlns.com/foaf/0.1/Group')), (rdflib.term.URIRef('http://purl.org/dc/terms/creator'), rdflib.term.URIRef('http://www.w3.org/1999/02/22-rdf-syntax-ns#type'), rdflib.term.URIRef('http://www.w3.org/2002/07/owl#AnnotationProperty')), (rdflib.term.URIRef('http://xmlns.com/foaf/0.1/primaryTopic'), rdflib.term.URIRef('http://www.w3.org/2002/07/owl#inverseOf'), rdflib.term.URIRef('http://xmlns.com/foaf/0.1/isPrimaryTopicOf')), (rdflib.term.URIRef('http://xmlns.com/foaf/0.1/Agent'), rdflib.term.URIRef('http://www.w3.org/2002/07/owl#disjointWith'), rdflib.term.URIRef('http://xmlns.com/foaf/0.1/Document')), (rdflib.term.URIRef('http://xmlns.com/foaf/0.1/img'), rdflib.term.URIRef('http://www.w3.org/1999/02/22-rdf-syntax-ns#type'), rdflib.term.URIRef('http://www.w3.org/2002/07/owl#ObjectProperty')), (rdflib.term.URIRef('http://purl.org/dc/terms/format'), rdflib.term.URIRef('http://www.w3.org/1999/02/22-rdf-syntax-ns#type'), rdflib.term.URIRef('http://www.w3.org/2002/07/owl#AnnotationProperty')), (rdflib.term.URIRef('http://xmlns.com/foaf/0.1/Group'), rdflib.term.URIRef('http://www.w3.org/2000/01/rdf-schema#subClassOf'), rdflib.term.URIRef('http://xmlns.com/foaf/0.1/Agent')), (rdflib.term.URIRef('http://xmlns.com/foaf/0.1/PersonalProfileDocument'), rdflib.term.URIRef('http://www.w3.org/2000/01/rdf-schema#label'), rdflib.term.Literal('(foaf) PersonalProfileDocument')), (rdflib.term.URIRef('http://xmlns.com/foaf/0.1/pastProject'), rdflib.term.URIRef('http://www.w3.org/2000/01/rdf-schema#range'), rdflib.term.URIRef('http://xmlns.com/foaf/0.1/Project')), (rdflib.term.URIRef('http://xmlns.com/foaf/0.1/pastProject'), rdflib.term.URIRef('http://www.w3.org/1999/02/22-rdf-syntax-ns#type'), rdflib.term.URIRef('http://www.w3.org/2002/07/owl#ObjectProperty')), (rdflib.term.URIRef('http://xmlns.com/foaf/0.1/Agent'), rdflib.term.URIRef('http://www.w3.org/1999/02/22-rdf-syntax-ns#type'), rdflib.term.URIRef('http://www.w3.org/2000/01/rdf-schema#Class')), (rdflib.term.URIRef('http://xmlns.com/foaf/0.1/interest'), rdflib.term.URIRef('http://www.w3.org/2000/01/rdf-schema#range'), rdflib.term.URIRef('http://xmlns.com/foaf/0.1/Document')), (rdflib.term.BNode('n7cba293c15d94b0a8987349e74668727b14'), rdflib.term.URIRef('http://www.w3.org/1999/02/22-rdf-syntax-ns#first'), rdflib.term.URIRef('http://xmlns.com/foaf/0.1/Agent')), (rdflib.term.URIRef('http://xmlns.com/foaf/0.1/Group'), rdflib.term.URIRef('http://www.w3.org/2002/07/owl#disjointWith'), rdflib.term.URIRef('http://xmlns.com/foaf/0.1/Person')), (rdflib.term.URIRef('http://xmlns.com/foaf/0.1/Person'), rdflib.term.URIRef('http://www.w3.org/1999/02/22-rdf-syntax-ns#type'), rdflib.term.URIRef('http://www.w3.org/2002/07/owl#Class')), (rdflib.term.URIRef('http://xmlns.com/foaf/0.1/Project'), rdflib.term.URIRef('http://www.w3.org/2000/01/rdf-schema#comment'), rdflib.term.Literal('A project (a collective endeavour of some kind).')), (rdflib.term.URIRef('http://xmlns.com/foaf/0.1/Person'), rdflib.term.URIRef('http://www.w3.org/2000/01/rdf-schema#comment'), rdflib.term.Literal('A person.')), (rdflib.term.URIRef('http://xmlns.com/foaf/0.1/isPrimaryTopicOf'), rdflib.term.URIRef('http://www.w3.org/1999/02/22-rdf-syntax-ns#type'), rdflib.term.URIRef('http://www.w3.org/2002/07/owl#ObjectProperty')), (rdflib.term.URIRef('http://xmlns.com/foaf/0.1/Project'), rdflib.term.URIRef('http://www.w3.org/1999/02/22-rdf-syntax-ns#type'), rdflib.term.URIRef('http://www.w3.org/2002/07/owl#Class')), (rdflib.term.URIRef('http://xmlns.com/foaf/0.1/schoolHomepage'), rdflib.term.URIRef('http://www.w3.org/1999/02/22-rdf-syntax-ns#type'), rdflib.term.URIRef('http://www.w3.org/2002/07/owl#ObjectProperty')), (rdflib.term.BNode('n7cba293c15d94b0a8987349e74668727b11'), rdflib.term.URIRef('http://www.w3.org/1999/02/22-rdf-syntax-ns#first'), rdflib.term.URIRef('http://xmlns.com/foaf/0.1/Project')), (rdflib.term.URIRef('http://xmlns.com/foaf/0.1/currentProject'), rdflib.term.URIRef('http://www.w3.org/1999/02/22-rdf-syntax-ns#type'), rdflib.term.URIRef('http://www.w3.org/2002/07/owl#ObjectProperty')), (rdflib.term.BNode('n7cba293c15d94b0a8987349e74668727b14'), rdflib.term.URIRef('http://www.w3.org/1999/02/22-rdf-syntax-ns#rest'), rdflib.term.BNode('n7cba293c15d94b0a8987349e74668727b15')), (rdflib.term.BNode('n7cba293c15d94b0a8987349e74668727b3'), rdflib.term.URIRef('http://www.w3.org/1999/02/22-rdf-syntax-ns#first'), rdflib.term.URIRef('http://xmlns.com/foaf/0.1/Agent')), (rdflib.term.URIRef('http://xmlns.com/foaf/0.1/aimChatID'), rdflib.term.URIRef('http://www.w3.org/2000/01/rdf-schema#subPropertyOf'), rdflib.term.URIRef('http://xmlns.com/foaf/0.1/nick')), (rdflib.term.URIRef('http://xmlns.com/foaf/0.1/schoolHomepage'), rdflib.term.URIRef('http://www.w3.org/2000/01/rdf-schema#domain'), rdflib.term.URIRef('http://xmlns.com/foaf/0.1/Person')), (rdflib.term.URIRef('http://xmlns.com/foaf/0.1/topic_interest'), rdflib.term.URIRef('http://www.w3.org/1999/02/22-rdf-syntax-ns#type'), rdflib.term.URIRef('http://www.w3.org/2002/07/owl#ObjectProperty')), (rdflib.term.URIRef('http://xmlns.com/foaf/0.1/Project'), rdflib.term.URIRef('http://www.w3.org/2002/07/owl#disjointWith'), rdflib.term.URIRef('http://xmlns.com/foaf/0.1/Document'))]\u001b[0m\n",
      "\n",
      "\u001b[1m> Finished chain.\u001b[0m\n"
     ]
    },
    {
     "data": {
      "text/plain": [
       "'Certainly! Here\\'s an overview of the relationships among the recognized entities based on the provided RDF data:\\n\\n1. **Classes and Their Properties**:\\n   - `foaf:Person` is defined as a subclass of `foaf:Agent` and has various properties such as `foaf:firstName`, `foaf:surname`, `foaf:family_name`, `foaf:givenname`, `foaf:mbox`, `foaf:homepage`, and `foaf:gender`. It is disjoint with `foaf:Organization` and `foaf:Group`.\\n   - `foaf:Organization` is also a subclass of `foaf:Agent` and is defined to be disjoint with `foaf:Person` and `foaf:Group`.\\n   - `foaf:Group` is defined as a class of agents, subclass of `foaf:Agent`, and is disjoint with `foaf:Person` and `foaf:Organization`.\\n   - `foaf:Document` and `foaf:Image` are subclasses of each other, with specific properties like `foaf:depiction` for images. `foaf:Document` is disjoint with `foaf:Agent`, `foaf:OnlineAccount`, and `foaf:Project`.\\n   - `foaf:Project` and `foaf:OnlineAccount` are defined as classes and have specific properties. Both are disjoint with `foaf:Agent` and each other.\\n\\n2. **Properties and Their Characteristics**:\\n   - Properties like `foaf:depiction`, `foaf:isPrimaryTopicOf`, `foaf:page`, and `foaf:homepage` are defined with specific domains and ranges, linking entities like `foaf:Agent`, `foaf:Document`, and `foaf:Image`.\\n   - Inverse properties are defined, such as `foaf:depicts` being the inverse of `foaf:depiction`.\\n   - Some properties are also marked as `owl:ObjectProperty` or `owl:DatatypeProperty`, indicating their nature of linking either to objects or data values.\\n\\n3. **Special Properties**:\\n   - `foaf:isPrimaryTopicOf` is an `owl:InverseFunctionalProperty`, ensuring that it uniquely identifies subjects.\\n   - `foaf:homepage` and `foaf:mbox` are both `owl:InverseFunctionalProperty`, which are unique identifiers for subjects they describe.\\n\\n4. **Annotations and Descriptions**:\\n   - Various entities and properties have annotations like comments or labels to provide more context. For example, `foaf:Document` is simply annotated with \"A document.\"\\n\\nThis structured data interlinks various entities and properties to form a coherent schema under the FOAF (Friend of a Friend) ontology, which is used to describe people, their activities, and their relations to other people and objects.'"
      ]
     },
     "execution_count": 9,
     "metadata": {},
     "output_type": "execute_result"
    }
   ],
   "source": [
    "chain.invoke(\n",
    "    {chain.input_key: \"Can you bring relations among the recognized entities?\"}\n",
    ")[chain.output_key]"
   ]
  },
  {
   "cell_type": "markdown",
   "id": "11511345-8436-4634-92c6-36f2c0dd44db",
   "metadata": {
    "id": "11511345-8436-4634-92c6-36f2c0dd44db"
   },
   "source": [
    "## Chain modifiers\n",
    "\n",
    "AnzoGraph DB QA Chain allows prompt refinement for further improvement of the QA chains and enhancing the overall user experience, in order to prevent errors in LangChain's responses to user prompts, caused by formatting issues in SPARQL queries generated by the LLM. Generation Templates were developed for the SELECT and UPDATE query intents to mitigate this risk of response errors in the Python environment, especially instructing the LLM to avoid the use of backticks.\n",
    "\n",
    "\n",
    "### \"SPARQL Generation\" prompt\n",
    "\n",
    "The prompt is used for the SPARQL query generation (SELECT or UPDATE statements) based on the user question detected intent, and the KG schema.\n",
    "\n",
    "- `sparql_generation_prompt`\n",
    "\n",
    "    Default value:\n",
    "  ````python\n",
    "    ANZOGRAPHDB_INTENT_PROMPT = PromptTemplate(\n",
    "    input_variables=[\"prompt\"], template=ANZOGRAPHDB_INTENT_TEMPLATE)\n",
    "\n",
    "    ANZOGRAPHDB_GENERATION_SELECT_TEMPLATE = \"\"\"Task: Generate a SPARQL SELECT statement for querying a graph database.\n",
    "    Do NOT use neither backticks (```) nor backsticks with \"sparql\" (```sparql) in the Generated SPARQL. \n",
    "    For instance, to find all email addresses of John Doe, the following query would be suitable:\n",
    "\n",
    "    PREFIX foaf: <http://xmlns.com/foaf/0.1/>\n",
    "    SELECT ?email\n",
    "    WHERE {{\n",
    "        ?person foaf:name \"John Doe\" .\n",
    "        ?person foaf:mbox ?email .\n",
    "    }}\n",
    "\n",
    "    Instructions:\n",
    "    Use only the node types and properties provided in the schema.\n",
    "    Do not use any node types and properties that are not explicitly provided.\n",
    "    Include all necessary prefixes.\n",
    "    Schema:\n",
    "    {schema}\n",
    "    Note: Be as concise as possible.\n",
    "    Do not include any explanations or apologies in your responses.\n",
    "    Do not respond to any questions that ask for anything else than for you to construct a SPARQL query.\n",
    "    Do not include any text except the SPARQL query generated.\n",
    "\n",
    "    The question is:\n",
    "    {prompt}\"\"\"\n",
    "    ANZOGRAPHDB_GENERATION_SELECT_PROMPT = PromptTemplate(\n",
    "        input_variables=[\"schema\", \"prompt\"], template=ANZOGRAPHDB_GENERATION_SELECT_TEMPLATE\n",
    "    )\n",
    "\n",
    "    ANZOGRAPHDB_GENERATION_UPDATE_TEMPLATE = \"\"\"Task: Generate a SPARQL UPDATE statement for updating a graph database.\n",
    "    Do NOT use neither backticks (```) nor backsticks with \"sparql\" (```sparql) in the Generated SPARQL. \n",
    "    For instance, to add 'jane.doe@foo.bar' as a new email address for Jane Doe, the following query would be suitable:\n",
    "\n",
    "    PREFIX foaf: <http://xmlns.com/foaf/0.1/>\n",
    "    INSERT {{\n",
    "        ?person foaf:mbox <mailto:jane.doe@foo.bar> .\n",
    "    }}\n",
    "    WHERE {{\n",
    "        ?person foaf:name \"Jane Doe\" .\n",
    "    }}\n",
    "\n",
    "    Instructions:\n",
    "    Make the query as short as possible and avoid adding unnecessary triples.\n",
    "    Use only the node types and properties provided in the schema.\n",
    "    Do not use any node types and properties that are not explicitly provided.\n",
    "    Include all necessary prefixes.\n",
    "    Schema:\n",
    "    {schema}\n",
    "    Note: Be as concise as possible.\n",
    "    Do not include any explanations or apologies in your responses.\n",
    "    Do not respond to any questions that ask for anything else than for you to construct a SPARQL query.\n",
    "    Return only the generated SPARQL query, nothing else.\n",
    "\n",
    "    The information to be inserted is:\n",
    "    {prompt}\"\"\"\n",
    "    ANZOGRAPHDB_GENERATION_UPDATE_PROMPT = PromptTemplate(\n",
    "        input_variables=[\"schema\", \"prompt\"], template=ANZOGRAPHDB_GENERATION_UPDATE_TEMPLATE\n",
    "    )\n",
    "\n",
    "  ````\n",
    "\n",
    "### \"SPARQL Fix\" prompt\n",
    "\n",
    "In our tests, the use of the SPARQL Generation prompts was enough totally prevent errors or missing prefixes, etc. In case it is not sufficient with the use of any LLM, a SPARQL fix prompt was also created and it is available in the documentation of the chain prompts templates. The chain will try to amend this by prompting the LLM to correct it a certain number of times.\n",
    "\n",
    "- `sparql_fix_prompt`\n",
    "\n",
    "    Default value:\n",
    "  ````python\n",
    "    ANZOGRAPHDB_QA_FIX_TEMPLATE = \"\"\"\n",
    "    This following SPARQL query delimited by triple backticks\n",
    "    ```\n",
    "    {generated_sparql}\n",
    "    ```\n",
    "    is not valid.\n",
    "    The error delimited by triple backticks is\n",
    "    ```\n",
    "    {error_message}\n",
    "    ```\n",
    "\n",
    "    Give me a correct version of the SPARQL query.\n",
    "    Include  the SPARQL query generated.\n",
    "    Do not change the logic of the query.\n",
    "    Do not include any explanations or apologies in your responses.\n",
    "    Do not wrap the query in backticks.\n",
    "    Do not include any text except the SPARQL query generated.\n",
    "    The ontology schema delimited by triple backticks in Turtle format is:\n",
    "    ```\n",
    "    {schema}\n",
    "    ```\n",
    "    \"\"\"\n",
    "    ANZOGRAPHDB_QA_FIX_PROMPT = PromptTemplate(\n",
    "        input_variables=[\"error_message\", \"generated_sparql\", \"schema\"],\n",
    "        template=ANZOGRAPHDB_QA_FIX_TEMPLATE\n",
    "    )\n",
    "\n",
    "  ````\n",
    "\n",
    "- `max_fix_retries`\n",
    "  \n",
    "    Default value: `5`\n",
    "\n",
    "### \"Answering\" prompt\n",
    "\n",
    "The prompt is used for answering the question based on the results returned from the database and the initial user question. By default, the LLM is instructed to only use the information from the returned result(s). If the result set is empty, the LLM should inform that it can't answer the question.\n",
    "\n",
    "- `qa_prompt`\n",
    "  \n",
    "  Default value:\n",
    "  ````python\n",
    "    ANZOGRAPHDB_QA_TEMPLATE = \"\"\"Task: Generate a natural language response from the results of a SPARQL query.\n",
    "    You are an assistant that creates well-written and human understandable answers.\n",
    "    The information part contains the information provided, which you can use to construct an answer.\n",
    "    The information provided is authoritative, you must never doubt it or try to use your internal knowledge to correct it.\n",
    "    Make your response sound like the information is coming from an AI assistant, but don't add any information.\n",
    "    Information:\n",
    "    {context}\n",
    "\n",
    "    Question: {prompt}\n",
    "    Helpful Answer:\"\"\"\n",
    "    ANZOGRAPHDB_QA_PROMPT = PromptTemplate(\n",
    "        input_variables=[\"context\", \"prompt\"], template=ANZOGRAPHDB_QA_TEMPLATE)\n",
    "  ````"
   ]
  },
  {
   "cell_type": "markdown",
   "id": "c6689b98",
   "metadata": {},
   "source": [
    "<hr>"
   ]
  }
 ],
 "metadata": {
  "colab": {
   "provenance": [],
   "toc_visible": true
  },
  "kernelspec": {
   "display_name": "Python 3 (ipykernel)",
   "language": "python",
   "name": "python3"
  },
  "language_info": {
   "codemirror_mode": {
    "name": "ipython",
    "version": 3
   },
   "file_extension": ".py",
   "mimetype": "text/x-python",
   "name": "python",
   "nbconvert_exporter": "python",
   "pygments_lexer": "ipython3",
   "version": "3.9.1"
  }
 },
 "nbformat": 4,
 "nbformat_minor": 5
}
