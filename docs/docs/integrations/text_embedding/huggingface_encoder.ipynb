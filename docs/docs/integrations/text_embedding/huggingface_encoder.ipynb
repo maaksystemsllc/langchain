{
 "cells": [
  {
   "cell_type": "markdown",
   "id": "ff4dd3b8-dd38-4ec9-9b54-b29e8047758b",
   "metadata": {},
   "source": [
    "HuggingFace Encoder-Only Model"
   ]
  },
  {
   "cell_type": "code",
   "execution_count": null,
   "id": "b6850823-bd0d-4374-8114-f63bbd44983d",
   "metadata": {},
   "outputs": [],
   "source": [
    "%pip install --upgrade --quiet torch transformers"
   ]
  },
  {
   "cell_type": "code",
   "execution_count": 1,
   "id": "65c5b6a4-79de-4ef5-ba03-05691f2a3739",
   "metadata": {},
   "outputs": [],
   "source": [
    "from langchain_community.embeddings.huggingface import HuggingFaceEncoderEmbeddings"
   ]
  },
  {
   "cell_type": "code",
   "execution_count": null,
   "id": "0ab5f902-e1ff-433c-8619-cc5d900a9937",
   "metadata": {},
   "outputs": [],
   "source": [
    "embedding = HuggingFaceEncoderEmbeddings(\n",
    "    model_name=\"distilbert/distilbert-base-uncased\",\n",
    "    tokenizer_name=\"distilbert/distilbert-base-uncased\",\n",
    "    device=\"cpu\", # or device=\"cuda:0\",\n",
    "    batch_size=2,\n",
    "    use_cls_embedding=False,\n",
    "    model_kwargs = {},\n",
    "    tokenizer_kwargs={\n",
    "        \"max_length\": 768, \n",
    "        \"add_special_tokens\": False\n",
    "    }\n",
    ")"
   ]
  },
  {
   "cell_type": "code",
   "execution_count": 3,
   "id": "3f6d47d0-c466-44ed-96c7-57d38e231730",
   "metadata": {},
   "outputs": [],
   "source": [
    "vec = embedding.embed_query(\"hello world\")"
   ]
  },
  {
   "cell_type": "code",
   "execution_count": null,
   "id": "afc6ad64-bf9c-4f0e-9e8d-c98be01a024d",
   "metadata": {},
   "outputs": [],
   "source": []
  }
 ],
 "metadata": {
  "kernelspec": {
   "display_name": "Python 3 (ipykernel)",
   "language": "python",
   "name": "python3"
  },
  "language_info": {
   "codemirror_mode": {
    "name": "ipython",
    "version": 3
   },
   "file_extension": ".py",
   "mimetype": "text/x-python",
   "name": "python",
   "nbconvert_exporter": "python",
   "pygments_lexer": "ipython3",
   "version": "3.10.12"
  }
 },
 "nbformat": 4,
 "nbformat_minor": 5
}
