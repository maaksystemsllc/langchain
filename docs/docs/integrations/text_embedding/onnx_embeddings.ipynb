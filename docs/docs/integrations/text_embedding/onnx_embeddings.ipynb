{
 "cells": [
  {
   "cell_type": "markdown",
   "id": "719619d3",
   "metadata": {},
   "source": [
    "# ONNX Embeddings\n",
    "\n",
    "[ONNX compatible-runtime with any model from the HuggingFace](https://huggingface.co/).\n",
    "\n",
    "\n",
    "This notebook shows how to use `ONNXEmbeddings` with a BGE model created by the [Beijing Academy of Artificial Intelligence (BAAI)](https://www.baai.ac.cn/english.html) from `Hugging Face`."
   ]
  },
  {
   "cell_type": "code",
   "execution_count": null,
   "id": "f7a54279",
   "metadata": {
    "scrolled": true
   },
   "outputs": [],
   "source": [
    "!pip install optimum transformers onnxruntime onnx"
   ]
  },
  {
   "cell_type": "code",
   "execution_count": null,
   "id": "9e1d5b6b",
   "metadata": {},
   "outputs": [],
   "source": [
    "from langchain_community.embeddings import ONNXEmbeddings\n",
    "from langchain_community.embeddings.huggingface import DEFAULT_QUERY_BGE_INSTRUCTION_EN\n",
    "\n",
    "model_name = \"BAAI/bge-large-en-v1.5\"\n",
    "query_instruction = DEFAULT_QUERY_BGE_INSTRUCTION_EN\n",
    "\n",
    "model_kwargs = {\"device\": \"cpu\"}\n",
    "\n",
    "model = ONNXEmbeddings(model_name=model_name, model_kwargs=model_kwargs)"
   ]
  },
  {
   "cell_type": "code",
   "execution_count": null,
   "id": "e59d1a89",
   "metadata": {},
   "outputs": [],
   "source": [
    "embedding = model.embed_query(\n",
    "    \"How awesome is it, that we are now able to use ONNX-compatible runtimes in LangChain?\"\n",
    ")\n",
    "len(embedding)"
   ]
  },
  {
   "cell_type": "code",
   "execution_count": null,
   "id": "e596315f",
   "metadata": {},
   "outputs": [],
   "source": []
  }
 ],
 "metadata": {
  "kernelspec": {
   "display_name": "Python 3 (ipykernel)",
   "language": "python",
   "name": "python3"
  },
  "language_info": {
   "codemirror_mode": {
    "name": "ipython",
    "version": 3
   },
   "file_extension": ".py",
   "mimetype": "text/x-python",
   "name": "python",
   "nbconvert_exporter": "python",
   "pygments_lexer": "ipython3",
   "version": "3.11.1"
  }
 },
 "nbformat": 4,
 "nbformat_minor": 5
}
