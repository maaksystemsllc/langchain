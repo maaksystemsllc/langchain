{
 "cells": [
  {
   "cell_type": "markdown",
   "id": "c75efab3",
   "metadata": {},
   "source": [
    "# Database-bound prompt templates\n",
    "\n",
    "A common pattern with prompt templates is the following: you want to fill the variables in the prompt with information read from an external storage, such as a database. Conceptually at \"format-time\", the table(s) primary key(s), such as `user_id`, would be the inputs needed to retrieve the record(s) through DB lookup, but then _other columns_ from these records will need to end up in the formatted prompt string: for instance, `user_name` or `short_name`.\n",
    "\n",
    "The \"converter-based\" prompt template, and its DB-specific implementations, are designed to enable this kind of usage in just a few lines of code.\n",
    "\n",
    "In other words, the `ConverterPromptTemplate` class implements a decoupling between the inputs to the `format` method and the actual set of variables that need to be supplied to format the prompt, introducing the notion of a \"converter\" function, essentially bridging this newly-opened gap.\n",
    "\n",
    "In the above example, the \"converter\" retains a connection to a database and handles the DB I/O, thereby providing a function from `{\"user_id\": \"...\"}` to `{\"user_name\": \"...\", \"short_name\": \"...\"}`.\n",
    "\n",
    "While some custom flows may use converter-based prompt templates directly, in most cases you'll want to take advantage of one of the \"DB reader prompt templates\" that are built on top of them. In the following you'll first quickly see the general idea in action, then turn to a practical application using Apache Cassandra® as the database bound to the template.\n",
    "\n",
    "To demonstrate how the converter-based prompt template can be used to create templates bound to any persistence system, usage of an equivalent Feast-bound template is briefly sketched at the end."
   ]
  },
  {
   "cell_type": "markdown",
   "id": "5d56ce86",
   "metadata": {},
   "source": [
    "### In pictures\n",
    "\n",
    "The diagram below illustrates how the \"converter function\" (a map from a `dict` to a `dict`) binds to the database and provides a database-lookup bridge to convert the input variables into those required to complete the prompt.\n",
    "\n",
    "![Cassandra-bound prompt template](https://user-images.githubusercontent.com/14221764/284892387-d8dcfd8f-828a-4ae8-9874-b4961747eaa5.png)\n",
    "These prompt templates support \"passthrough\" variables as well (the `adj` string in the example) as well as partialing.\n",
    "\n",
    "The converter, in general, can behave in any way it wants - although the intended usage is that of a lookup on one (or more) database tables."
   ]
  },
  {
   "cell_type": "markdown",
   "id": "84090414-5b5b-4bc0-a529-84003f1b1dca",
   "metadata": {},
   "source": [
    "## A simple example"
   ]
  },
  {
   "cell_type": "markdown",
   "id": "c2c8f4ea",
   "metadata": {},
   "source": [
    "Let's see the various parts in action with a mock \"database retriever\":"
   ]
  },
  {
   "cell_type": "code",
   "execution_count": null,
   "id": "3ad1efdc",
   "metadata": {},
   "outputs": [],
   "source": [
    "from typing import Any, Dict\n",
    "\n",
    "from langchain_community.prompts.converter_prompt_template import (\n",
    "    ConverterPromptTemplate,\n",
    ")\n",
    "\n",
    "\n",
    "def mock_db_reader(keys: Dict[str, str]) -> Dict[str, Any]:\n",
    "    # we pretend we're reading this from a database to keep the demonstration simple:\n",
    "    user_id = keys[\"user_id\"]\n",
    "    return {\n",
    "        \"user_name\": user_id.replace(\"_\", \" \").title(),\n",
    "        \"short_name\": user_id[:2].upper(),\n",
    "    }\n",
    "\n",
    "\n",
    "print(mock_db_reader({\"user_id\": \"marc_triggiani\"}))"
   ]
  },
  {
   "cell_type": "markdown",
   "id": "53610c00-281f-4c45-ad5d-0bb409343bce",
   "metadata": {},
   "source": [
    "When creating the template, we supply the converter, an F-string, and specify the input/output variables (with special care to tell the template what does the converter do):"
   ]
  },
  {
   "cell_type": "code",
   "execution_count": null,
   "id": "991fbd50-2658-4d1f-a574-12461f2a26ac",
   "metadata": {},
   "outputs": [],
   "source": [
    "prompt_fstring = (\n",
    "    \"Please write a {adj} greeting for {user_name} \"\n",
    "    \"(you may use the informal name '{short_name}' where appropriate)\"\n",
    ")\n",
    "\n",
    "c_p_template = ConverterPromptTemplate(\n",
    "    template=prompt_fstring,\n",
    "    input_variables=[\"adj\"],\n",
    "    converter=mock_db_reader,\n",
    "    converter_input_variables=[\"user_id\"],\n",
    "    converter_output_variables=[\"user_name\", \"short_name\"],\n",
    ")"
   ]
  },
  {
   "cell_type": "code",
   "execution_count": null,
   "id": "f0ea5111-621c-4407-944a-ffbd5ec7ecde",
   "metadata": {},
   "outputs": [],
   "source": [
    "c_p_template.format(user_id=\"otto_schneider\", adj=\"sassy\")"
   ]
  },
  {
   "cell_type": "markdown",
   "id": "7fcbf6ef",
   "metadata": {},
   "source": [
    "## Cassandra-bound prompt templates\n",
    "\n",
    "> Apache Cassandra® is a NoSQL, row-oriented, highly scalable and highly available database. Starting with version 5.0, the database ships with vector search capabilities.\n",
    "\n",
    "Now that the core logic is covered, let us use the `CassandraReaderPromptTemplate` specialized prompt template and bind the template formatting to actual data from a Cassandra table.\n",
    "\n",
    "The next cells guide you through the (little) required setup, then the prompt template will be demonstrated."
   ]
  },
  {
   "cell_type": "markdown",
   "id": "09f1dc78-f7fa-4895-a9b2-d517da66a190",
   "metadata": {},
   "source": [
    "### Required dependency"
   ]
  },
  {
   "cell_type": "code",
   "execution_count": null,
   "id": "e2f4c3b2-6bcc-42b1-826d-efa2480494e0",
   "metadata": {},
   "outputs": [],
   "source": [
    "%pip install --upgrade --quiet \"cassio>=0.1.4\""
   ]
  },
  {
   "cell_type": "markdown",
   "id": "3a9f29dc-4023-424e-94d3-789ddf431084",
   "metadata": {},
   "source": [
    "### Connect to the DB\n",
    "\n",
    "The Cassandra-bound template shown in this page can be used with Cassandra as well as other derived databases, such as Astra DB, which use the CQL (Cassandra Query Language) protocol.\n",
    "\n",
    "> DataStax [Astra DB](https://docs.datastax.com/en/astra-serverless/docs/vector-search/quickstart.html) is a managed serverless database built on Cassandra, offering the same interface and strengths.\n",
    "\n",
    "Depending on whether you connect to a Cassandra cluster or to Astra DB through CQL, you will provide different parameters when instantiating the class (through initialization of a CassIO connection)."
   ]
  },
  {
   "cell_type": "markdown",
   "id": "75c988ed-bbe5-402e-8985-8907e4f9436d",
   "metadata": {},
   "source": [
    "#### Connecting to a Cassandra cluster\n",
    "\n",
    "You first need to create a cassandra.cluster.Session object, as described in the [Cassandra driver documentation](https://docs.datastax.com/en/developer/python-driver/latest/api/cassandra/cluster/#module-cassandra.cluster). The details vary (e.g. with network settings and authentication), but this might be something like:"
   ]
  },
  {
   "cell_type": "code",
   "execution_count": null,
   "id": "1a372032-434c-4708-9f6a-636d9f3092dc",
   "metadata": {},
   "outputs": [],
   "source": [
    "from cassandra.cluster import Cluster\n",
    "\n",
    "cluster = Cluster([\"172.17.0.2\"])\n",
    "session = cluster.connect()"
   ]
  },
  {
   "cell_type": "markdown",
   "id": "133e1fe9-6f1f-4f84-ae82-9ffa1da79a97",
   "metadata": {},
   "source": [
    "You can now set the session, along with your desired keyspace name, as a global CassIO parameter:"
   ]
  },
  {
   "cell_type": "code",
   "execution_count": null,
   "id": "3f5cdc67-2727-40a9-8ed1-41eca7ceb6a3",
   "metadata": {},
   "outputs": [],
   "source": [
    "import cassio\n",
    "\n",
    "CASSANDRA_KEYSPACE = input(\"CASSANDRA_KEYSPACE = \")\n",
    "\n",
    "cassio.init(session=session, keyspace=CASSANDRA_KEYSPACE)"
   ]
  },
  {
   "cell_type": "markdown",
   "id": "5d2ab4f2-5797-411e-9ea8-9e69081c94d4",
   "metadata": {},
   "source": [
    "#### Connecting to Astra DB through CQL\n",
    "\n",
    "In this case you initialize CassIO with the following connection parameters:\n",
    "\n",
    "- the Database ID, e.g. `01234567-89ab-cdef-0123-456789abcdef`\n",
    "- the Token, e.g. `AstraCS:6gBhNmsk135....` (it must be a \"Database Administrator\" token)\n",
    "- optionally a Keyspace name (if omitted, the default one for the database will be used)"
   ]
  },
  {
   "cell_type": "code",
   "execution_count": null,
   "id": "976e8ebb-a7c2-4692-8bb8-8b803f821c03",
   "metadata": {},
   "outputs": [],
   "source": [
    "import getpass\n",
    "\n",
    "ASTRA_DB_ID = input(\"ASTRA_DB_ID = \")\n",
    "ASTRA_DB_APPLICATION_TOKEN = getpass.getpass(\"ASTRA_DB_APPLICATION_TOKEN = \")\n",
    "\n",
    "desired_keyspace = input(\"ASTRA_DB_KEYSPACE (optional, can be left empty) = \")\n",
    "if desired_keyspace:\n",
    "    ASTRA_DB_KEYSPACE = desired_keyspace\n",
    "else:\n",
    "    ASTRA_DB_KEYSPACE = None"
   ]
  },
  {
   "cell_type": "code",
   "execution_count": null,
   "id": "0080632e-ae81-4f23-8b89-823c87119fb6",
   "metadata": {},
   "outputs": [],
   "source": [
    "import cassio\n",
    "\n",
    "cassio.init(\n",
    "    database_id=ASTRA_DB_ID,\n",
    "    token=ASTRA_DB_APPLICATION_TOKEN,\n",
    "    keyspace=ASTRA_DB_KEYSPACE,\n",
    ")"
   ]
  },
  {
   "cell_type": "markdown",
   "id": "0a546dc8-8917-491e-ad0d-7d85c641e875",
   "metadata": {},
   "source": [
    "### Prepare data on DB"
   ]
  },
  {
   "cell_type": "markdown",
   "id": "101d4a42-cca2-417b-9ff8-956b01648d3b",
   "metadata": {},
   "source": [
    "Do not mind the next cell too much: it has the sole purpose of preparing suitable data in your database for this demo to run properly."
   ]
  },
  {
   "cell_type": "code",
   "execution_count": null,
   "id": "a296d6a5-236c-4f63-b17e-b9ed3f589500",
   "metadata": {},
   "outputs": [],
   "source": [
    "_session = cassio.config.resolve_session()\n",
    "_keyspace = cassio.config.resolve_keyspace()\n",
    "\n",
    "_session.execute(\n",
    "    f\"CREATE TABLE IF NOT EXISTS {_keyspace}.demo_users (user_id TEXT PRIMARY KEY, user_name TEXT, short_name TEXT);\"\n",
    ")\n",
    "_session.execute(\n",
    "    f\"INSERT INTO {_keyspace}.demo_users (user_id, user_name, short_name) VALUES ('john_doe', 'John Doe', 'JO');\"\n",
    ")\n",
    "_session.execute(\n",
    "    f\"INSERT INTO {_keyspace}.demo_users (user_id, user_name, short_name) VALUES ('ann_smith', 'Ann Smith', 'AN');\"\n",
    ")"
   ]
  },
  {
   "cell_type": "markdown",
   "id": "715cfc03-38c5-442b-b4b7-e05c017e3d0a",
   "metadata": {},
   "source": [
    "### Set up the prompt template"
   ]
  },
  {
   "cell_type": "code",
   "execution_count": null,
   "id": "f39db15d-005d-402e-9184-1767956afa73",
   "metadata": {},
   "outputs": [],
   "source": [
    "from langchain_community.prompts import CassandraReaderPromptTemplate"
   ]
  },
  {
   "cell_type": "markdown",
   "id": "8cdb607b-1895-4bf4-828c-95589d5228c7",
   "metadata": {},
   "source": [
    "When creating the `CassandraReaderPromptTemplate`, you will pass a \"field mapper\" to list, for each of the variables in the prompt,\n",
    "the source table and column. The prompt template will figure out which inputs are required (e.g. `user_id`) and, if necessary, will merge information from several tables with an optimized query plan."
   ]
  },
  {
   "cell_type": "code",
   "execution_count": null,
   "id": "21e2928d-1733-4693-99c0-b7c26301d856",
   "metadata": {},
   "outputs": [],
   "source": [
    "f_mapper = {\n",
    "    \"user_name\": (\"demo_users\", \"user_name\"),\n",
    "    \"short_name\": (\"demo_users\", \"short_name\"),\n",
    "}\n",
    "\n",
    "cassandra_prompt_template = CassandraReaderPromptTemplate(\n",
    "    template=prompt_fstring,\n",
    "    field_mapper=f_mapper,\n",
    ")"
   ]
  },
  {
   "cell_type": "markdown",
   "id": "89244dec-9a34-437c-958b-12c21d472fe3",
   "metadata": {},
   "source": [
    "Once the above template is created, you can format it over and over simply with:"
   ]
  },
  {
   "cell_type": "code",
   "execution_count": null,
   "id": "71128cc1-b32c-404f-8119-5f82a2fd4220",
   "metadata": {},
   "outputs": [],
   "source": [
    "cassandra_prompt_template.format(user_id=\"john_doe\", adj=\"lackadaisical\")"
   ]
  },
  {
   "cell_type": "code",
   "execution_count": null,
   "id": "2d25a361-d3ee-47e2-987d-ff26ad49ae84",
   "metadata": {},
   "outputs": [],
   "source": [
    "cassandra_prompt_template.format(user_id=\"ann_smith\", adj=\"tongue-in-cheek\")"
   ]
  },
  {
   "cell_type": "markdown",
   "id": "0e5bf20f-0d94-4d39-b3ff-c27c5f4f7394",
   "metadata": {},
   "source": [
    "_Advanced topics_:\n",
    "- the class has an `admit_nulls` boolean parameter to control the behaviour for missing data/rows;\n",
    "- the full syntax for the field mapper values is `(table, column [, column-specific admit nulls [, default to supply if None found]])`;\n",
    "- alternatively, the \"column\" can be any function of the row expressed as a dict: `(\"demo_users\", lambda row: row[\"user_name\"].upper())`.\n",
    "\n",
    "Please check the [documentation](https://github.com/CassioML/cassio/blob/main/src/cassio/db_reader/multi_table_cassandra_reader.py) for CassIO's `MultiTableCassandraReader` for more details."
   ]
  },
  {
   "cell_type": "markdown",
   "id": "2212af36-b595-4739-a2d0-929eac40d08b",
   "metadata": {},
   "source": [
    "### As Runnable"
   ]
  },
  {
   "cell_type": "markdown",
   "id": "18fcaba0-e93f-49d3-a27a-703efa6e2072",
   "metadata": {},
   "source": [
    "These prompt templates implement the Runnable interface and as such can be seamlessly integrated in broader chains:\n",
    "\n",
    "_(the next cells require OpenAI (`pip install langchain-openai`): make sure you have the `OPENAI_API_KEY` environment variable set as well)_"
   ]
  },
  {
   "cell_type": "code",
   "execution_count": null,
   "id": "8e154661-218d-441b-b3eb-82c046ddac4c",
   "metadata": {},
   "outputs": [],
   "source": [
    "import getpass\n",
    "import os\n",
    "\n",
    "if \"OPENAI_API_KEY\" not in os.environ:\n",
    "    os.environ[\"OPENAI_API_KEY\"] = getpass.getpass(\n",
    "        \"Please enter your OpenAI API Key ('sk-...'): \"\n",
    "    )"
   ]
  },
  {
   "cell_type": "code",
   "execution_count": null,
   "id": "da16ea06-abfe-47ed-91c6-b3836cf93d0a",
   "metadata": {},
   "outputs": [],
   "source": [
    "from langchain.schema.runnable import RunnableLambda\n",
    "from langchain_openai.llms import OpenAI"
   ]
  },
  {
   "cell_type": "code",
   "execution_count": null,
   "id": "9db14375-8b27-41fb-bf50-5a3c08b8cc20",
   "metadata": {},
   "outputs": [],
   "source": [
    "llm = OpenAI()\n",
    "\n",
    "\n",
    "def output_cleaner(raw_output: str):\n",
    "    return raw_output.strip().replace(\"\\n\", \" \")"
   ]
  },
  {
   "cell_type": "code",
   "execution_count": null,
   "id": "6eb3197a-da9c-47f1-81ed-6ac5c44d5d67",
   "metadata": {},
   "outputs": [],
   "source": [
    "chain = c_p_template | llm | RunnableLambda(output_cleaner)\n",
    "\n",
    "print(chain.invoke({\"user_id\": \"ann_smith\", \"adj\": \"very enthusiastic\"}))"
   ]
  },
  {
   "cell_type": "markdown",
   "id": "6fb17e5f-a397-49d4-86af-bb7a489aea88",
   "metadata": {},
   "source": [
    "## Feast prompt templates"
   ]
  },
  {
   "cell_type": "markdown",
   "id": "e657f0aa-370c-4832-b83e-25a3a0c775f8",
   "metadata": {},
   "source": [
    "Another prompt template bound to a source of data is the `FeastReaderPromptTemplate`,\n",
    "which behaves in a similar way as the Cassandra case seen so far. We are not going to detail\n",
    "the process steps (if you are a Feast user you will immediately figure out what to do), rather just show\n",
    "a usage example to get you started:"
   ]
  },
  {
   "cell_type": "code",
   "execution_count": null,
   "id": "0e289ea6-a224-4954-a844-dcf9cb273cf6",
   "metadata": {},
   "outputs": [],
   "source": [
    "from langchain_community.prompts import FeastReaderPromptTemplate"
   ]
  },
  {
   "cell_type": "code",
   "execution_count": null,
   "id": "a8b41e42-8f59-4251-92af-c39e6c03a269",
   "metadata": {},
   "outputs": [],
   "source": [
    "store = ...  # your Feast feature store\n",
    "my_prompt_string = ...\n",
    "\n",
    "ecommerce_template = FeastReaderPromptTemplate(\n",
    "    feature_store=store,\n",
    "    template=my_prompt_string,\n",
    "    input_variables=[\n",
    "        \"user_question\"\n",
    "    ],  # <-- additional, \"passthrough\" template variables\n",
    "    field_mapper={\n",
    "        # {\n",
    "        #    prompt_variable: (view_name, feature_name, [admit_nulls, [default]])\n",
    "        # }\n",
    "        \"age\": (\"user_data\", \"age\"),\n",
    "        \"purchases\": (\"user_data\", \"purchases\"),\n",
    "        \"visit_frequency\": (\"user_data\", \"visit_frequency\"),\n",
    "        \"active_cart\": (\"active_cart\", \"active_cart\"),\n",
    "    },\n",
    ")"
   ]
  },
  {
   "cell_type": "code",
   "execution_count": null,
   "id": "8df64f70-7755-454b-a20d-545b1ce24692",
   "metadata": {},
   "outputs": [],
   "source": [
    "ecommerce_template.format(\n",
    "    user_name=\"marilyn\",  # <-- \"join keys\" (one in this case) for the store\n",
    "    user_question=\"How to reach Support?\",  # <-- additional variables\n",
    ")"
   ]
  },
  {
   "cell_type": "markdown",
   "id": "cd2855af-3ee9-4446-b9aa-aebe486c9522",
   "metadata": {},
   "source": [
    "Additional control over defaults and the policy about items not found is available, similarly to the Cassandra template.\n",
    "\n",
    "This template supports partialing and implements the Runnable interface just like the Cassandra one.\n",
    "\n",
    "For more details, check out the expanded example on [cassio.org](https://cassio.org/frameworks/langchain/prompt-templates-feast)."
   ]
  },
  {
   "cell_type": "markdown",
   "id": "0323ab00-8978-4367-bc19-5050584289f9",
   "metadata": {},
   "source": [
    "## Other DB-bound templates"
   ]
  },
  {
   "cell_type": "markdown",
   "id": "a7ba719c-ba92-4044-bd1b-baf33ad2a7f9",
   "metadata": {},
   "source": [
    "This page aims not only at documenting the Cassandra and Feast ready-to-use \"DB-bound prompt templates\",\n",
    "but also serves as a guide to implementing your own custom such template, to better automate the very common\n",
    "operation of filling a prompt template with data from a database query.\n",
    "\n",
    "All that is needed is to prepare a suitable \"converter\" function, which will - in most cases - retain a reference\n",
    "to an external storage backend."
   ]
  },
  {
   "cell_type": "markdown",
   "id": "272516a2-3213-4338-befb-1cb43ff0a6e7",
   "metadata": {},
   "source": [
    "### Attribution statement\n",
    "\n",
    "> Apache Cassandra, Cassandra and Apache are either registered trademarks or trademarks of the [Apache Software Foundation](http://www.apache.org/) in the United States and/or other countries."
   ]
  }
 ],
 "metadata": {
  "kernelspec": {
   "display_name": "Python 3 (ipykernel)",
   "language": "python",
   "name": "python3"
  },
  "language_info": {
   "codemirror_mode": {
    "name": "ipython",
    "version": 3
   },
   "file_extension": ".py",
   "mimetype": "text/x-python",
   "name": "python",
   "nbconvert_exporter": "python",
   "pygments_lexer": "ipython3",
   "version": "3.9.18"
  }
 },
 "nbformat": 4,
 "nbformat_minor": 5
}
