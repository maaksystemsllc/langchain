{
 "cells": [
  {
   "cell_type": "markdown",
   "id": "5fbab4e7-2c5e-4682-8c97-bfada89d206f",
   "metadata": {},
   "source": [
    "# Classification"
   ]
  },
  {
   "cell_type": "markdown",
   "id": "0e135e18-f9b5-41d9-971d-f1c57a76add4",
   "metadata": {},
   "source": [
    "## Direct prompting"
   ]
  },
  {
   "cell_type": "markdown",
   "id": "cf9d74f6-f18c-4ceb-a21b-ef101a758816",
   "metadata": {},
   "source": [
    "## Function-calling"
   ]
  },
  {
   "cell_type": "markdown",
   "id": "81b3dd6a-c648-4930-98f3-733f0f0e5af7",
   "metadata": {},
   "source": [
    "## Logprobs"
   ]
  },
  {
   "cell_type": "code",
   "execution_count": 1,
   "id": "edd66c98-1146-4f34-8828-433553f55ab0",
   "metadata": {},
   "outputs": [],
   "source": [
    "from langchain_openai import ChatOpenAI"
   ]
  },
  {
   "cell_type": "code",
   "execution_count": 4,
   "id": "2e9f633e-5d2c-41dd-a1d1-f4b0230facca",
   "metadata": {},
   "outputs": [],
   "source": [
    "from langchain.chains.classification import create_openai_logprobs_classification_chain"
   ]
  },
  {
   "cell_type": "code",
   "execution_count": 5,
   "id": "107020bc-fadd-49ad-aa30-c5bee19d8f63",
   "metadata": {},
   "outputs": [
    {
     "data": {
      "text/plain": [
       "{'classification': 'D', 'confidence': 0.9996887772698445}"
      ]
     },
     "execution_count": 5,
     "metadata": {},
     "output_type": "execute_result"
    }
   ],
   "source": [
    "llm = ChatOpenAI(model=\"gpt-3.5-turbo\", temperature=0)\n",
    "classes = {\"C\": \"The input is about cats\", \"D\": \"The input is about dogs\"}\n",
    "chain = create_openai_logprobs_classification_chain(llm, classes)\n",
    "chain.invoke({\"input\": \"I really love my golden retriever\"})"
   ]
  },
  {
   "cell_type": "code",
   "execution_count": 6,
   "id": "c829152c-e113-4ae4-a628-10fc235c5bba",
   "metadata": {},
   "outputs": [
    {
     "data": {
      "text/plain": [
       "{'classification': 'C', 'confidence': 0.9997948118239739}"
      ]
     },
     "execution_count": 6,
     "metadata": {},
     "output_type": "execute_result"
    }
   ],
   "source": [
    "chain.invoke({\"input\": \"Aren't siamese just the best\"})"
   ]
  },
  {
   "cell_type": "code",
   "execution_count": 7,
   "id": "88bd9984-a050-4a1b-9707-b8f0994bd5b7",
   "metadata": {},
   "outputs": [
    {
     "data": {
      "text/plain": [
       "{'classification': 'C', 'confidence': 0.677221622476509}"
      ]
     },
     "execution_count": 7,
     "metadata": {},
     "output_type": "execute_result"
    }
   ],
   "source": [
    "chain.invoke({\"input\": \"They scratched up everything\"})"
   ]
  },
  {
   "cell_type": "code",
   "execution_count": null,
   "id": "246e36e0-3ca7-47e7-a46d-de9f1ea33c87",
   "metadata": {},
   "outputs": [],
   "source": []
  }
 ],
 "metadata": {
  "kernelspec": {
   "display_name": "poetry-venv",
   "language": "python",
   "name": "poetry-venv"
  },
  "language_info": {
   "codemirror_mode": {
    "name": "ipython",
    "version": 3
   },
   "file_extension": ".py",
   "mimetype": "text/x-python",
   "name": "python",
   "nbconvert_exporter": "python",
   "pygments_lexer": "ipython3",
   "version": "3.9.1"
  }
 },
 "nbformat": 4,
 "nbformat_minor": 5
}
