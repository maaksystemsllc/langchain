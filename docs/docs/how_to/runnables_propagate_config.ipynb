{
 "cells": [
  {
   "cell_type": "raw",
   "metadata": {},
   "source": [
    "---\n",
    "sidebar_position: 0\n",
    "keywords: [Runnable, Runnables, LCEL, RunnableConfig, runnable config]\n",
    "---"
   ]
  },
  {
   "attachments": {},
   "cell_type": "markdown",
   "metadata": {},
   "source": [
    "# How to propagate config\n",
    "\n",
    ":::info Prerequisites\n",
    "\n",
    "This guide assumes familiarity with the following concepts:\n",
    "\n",
    "- [LangChain Expression Language (LCEL)](/docs/concepts/#langchain-expression-language)\n",
    "- [LangChain RunnableConfig](/docs/concepts/#runnable-config)\n",
    ":::\n",
    "\n",
    "\n",
    "The [RunnableConfig](https://api.python.langchain.com/en/latest/runnables/langchain_core.runnables.config.RunnableConfig.html) dict contains run time configuration information that needs to be properly\n",
    "propagated throughout the entire chain. This config contains things like `callbacks` and user provided `tags` and `metadata`.\n",
    "\n",
    "If you're composing a chain entirely using LCEL, then `RunnableConfig` will be propagated automatically on your behalf.\n",
    "\n",
    "If you're using `RunnableLambda`, `RunnableGenerator` or `@tool` to create custom components, `langchain` will attempt to propagate callbacks on your behalf from those components to any child `Runnables` when possible.\n",
    "\n",
    ":::{.callout-important}\n",
    "\n",
    "If you're working in an `async` code base and are using `python<=3.10`, you will need to propagate `config` (or `callbacks`) manually since LangChain is unable to do this automatically.\n",
    "\n",
    ":::"
   ]
  },
  {
   "cell_type": "markdown",
   "metadata": {},
   "source": [
    "## Sync (All Python Versions)\n",
    "\n",
    "You should see that the custom callback is invoked twice!"
   ]
  },
  {
   "cell_type": "code",
   "execution_count": 1,
   "metadata": {},
   "outputs": [
    {
     "name": "stdout",
     "output_type": "stream",
     "text": [
      "---\n",
      "Invoking custom callback. Received inputs: hello\n",
      "---\n",
      "Invoking custom callback. Received inputs: goodbye\n",
      "---\n",
      "Inspect the config given to foo: `{'tags': ['hello'], 'metadata': {}, 'callbacks': <langchain_core.callbacks.manager.CallbackManager object at 0x7171772f1b90>, 'recursion_limit': 25}`\n"
     ]
    }
   ],
   "source": [
    "import asyncio\n",
    "from typing import Any, Dict, List\n",
    "\n",
    "from langchain_core.callbacks import BaseCallbackHandler\n",
    "from langchain_core.runnables import RunnableLambda\n",
    "\n",
    "\n",
    "class MyCustomHandler(BaseCallbackHandler):\n",
    "    \"\"\"Sync callback handler that can be used to handle callbacks from langchain.\"\"\"\n",
    "\n",
    "    def on_chain_start(\n",
    "        self,\n",
    "        serialized: Dict[str, Any],\n",
    "        inputs: Dict[str, Any],\n",
    "        **kwargs: Any,\n",
    "    ) -> None:\n",
    "        \"\"\"Run when chain starts running.\"\"\"\n",
    "        print(\"---\")\n",
    "        print(f\"Invoking custom callback. Received inputs: {inputs}\")\n",
    "\n",
    "\n",
    "@RunnableLambda\n",
    "def foo(\n",
    "    inputs, config\n",
    "):  # You don't need to have config. Using it just to print it out.\n",
    "    print(\"---\")\n",
    "    print(f\"Inspect the config given to foo: `{config}`\")\n",
    "    return \"world\"\n",
    "\n",
    "\n",
    "@RunnableLambda\n",
    "def bar(inputs):\n",
    "    return foo.invoke(\"goodbye\")\n",
    "\n",
    "\n",
    "bar.invoke(\"hello\", {\"callbacks\": [MyCustomHandler()], \"tags\": [\"hello\"]});"
   ]
  },
  {
   "cell_type": "markdown",
   "metadata": {},
   "source": [
    "## Async Python >=3.11\n",
    "\n",
    "The custom callback will be invoked twice!\n",
    "\n",
    "This code will work correctly even thought `bar` does not propagate config to `foo` does not propagate config!"
   ]
  },
  {
   "cell_type": "code",
   "execution_count": 2,
   "metadata": {},
   "outputs": [
    {
     "data": {
      "text/plain": [
       "'3.11.4 (main, Sep 25 2023, 10:06:23) [GCC 11.4.0]'"
      ]
     },
     "execution_count": 2,
     "metadata": {},
     "output_type": "execute_result"
    }
   ],
   "source": [
    "import sys\n",
    "\n",
    "sys.version"
   ]
  },
  {
   "cell_type": "code",
   "execution_count": 3,
   "metadata": {},
   "outputs": [
    {
     "name": "stdout",
     "output_type": "stream",
     "text": [
      "---\n",
      "Invoking custom callback. Received inputs: hello\n",
      "---\n",
      "Invoking custom callback. Received inputs: goodbye\n",
      "---\n",
      "Inspect the config given to foo: `{'tags': [], 'metadata': {}, 'callbacks': <langchain_core.callbacks.manager.AsyncCallbackManager object at 0x7171772feb50>, 'recursion_limit': 25}`\n"
     ]
    },
    {
     "data": {
      "text/plain": [
       "'world'"
      ]
     },
     "execution_count": 3,
     "metadata": {},
     "output_type": "execute_result"
    }
   ],
   "source": [
    "import asyncio\n",
    "from typing import Any, Dict, List\n",
    "\n",
    "from langchain_core.callbacks import AsyncCallbackHandler\n",
    "from langchain_core.runnables import RunnableLambda\n",
    "\n",
    "\n",
    "class AsyncMyCustomHandler(AsyncCallbackHandler):\n",
    "    \"\"\"Async callback handler that can be used to handle callbacks from langchain.\"\"\"\n",
    "\n",
    "    async def on_chain_start(\n",
    "        self,\n",
    "        serialized: Dict[str, Any],\n",
    "        inputs: Dict[str, Any],\n",
    "        **kwargs: Any,\n",
    "    ) -> None:\n",
    "        \"\"\"Run when chain starts running.\"\"\"\n",
    "        print(\"---\")\n",
    "        print(f\"Invoking custom callback. Received inputs: {inputs}\")\n",
    "\n",
    "\n",
    "@RunnableLambda\n",
    "async def foo(inputs, config):\n",
    "    print(\"---\")\n",
    "    print(f\"Inspect the config given to foo: `{config}`\")\n",
    "    return \"world\"\n",
    "\n",
    "\n",
    "@RunnableLambda\n",
    "async def bar(inputs):\n",
    "    return await foo.ainvoke(\"goodbye\")\n",
    "\n",
    "\n",
    "await bar.ainvoke(\"hello\", {\"callbacks\": [AsyncMyCustomHandler()]})"
   ]
  },
  {
   "cell_type": "markdown",
   "metadata": {},
   "source": [
    "## Async Python <=3.10\n",
    "\n",
    "### Incorrect\n",
    "\n",
    "This code will not work!"
   ]
  },
  {
   "cell_type": "code",
   "execution_count": 1,
   "metadata": {},
   "outputs": [
    {
     "data": {
      "text/plain": [
       "'3.9.6 (default, Sep 26 2023, 21:46:56) \\n[GCC 11.4.0]'"
      ]
     },
     "execution_count": 1,
     "metadata": {},
     "output_type": "execute_result"
    }
   ],
   "source": [
    "import sys\n",
    "\n",
    "sys.version"
   ]
  },
  {
   "cell_type": "code",
   "execution_count": 2,
   "metadata": {},
   "outputs": [
    {
     "name": "stdout",
     "output_type": "stream",
     "text": [
      "---\n",
      "Invoking custom callback. Recevied inputs: hello\n",
      "---\n",
      "Inspect the config given to foo: `{'tags': [], 'metadata': {}, 'callbacks': <langchain_core.callbacks.manager.AsyncCallbackManager object at 0x76f8f69eb700>, 'recursion_limit': 25}`\n"
     ]
    },
    {
     "data": {
      "text/plain": [
       "'world'"
      ]
     },
     "execution_count": 2,
     "metadata": {},
     "output_type": "execute_result"
    }
   ],
   "source": [
    "import asyncio\n",
    "from typing import Any, Dict, List\n",
    "\n",
    "from langchain_core.callbacks import AsyncCallbackHandler\n",
    "from langchain_core.runnables import RunnableLambda\n",
    "\n",
    "\n",
    "class AsyncMyCustomHandler(AsyncCallbackHandler):\n",
    "    \"\"\"Async callback handler that can be used to handle callbacks from langchain.\"\"\"\n",
    "\n",
    "    async def on_chain_start(\n",
    "        self,\n",
    "        serialized: Dict[str, Any],\n",
    "        inputs: Dict[str, Any],\n",
    "        **kwargs: Any,\n",
    "    ) -> None:\n",
    "        \"\"\"Run when chain starts running.\"\"\"\n",
    "        print(\"---\")\n",
    "        print(f\"Invoking custom callback. Recevied inputs: {inputs}\")\n",
    "\n",
    "\n",
    "@RunnableLambda\n",
    "async def foo(inputs, config):\n",
    "    print(\"---\")\n",
    "    print(f\"Inspect the config given to foo: `{config}`\")\n",
    "    return \"world\"\n",
    "\n",
    "\n",
    "@RunnableLambda\n",
    "async def bar(inputs):\n",
    "    return await foo.ainvoke(\"goodbye\")\n",
    "\n",
    "\n",
    "await bar.ainvoke(\"hello\", {\"callbacks\": [AsyncMyCustomHandler()]})"
   ]
  },
  {
   "cell_type": "markdown",
   "metadata": {},
   "source": [
    "### Correct\n",
    "\n",
    "This code will work correctly across all supported versions of python.\n",
    "\n",
    ":::{.callout-tip}\n",
    "\n",
    "This code exposes `config` and propagates it to child component as `foo.ainvoke('goodbye', config=config)`\n",
    ":::"
   ]
  },
  {
   "cell_type": "code",
   "execution_count": 3,
   "metadata": {},
   "outputs": [
    {
     "name": "stdout",
     "output_type": "stream",
     "text": [
      "---\n",
      "Invoking custom callback. Recevied inputs: hello\n",
      "---\n",
      "Invoking custom callback. Recevied inputs: goodbye\n",
      "---\n",
      "Inspect the config given to foo: `{'tags': ['meow'], 'metadata': {}, 'callbacks': <langchain_core.callbacks.manager.AsyncCallbackManager object at 0x76f90c796d00>, 'recursion_limit': 25}`\n"
     ]
    },
    {
     "data": {
      "text/plain": [
       "'world'"
      ]
     },
     "execution_count": 3,
     "metadata": {},
     "output_type": "execute_result"
    }
   ],
   "source": [
    "@RunnableLambda\n",
    "async def foo(inputs, config):\n",
    "    print(\"---\")\n",
    "    print(f\"Inspect the config given to foo: `{config}`\")\n",
    "    return \"world\"\n",
    "\n",
    "\n",
    "@RunnableLambda\n",
    "async def bar(inputs, config):\n",
    "    return await foo.ainvoke(\"goodbye\", config=config)\n",
    "\n",
    "\n",
    "await bar.ainvoke(\"hello\", {\"callbacks\": [AsyncMyCustomHandler()], \"tags\": [\"meow\"]})"
   ]
  }
 ],
 "metadata": {
  "kernelspec": {
   "display_name": "Python 3 (ipykernel)",
   "language": "python",
   "name": "python3"
  },
  "language_info": {
   "codemirror_mode": {
    "name": "ipython",
    "version": 3
   },
   "file_extension": ".py",
   "mimetype": "text/x-python",
   "name": "python",
   "nbconvert_exporter": "python",
   "pygments_lexer": "ipython3",
   "version": "3.9.6"
  }
 },
 "nbformat": 4,
 "nbformat_minor": 4
}
