{
 "cells": [
  {
   "cell_type": "markdown",
   "metadata": {},
   "source": [
    "# Kinetica\n",
    "\n",
    "[Kinetica](https://www.kinetica.com/) is a real-time database purpose built for enabling\n",
    "analytics and generative AI on time-series & spatial data."
   ]
  },
  {
   "cell_type": "markdown",
   "metadata": {},
   "source": [
    "## Chat Model\n",
    "\n",
    "The Kinetica LLM wrapper uses the [Kinetica SqlAssist\n",
    "LLM](https://docs.kinetica.com/7.2/sql-gpt/concepts/) to transform natural language into\n",
    "SQL to simplify the process of data retrieval."
   ]
  },
  {
   "cell_type": "code",
   "execution_count": 2,
   "metadata": {
    "id": "y8ku6X96sebl"
   },
   "outputs": [],
   "source": [
    "from langchain_kinetica.chat_models import ChatKinetica"
   ]
  },
  {
   "cell_type": "markdown",
   "metadata": {},
   "source": [
    "## Vector Store\n",
    "\n",
    "The Kinetca vectorstore wrapper leverages Kinetica's native support for [vector\n",
    "similarity search](https://docs.kinetica.com/7.2/vector_search/)."
   ]
  },
  {
   "cell_type": "code",
   "execution_count": null,
   "metadata": {},
   "outputs": [],
   "source": [
    "from langchain_kinetica.vectorstores import KineticaVectorStore"
   ]
  }
 ],
 "metadata": {
  "colab": {
   "provenance": []
  },
  "kernelspec": {
   "display_name": "Python 3 (ipykernel)",
   "language": "python",
   "name": "python3"
  },
  "language_info": {
   "codemirror_mode": {
    "name": "ipython",
    "version": 3
   },
   "file_extension": ".py",
   "mimetype": "text/x-python",
   "name": "python",
   "nbconvert_exporter": "python",
   "pygments_lexer": "ipython3",
   "version": "3.10.11"
  }
 },
 "nbformat": 4,
 "nbformat_minor": 1
}
